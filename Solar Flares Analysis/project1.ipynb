{
 "metadata": {
  "language_info": {
   "codemirror_mode": {
    "name": "ipython",
    "version": 3
   },
   "file_extension": ".py",
   "mimetype": "text/x-python",
   "name": "python",
   "nbconvert_exporter": "python",
   "pygments_lexer": "ipython3",
   "version": "3.8.3-final"
  },
  "orig_nbformat": 2,
  "kernelspec": {
   "name": "python3",
   "display_name": "Python 3.8.3 64-bit (conda)",
   "metadata": {
    "interpreter": {
     "hash": "3e2f22c82298cdecfba214ecc7ad405895ca1caa137f162128f2cdafd0dadf56"
    }
   }
  }
 },
 "nbformat": 4,
 "nbformat_minor": 2,
 "cells": [
  {
   "source": [
    "# Project 1: Solar Flares\n",
    "## By Alejandro Rigau\n",
    "### 3/4/2021\n",
    "\n",
    "---\n",
    "\n",
    "# Part 1: Data scraping and preparation\n",
    "\n",
    "## Step 1: Scrape your competitor's data\n",
    "Here I use the html parser from BeautifulSoup to get the html from the page. From there, I find the table, and then load it to a pandas dataframe. "
   ],
   "cell_type": "markdown",
   "metadata": {}
  },
  {
   "cell_type": "code",
   "execution_count": 1,
   "metadata": {},
   "outputs": [],
   "source": [
    "import requests\n",
    "import pandas as pd\n",
    "import numpy as np\n",
    "import datetime #for step 2\n",
    "from bs4 import BeautifulSoup"
   ]
  },
  {
   "cell_type": "code",
   "execution_count": 2,
   "metadata": {},
   "outputs": [],
   "source": [
    "url = 'https://cmsc320.github.io/files/top-50-solar-flares.html'\n",
    "page = requests.get(url)\n",
    "soup = BeautifulSoup(page.text, 'html.parser')"
   ]
  },
  {
   "cell_type": "code",
   "execution_count": 3,
   "metadata": {
    "tags": []
   },
   "outputs": [],
   "source": [
    "# print(soup.prettify())"
   ]
  },
  {
   "cell_type": "code",
   "execution_count": 4,
   "metadata": {
    "tags": []
   },
   "outputs": [],
   "source": [
    "table = soup.find('table')\n",
    "# print(table)"
   ]
  },
  {
   "cell_type": "code",
   "execution_count": 5,
   "metadata": {},
   "outputs": [
    {
     "output_type": "execute_result",
     "data": {
      "text/plain": [
       "    rank x_classification        date  region start_time maximum_time  \\\n",
       "0      1             X28+  2003/11/04     486      19:29        19:53   \n",
       "1      2             X20+  2001/04/02    9393      21:32        21:51   \n",
       "2      3           X17.2+  2003/10/28     486      09:51        11:10   \n",
       "3      4             X17+  2005/09/07     808      17:17        17:40   \n",
       "4      5            X14.4  2001/04/15    9415      13:19        13:50   \n",
       "5      6              X10  2003/10/29     486      20:37        20:49   \n",
       "6      7             X9.4  1997/11/06    8100      11:49        11:55   \n",
       "7      8             X9.3  2017/09/06    2673      11:53        12:02   \n",
       "8      9               X9  2006/12/05     930      10:18        10:35   \n",
       "9     10             X8.3  2003/11/02     486      17:03        17:25   \n",
       "10    11             X8.2  2017/09/10    2673      15:35        16:06   \n",
       "11    12             X7.1  2005/01/20     720      06:36        07:01   \n",
       "12    13             X6.9  2011/08/09    1263      07:48        08:05   \n",
       "13    14             X6.5  2006/12/06     930      18:29        18:47   \n",
       "14    15             X6.2  2005/09/09     808      19:13        20:04   \n",
       "15    16             X6.2  2001/12/13    9733      14:20        14:30   \n",
       "16    17             X5.7  2000/07/14    9077      10:03        10:24   \n",
       "17    18             X5.6  2001/04/06    9415      19:10        19:21   \n",
       "18    19             X5.4  2012/03/07    1429      00:02        00:24   \n",
       "19    20             X5.4  2005/09/08     808      20:52        21:06   \n",
       "20    21             X5.4  2003/10/23     486      08:19        08:35   \n",
       "21    22             X5.3  2001/08/25    9591      16:23        16:45   \n",
       "22    23             X4.9  2014/02/25    1990      00:39        00:49   \n",
       "23    24             X4.9  1998/08/18    8307      22:10        22:19   \n",
       "24    25             X4.8  2002/07/23      39      00:18        00:35   \n",
       "25    26               X4  2000/11/26    9236      16:34        16:48   \n",
       "26    27             X3.9  2003/11/03     488      09:43        09:55   \n",
       "27    28             X3.9  1998/08/19    8307      21:35        21:45   \n",
       "28    29             X3.8  2005/01/17     720      06:59        09:52   \n",
       "29    30             X3.7  1998/11/22    8384      06:30        06:42   \n",
       "30    31             X3.6  2005/09/09     808      09:42        09:59   \n",
       "31    32             X3.6  2004/07/16     649      13:49        13:55   \n",
       "32    33             X3.6  2003/05/28     365      00:17        00:27   \n",
       "33    34             X3.4  2006/12/13     930      02:14        02:40   \n",
       "34    35             X3.4  2001/12/28    9767      20:02        20:45   \n",
       "35    36             X3.3  2013/11/05    1890      22:07        22:12   \n",
       "36    37             X3.3  2002/07/20      39      21:04        21:30   \n",
       "37    38             X3.3  1998/11/28    8395      04:54        05:52   \n",
       "38    39             X3.2  2013/05/14    1748      00:00        01:11   \n",
       "39    40             X3.1  2014/10/24    2192      21:07        21:41   \n",
       "40    41             X3.1  2002/08/24      69      00:49        01:12   \n",
       "41    42               X3  2002/07/15      30      19:59        20:08   \n",
       "42    43             X2.8  2013/05/13    1748      15:48        16:05   \n",
       "43    44             X2.8  2001/12/11    9733      07:58        08:08   \n",
       "44    45             X2.8  1998/08/18    8307      08:14        08:24   \n",
       "45    46             X2.7  2015/05/05    2339      22:05        22:11   \n",
       "46    47             X2.7  2003/11/03     488      01:09        01:30   \n",
       "47    48             X2.7  1998/05/06    8210      07:58        08:09   \n",
       "48    49             X2.6  2005/01/15     720      22:25        23:02   \n",
       "49    50             X2.6  2001/09/24    9632      09:32        10:38   \n",
       "\n",
       "   end_time              movie  \n",
       "0     20:06  MovieView archive  \n",
       "1     22:03  MovieView archive  \n",
       "2     11:24  MovieView archive  \n",
       "3     18:03  MovieView archive  \n",
       "4     13:55  MovieView archive  \n",
       "5     21:01  MovieView archive  \n",
       "6     12:01  MovieView archive  \n",
       "7     12:10  MovieView archive  \n",
       "8     10:45  MovieView archive  \n",
       "9     17:39  MovieView archive  \n",
       "10    16:31  MovieView archive  \n",
       "11    07:26  MovieView archive  \n",
       "12    08:08  MovieView archive  \n",
       "13    19:00  MovieView archive  \n",
       "14    20:36  MovieView archive  \n",
       "15    14:35  MovieView archive  \n",
       "16    10:43  MovieView archive  \n",
       "17    19:31  MovieView archive  \n",
       "18    00:40  MovieView archive  \n",
       "19    21:17  MovieView archive  \n",
       "20    08:49  MovieView archive  \n",
       "21    17:04  MovieView archive  \n",
       "22    01:03  MovieView archive  \n",
       "23    22:28       View archive  \n",
       "24    00:47  MovieView archive  \n",
       "25    16:56  MovieView archive  \n",
       "26    10:19  MovieView archive  \n",
       "27    21:50       View archive  \n",
       "28    10:07  MovieView archive  \n",
       "29    06:49  MovieView archive  \n",
       "30    10:08  MovieView archive  \n",
       "31    14:01  MovieView archive  \n",
       "32    00:39  MovieView archive  \n",
       "33    02:57  MovieView archive  \n",
       "34    21:32  MovieView archive  \n",
       "35    22:15  MovieView archive  \n",
       "36    21:54  MovieView archive  \n",
       "37    06:13  MovieView archive  \n",
       "38    01:20  MovieView archive  \n",
       "39    22:13  MovieView archive  \n",
       "40    01:31  MovieView archive  \n",
       "41    20:14  MovieView archive  \n",
       "42    16:16  MovieView archive  \n",
       "43    08:14  MovieView archive  \n",
       "44    08:32       View archive  \n",
       "45    22:15  MovieView archive  \n",
       "46    01:45  MovieView archive  \n",
       "47    08:20  MovieView archive  \n",
       "48    23:31  MovieView archive  \n",
       "49    11:09  MovieView archive  "
      ],
      "text/html": "<div>\n<style scoped>\n    .dataframe tbody tr th:only-of-type {\n        vertical-align: middle;\n    }\n\n    .dataframe tbody tr th {\n        vertical-align: top;\n    }\n\n    .dataframe thead th {\n        text-align: right;\n    }\n</style>\n<table border=\"1\" class=\"dataframe\">\n  <thead>\n    <tr style=\"text-align: right;\">\n      <th></th>\n      <th>rank</th>\n      <th>x_classification</th>\n      <th>date</th>\n      <th>region</th>\n      <th>start_time</th>\n      <th>maximum_time</th>\n      <th>end_time</th>\n      <th>movie</th>\n    </tr>\n  </thead>\n  <tbody>\n    <tr>\n      <th>0</th>\n      <td>1</td>\n      <td>X28+</td>\n      <td>2003/11/04</td>\n      <td>486</td>\n      <td>19:29</td>\n      <td>19:53</td>\n      <td>20:06</td>\n      <td>MovieView archive</td>\n    </tr>\n    <tr>\n      <th>1</th>\n      <td>2</td>\n      <td>X20+</td>\n      <td>2001/04/02</td>\n      <td>9393</td>\n      <td>21:32</td>\n      <td>21:51</td>\n      <td>22:03</td>\n      <td>MovieView archive</td>\n    </tr>\n    <tr>\n      <th>2</th>\n      <td>3</td>\n      <td>X17.2+</td>\n      <td>2003/10/28</td>\n      <td>486</td>\n      <td>09:51</td>\n      <td>11:10</td>\n      <td>11:24</td>\n      <td>MovieView archive</td>\n    </tr>\n    <tr>\n      <th>3</th>\n      <td>4</td>\n      <td>X17+</td>\n      <td>2005/09/07</td>\n      <td>808</td>\n      <td>17:17</td>\n      <td>17:40</td>\n      <td>18:03</td>\n      <td>MovieView archive</td>\n    </tr>\n    <tr>\n      <th>4</th>\n      <td>5</td>\n      <td>X14.4</td>\n      <td>2001/04/15</td>\n      <td>9415</td>\n      <td>13:19</td>\n      <td>13:50</td>\n      <td>13:55</td>\n      <td>MovieView archive</td>\n    </tr>\n    <tr>\n      <th>5</th>\n      <td>6</td>\n      <td>X10</td>\n      <td>2003/10/29</td>\n      <td>486</td>\n      <td>20:37</td>\n      <td>20:49</td>\n      <td>21:01</td>\n      <td>MovieView archive</td>\n    </tr>\n    <tr>\n      <th>6</th>\n      <td>7</td>\n      <td>X9.4</td>\n      <td>1997/11/06</td>\n      <td>8100</td>\n      <td>11:49</td>\n      <td>11:55</td>\n      <td>12:01</td>\n      <td>MovieView archive</td>\n    </tr>\n    <tr>\n      <th>7</th>\n      <td>8</td>\n      <td>X9.3</td>\n      <td>2017/09/06</td>\n      <td>2673</td>\n      <td>11:53</td>\n      <td>12:02</td>\n      <td>12:10</td>\n      <td>MovieView archive</td>\n    </tr>\n    <tr>\n      <th>8</th>\n      <td>9</td>\n      <td>X9</td>\n      <td>2006/12/05</td>\n      <td>930</td>\n      <td>10:18</td>\n      <td>10:35</td>\n      <td>10:45</td>\n      <td>MovieView archive</td>\n    </tr>\n    <tr>\n      <th>9</th>\n      <td>10</td>\n      <td>X8.3</td>\n      <td>2003/11/02</td>\n      <td>486</td>\n      <td>17:03</td>\n      <td>17:25</td>\n      <td>17:39</td>\n      <td>MovieView archive</td>\n    </tr>\n    <tr>\n      <th>10</th>\n      <td>11</td>\n      <td>X8.2</td>\n      <td>2017/09/10</td>\n      <td>2673</td>\n      <td>15:35</td>\n      <td>16:06</td>\n      <td>16:31</td>\n      <td>MovieView archive</td>\n    </tr>\n    <tr>\n      <th>11</th>\n      <td>12</td>\n      <td>X7.1</td>\n      <td>2005/01/20</td>\n      <td>720</td>\n      <td>06:36</td>\n      <td>07:01</td>\n      <td>07:26</td>\n      <td>MovieView archive</td>\n    </tr>\n    <tr>\n      <th>12</th>\n      <td>13</td>\n      <td>X6.9</td>\n      <td>2011/08/09</td>\n      <td>1263</td>\n      <td>07:48</td>\n      <td>08:05</td>\n      <td>08:08</td>\n      <td>MovieView archive</td>\n    </tr>\n    <tr>\n      <th>13</th>\n      <td>14</td>\n      <td>X6.5</td>\n      <td>2006/12/06</td>\n      <td>930</td>\n      <td>18:29</td>\n      <td>18:47</td>\n      <td>19:00</td>\n      <td>MovieView archive</td>\n    </tr>\n    <tr>\n      <th>14</th>\n      <td>15</td>\n      <td>X6.2</td>\n      <td>2005/09/09</td>\n      <td>808</td>\n      <td>19:13</td>\n      <td>20:04</td>\n      <td>20:36</td>\n      <td>MovieView archive</td>\n    </tr>\n    <tr>\n      <th>15</th>\n      <td>16</td>\n      <td>X6.2</td>\n      <td>2001/12/13</td>\n      <td>9733</td>\n      <td>14:20</td>\n      <td>14:30</td>\n      <td>14:35</td>\n      <td>MovieView archive</td>\n    </tr>\n    <tr>\n      <th>16</th>\n      <td>17</td>\n      <td>X5.7</td>\n      <td>2000/07/14</td>\n      <td>9077</td>\n      <td>10:03</td>\n      <td>10:24</td>\n      <td>10:43</td>\n      <td>MovieView archive</td>\n    </tr>\n    <tr>\n      <th>17</th>\n      <td>18</td>\n      <td>X5.6</td>\n      <td>2001/04/06</td>\n      <td>9415</td>\n      <td>19:10</td>\n      <td>19:21</td>\n      <td>19:31</td>\n      <td>MovieView archive</td>\n    </tr>\n    <tr>\n      <th>18</th>\n      <td>19</td>\n      <td>X5.4</td>\n      <td>2012/03/07</td>\n      <td>1429</td>\n      <td>00:02</td>\n      <td>00:24</td>\n      <td>00:40</td>\n      <td>MovieView archive</td>\n    </tr>\n    <tr>\n      <th>19</th>\n      <td>20</td>\n      <td>X5.4</td>\n      <td>2005/09/08</td>\n      <td>808</td>\n      <td>20:52</td>\n      <td>21:06</td>\n      <td>21:17</td>\n      <td>MovieView archive</td>\n    </tr>\n    <tr>\n      <th>20</th>\n      <td>21</td>\n      <td>X5.4</td>\n      <td>2003/10/23</td>\n      <td>486</td>\n      <td>08:19</td>\n      <td>08:35</td>\n      <td>08:49</td>\n      <td>MovieView archive</td>\n    </tr>\n    <tr>\n      <th>21</th>\n      <td>22</td>\n      <td>X5.3</td>\n      <td>2001/08/25</td>\n      <td>9591</td>\n      <td>16:23</td>\n      <td>16:45</td>\n      <td>17:04</td>\n      <td>MovieView archive</td>\n    </tr>\n    <tr>\n      <th>22</th>\n      <td>23</td>\n      <td>X4.9</td>\n      <td>2014/02/25</td>\n      <td>1990</td>\n      <td>00:39</td>\n      <td>00:49</td>\n      <td>01:03</td>\n      <td>MovieView archive</td>\n    </tr>\n    <tr>\n      <th>23</th>\n      <td>24</td>\n      <td>X4.9</td>\n      <td>1998/08/18</td>\n      <td>8307</td>\n      <td>22:10</td>\n      <td>22:19</td>\n      <td>22:28</td>\n      <td>View archive</td>\n    </tr>\n    <tr>\n      <th>24</th>\n      <td>25</td>\n      <td>X4.8</td>\n      <td>2002/07/23</td>\n      <td>39</td>\n      <td>00:18</td>\n      <td>00:35</td>\n      <td>00:47</td>\n      <td>MovieView archive</td>\n    </tr>\n    <tr>\n      <th>25</th>\n      <td>26</td>\n      <td>X4</td>\n      <td>2000/11/26</td>\n      <td>9236</td>\n      <td>16:34</td>\n      <td>16:48</td>\n      <td>16:56</td>\n      <td>MovieView archive</td>\n    </tr>\n    <tr>\n      <th>26</th>\n      <td>27</td>\n      <td>X3.9</td>\n      <td>2003/11/03</td>\n      <td>488</td>\n      <td>09:43</td>\n      <td>09:55</td>\n      <td>10:19</td>\n      <td>MovieView archive</td>\n    </tr>\n    <tr>\n      <th>27</th>\n      <td>28</td>\n      <td>X3.9</td>\n      <td>1998/08/19</td>\n      <td>8307</td>\n      <td>21:35</td>\n      <td>21:45</td>\n      <td>21:50</td>\n      <td>View archive</td>\n    </tr>\n    <tr>\n      <th>28</th>\n      <td>29</td>\n      <td>X3.8</td>\n      <td>2005/01/17</td>\n      <td>720</td>\n      <td>06:59</td>\n      <td>09:52</td>\n      <td>10:07</td>\n      <td>MovieView archive</td>\n    </tr>\n    <tr>\n      <th>29</th>\n      <td>30</td>\n      <td>X3.7</td>\n      <td>1998/11/22</td>\n      <td>8384</td>\n      <td>06:30</td>\n      <td>06:42</td>\n      <td>06:49</td>\n      <td>MovieView archive</td>\n    </tr>\n    <tr>\n      <th>30</th>\n      <td>31</td>\n      <td>X3.6</td>\n      <td>2005/09/09</td>\n      <td>808</td>\n      <td>09:42</td>\n      <td>09:59</td>\n      <td>10:08</td>\n      <td>MovieView archive</td>\n    </tr>\n    <tr>\n      <th>31</th>\n      <td>32</td>\n      <td>X3.6</td>\n      <td>2004/07/16</td>\n      <td>649</td>\n      <td>13:49</td>\n      <td>13:55</td>\n      <td>14:01</td>\n      <td>MovieView archive</td>\n    </tr>\n    <tr>\n      <th>32</th>\n      <td>33</td>\n      <td>X3.6</td>\n      <td>2003/05/28</td>\n      <td>365</td>\n      <td>00:17</td>\n      <td>00:27</td>\n      <td>00:39</td>\n      <td>MovieView archive</td>\n    </tr>\n    <tr>\n      <th>33</th>\n      <td>34</td>\n      <td>X3.4</td>\n      <td>2006/12/13</td>\n      <td>930</td>\n      <td>02:14</td>\n      <td>02:40</td>\n      <td>02:57</td>\n      <td>MovieView archive</td>\n    </tr>\n    <tr>\n      <th>34</th>\n      <td>35</td>\n      <td>X3.4</td>\n      <td>2001/12/28</td>\n      <td>9767</td>\n      <td>20:02</td>\n      <td>20:45</td>\n      <td>21:32</td>\n      <td>MovieView archive</td>\n    </tr>\n    <tr>\n      <th>35</th>\n      <td>36</td>\n      <td>X3.3</td>\n      <td>2013/11/05</td>\n      <td>1890</td>\n      <td>22:07</td>\n      <td>22:12</td>\n      <td>22:15</td>\n      <td>MovieView archive</td>\n    </tr>\n    <tr>\n      <th>36</th>\n      <td>37</td>\n      <td>X3.3</td>\n      <td>2002/07/20</td>\n      <td>39</td>\n      <td>21:04</td>\n      <td>21:30</td>\n      <td>21:54</td>\n      <td>MovieView archive</td>\n    </tr>\n    <tr>\n      <th>37</th>\n      <td>38</td>\n      <td>X3.3</td>\n      <td>1998/11/28</td>\n      <td>8395</td>\n      <td>04:54</td>\n      <td>05:52</td>\n      <td>06:13</td>\n      <td>MovieView archive</td>\n    </tr>\n    <tr>\n      <th>38</th>\n      <td>39</td>\n      <td>X3.2</td>\n      <td>2013/05/14</td>\n      <td>1748</td>\n      <td>00:00</td>\n      <td>01:11</td>\n      <td>01:20</td>\n      <td>MovieView archive</td>\n    </tr>\n    <tr>\n      <th>39</th>\n      <td>40</td>\n      <td>X3.1</td>\n      <td>2014/10/24</td>\n      <td>2192</td>\n      <td>21:07</td>\n      <td>21:41</td>\n      <td>22:13</td>\n      <td>MovieView archive</td>\n    </tr>\n    <tr>\n      <th>40</th>\n      <td>41</td>\n      <td>X3.1</td>\n      <td>2002/08/24</td>\n      <td>69</td>\n      <td>00:49</td>\n      <td>01:12</td>\n      <td>01:31</td>\n      <td>MovieView archive</td>\n    </tr>\n    <tr>\n      <th>41</th>\n      <td>42</td>\n      <td>X3</td>\n      <td>2002/07/15</td>\n      <td>30</td>\n      <td>19:59</td>\n      <td>20:08</td>\n      <td>20:14</td>\n      <td>MovieView archive</td>\n    </tr>\n    <tr>\n      <th>42</th>\n      <td>43</td>\n      <td>X2.8</td>\n      <td>2013/05/13</td>\n      <td>1748</td>\n      <td>15:48</td>\n      <td>16:05</td>\n      <td>16:16</td>\n      <td>MovieView archive</td>\n    </tr>\n    <tr>\n      <th>43</th>\n      <td>44</td>\n      <td>X2.8</td>\n      <td>2001/12/11</td>\n      <td>9733</td>\n      <td>07:58</td>\n      <td>08:08</td>\n      <td>08:14</td>\n      <td>MovieView archive</td>\n    </tr>\n    <tr>\n      <th>44</th>\n      <td>45</td>\n      <td>X2.8</td>\n      <td>1998/08/18</td>\n      <td>8307</td>\n      <td>08:14</td>\n      <td>08:24</td>\n      <td>08:32</td>\n      <td>View archive</td>\n    </tr>\n    <tr>\n      <th>45</th>\n      <td>46</td>\n      <td>X2.7</td>\n      <td>2015/05/05</td>\n      <td>2339</td>\n      <td>22:05</td>\n      <td>22:11</td>\n      <td>22:15</td>\n      <td>MovieView archive</td>\n    </tr>\n    <tr>\n      <th>46</th>\n      <td>47</td>\n      <td>X2.7</td>\n      <td>2003/11/03</td>\n      <td>488</td>\n      <td>01:09</td>\n      <td>01:30</td>\n      <td>01:45</td>\n      <td>MovieView archive</td>\n    </tr>\n    <tr>\n      <th>47</th>\n      <td>48</td>\n      <td>X2.7</td>\n      <td>1998/05/06</td>\n      <td>8210</td>\n      <td>07:58</td>\n      <td>08:09</td>\n      <td>08:20</td>\n      <td>MovieView archive</td>\n    </tr>\n    <tr>\n      <th>48</th>\n      <td>49</td>\n      <td>X2.6</td>\n      <td>2005/01/15</td>\n      <td>720</td>\n      <td>22:25</td>\n      <td>23:02</td>\n      <td>23:31</td>\n      <td>MovieView archive</td>\n    </tr>\n    <tr>\n      <th>49</th>\n      <td>50</td>\n      <td>X2.6</td>\n      <td>2001/09/24</td>\n      <td>9632</td>\n      <td>09:32</td>\n      <td>10:38</td>\n      <td>11:09</td>\n      <td>MovieView archive</td>\n    </tr>\n  </tbody>\n</table>\n</div>"
     },
     "metadata": {},
     "execution_count": 5
    }
   ],
   "source": [
    "space = pd.read_html(str(table))[0]\n",
    "space.columns = [\"rank\", \"x_classification\", \"date\", \"region\", \"start_time\", \"maximum_time\", \"end_time\", \"movie\"]\n",
    "space"
   ]
  },
  {
   "source": [
    "## Step 2: Tidy the top 50 solar flare data\n",
    "### 2.1 Dropping movie"
   ],
   "cell_type": "markdown",
   "metadata": {}
  },
  {
   "cell_type": "code",
   "execution_count": 6,
   "metadata": {},
   "outputs": [
    {
     "output_type": "execute_result",
     "data": {
      "text/plain": [
       "   rank x_classification        date  region start_time maximum_time end_time\n",
       "0     1             X28+  2003/11/04     486      19:29        19:53    20:06\n",
       "1     2             X20+  2001/04/02    9393      21:32        21:51    22:03"
      ],
      "text/html": "<div>\n<style scoped>\n    .dataframe tbody tr th:only-of-type {\n        vertical-align: middle;\n    }\n\n    .dataframe tbody tr th {\n        vertical-align: top;\n    }\n\n    .dataframe thead th {\n        text-align: right;\n    }\n</style>\n<table border=\"1\" class=\"dataframe\">\n  <thead>\n    <tr style=\"text-align: right;\">\n      <th></th>\n      <th>rank</th>\n      <th>x_classification</th>\n      <th>date</th>\n      <th>region</th>\n      <th>start_time</th>\n      <th>maximum_time</th>\n      <th>end_time</th>\n    </tr>\n  </thead>\n  <tbody>\n    <tr>\n      <th>0</th>\n      <td>1</td>\n      <td>X28+</td>\n      <td>2003/11/04</td>\n      <td>486</td>\n      <td>19:29</td>\n      <td>19:53</td>\n      <td>20:06</td>\n    </tr>\n    <tr>\n      <th>1</th>\n      <td>2</td>\n      <td>X20+</td>\n      <td>2001/04/02</td>\n      <td>9393</td>\n      <td>21:32</td>\n      <td>21:51</td>\n      <td>22:03</td>\n    </tr>\n  </tbody>\n</table>\n</div>"
     },
     "metadata": {},
     "execution_count": 6
    }
   ],
   "source": [
    "space = space.drop('movie', 1)\n",
    "space.head(2)"
   ]
  },
  {
   "source": [
    "### 2.2 and 2.3 Date time combination\n",
    "Here I add the strings from date and the clock time and use the to_datetime function to automatically generate the correct format and then drop the unnecessary columns."
   ],
   "cell_type": "markdown",
   "metadata": {}
  },
  {
   "cell_type": "code",
   "execution_count": 7,
   "metadata": {},
   "outputs": [],
   "source": [
    "space['start_datetime'] = pd.to_datetime(space['date']+ \" \" +space['start_time'])\n",
    "space['max_datetime'] = pd.to_datetime(space['date']+ \" \" +space['maximum_time'])\n",
    "space['end_datetime'] = pd.to_datetime(space['date']+ \" \" +space['end_time'])\n",
    "space = space.drop('start_time', 1)\n",
    "space = space.drop('maximum_time', 1)\n",
    "space = space.drop('end_time', 1)\n",
    "space = space.drop('date', 1)\n",
    "\n",
    "temp = space['region'] # basically moving it to the end\n",
    "space = space.drop('region', 1)\n",
    "space['region'] = temp"
   ]
  },
  {
   "source": [
    "### 2.4 drop nan\n",
    "Here I use standard pandas function to replace all '-' in the dataset. Lastly, I print out my final dataframe for this part."
   ],
   "cell_type": "markdown",
   "metadata": {}
  },
  {
   "cell_type": "code",
   "execution_count": 8,
   "metadata": {},
   "outputs": [],
   "source": [
    "space = space.replace('-', np.nan) #step 2.4"
   ]
  },
  {
   "cell_type": "code",
   "execution_count": 9,
   "metadata": {},
   "outputs": [
    {
     "output_type": "execute_result",
     "data": {
      "text/plain": [
       "    rank x_classification      start_datetime        max_datetime  \\\n",
       "0      1             X28+ 2003-11-04 19:29:00 2003-11-04 19:53:00   \n",
       "1      2             X20+ 2001-04-02 21:32:00 2001-04-02 21:51:00   \n",
       "2      3           X17.2+ 2003-10-28 09:51:00 2003-10-28 11:10:00   \n",
       "3      4             X17+ 2005-09-07 17:17:00 2005-09-07 17:40:00   \n",
       "4      5            X14.4 2001-04-15 13:19:00 2001-04-15 13:50:00   \n",
       "5      6              X10 2003-10-29 20:37:00 2003-10-29 20:49:00   \n",
       "6      7             X9.4 1997-11-06 11:49:00 1997-11-06 11:55:00   \n",
       "7      8             X9.3 2017-09-06 11:53:00 2017-09-06 12:02:00   \n",
       "8      9               X9 2006-12-05 10:18:00 2006-12-05 10:35:00   \n",
       "9     10             X8.3 2003-11-02 17:03:00 2003-11-02 17:25:00   \n",
       "10    11             X8.2 2017-09-10 15:35:00 2017-09-10 16:06:00   \n",
       "11    12             X7.1 2005-01-20 06:36:00 2005-01-20 07:01:00   \n",
       "12    13             X6.9 2011-08-09 07:48:00 2011-08-09 08:05:00   \n",
       "13    14             X6.5 2006-12-06 18:29:00 2006-12-06 18:47:00   \n",
       "14    15             X6.2 2005-09-09 19:13:00 2005-09-09 20:04:00   \n",
       "15    16             X6.2 2001-12-13 14:20:00 2001-12-13 14:30:00   \n",
       "16    17             X5.7 2000-07-14 10:03:00 2000-07-14 10:24:00   \n",
       "17    18             X5.6 2001-04-06 19:10:00 2001-04-06 19:21:00   \n",
       "18    19             X5.4 2012-03-07 00:02:00 2012-03-07 00:24:00   \n",
       "19    20             X5.4 2005-09-08 20:52:00 2005-09-08 21:06:00   \n",
       "20    21             X5.4 2003-10-23 08:19:00 2003-10-23 08:35:00   \n",
       "21    22             X5.3 2001-08-25 16:23:00 2001-08-25 16:45:00   \n",
       "22    23             X4.9 2014-02-25 00:39:00 2014-02-25 00:49:00   \n",
       "23    24             X4.9 1998-08-18 22:10:00 1998-08-18 22:19:00   \n",
       "24    25             X4.8 2002-07-23 00:18:00 2002-07-23 00:35:00   \n",
       "25    26               X4 2000-11-26 16:34:00 2000-11-26 16:48:00   \n",
       "26    27             X3.9 2003-11-03 09:43:00 2003-11-03 09:55:00   \n",
       "27    28             X3.9 1998-08-19 21:35:00 1998-08-19 21:45:00   \n",
       "28    29             X3.8 2005-01-17 06:59:00 2005-01-17 09:52:00   \n",
       "29    30             X3.7 1998-11-22 06:30:00 1998-11-22 06:42:00   \n",
       "30    31             X3.6 2005-09-09 09:42:00 2005-09-09 09:59:00   \n",
       "31    32             X3.6 2004-07-16 13:49:00 2004-07-16 13:55:00   \n",
       "32    33             X3.6 2003-05-28 00:17:00 2003-05-28 00:27:00   \n",
       "33    34             X3.4 2006-12-13 02:14:00 2006-12-13 02:40:00   \n",
       "34    35             X3.4 2001-12-28 20:02:00 2001-12-28 20:45:00   \n",
       "35    36             X3.3 2013-11-05 22:07:00 2013-11-05 22:12:00   \n",
       "36    37             X3.3 2002-07-20 21:04:00 2002-07-20 21:30:00   \n",
       "37    38             X3.3 1998-11-28 04:54:00 1998-11-28 05:52:00   \n",
       "38    39             X3.2 2013-05-14 00:00:00 2013-05-14 01:11:00   \n",
       "39    40             X3.1 2014-10-24 21:07:00 2014-10-24 21:41:00   \n",
       "40    41             X3.1 2002-08-24 00:49:00 2002-08-24 01:12:00   \n",
       "41    42               X3 2002-07-15 19:59:00 2002-07-15 20:08:00   \n",
       "42    43             X2.8 2013-05-13 15:48:00 2013-05-13 16:05:00   \n",
       "43    44             X2.8 2001-12-11 07:58:00 2001-12-11 08:08:00   \n",
       "44    45             X2.8 1998-08-18 08:14:00 1998-08-18 08:24:00   \n",
       "45    46             X2.7 2015-05-05 22:05:00 2015-05-05 22:11:00   \n",
       "46    47             X2.7 2003-11-03 01:09:00 2003-11-03 01:30:00   \n",
       "47    48             X2.7 1998-05-06 07:58:00 1998-05-06 08:09:00   \n",
       "48    49             X2.6 2005-01-15 22:25:00 2005-01-15 23:02:00   \n",
       "49    50             X2.6 2001-09-24 09:32:00 2001-09-24 10:38:00   \n",
       "\n",
       "          end_datetime  region  \n",
       "0  2003-11-04 20:06:00     486  \n",
       "1  2001-04-02 22:03:00    9393  \n",
       "2  2003-10-28 11:24:00     486  \n",
       "3  2005-09-07 18:03:00     808  \n",
       "4  2001-04-15 13:55:00    9415  \n",
       "5  2003-10-29 21:01:00     486  \n",
       "6  1997-11-06 12:01:00    8100  \n",
       "7  2017-09-06 12:10:00    2673  \n",
       "8  2006-12-05 10:45:00     930  \n",
       "9  2003-11-02 17:39:00     486  \n",
       "10 2017-09-10 16:31:00    2673  \n",
       "11 2005-01-20 07:26:00     720  \n",
       "12 2011-08-09 08:08:00    1263  \n",
       "13 2006-12-06 19:00:00     930  \n",
       "14 2005-09-09 20:36:00     808  \n",
       "15 2001-12-13 14:35:00    9733  \n",
       "16 2000-07-14 10:43:00    9077  \n",
       "17 2001-04-06 19:31:00    9415  \n",
       "18 2012-03-07 00:40:00    1429  \n",
       "19 2005-09-08 21:17:00     808  \n",
       "20 2003-10-23 08:49:00     486  \n",
       "21 2001-08-25 17:04:00    9591  \n",
       "22 2014-02-25 01:03:00    1990  \n",
       "23 1998-08-18 22:28:00    8307  \n",
       "24 2002-07-23 00:47:00      39  \n",
       "25 2000-11-26 16:56:00    9236  \n",
       "26 2003-11-03 10:19:00     488  \n",
       "27 1998-08-19 21:50:00    8307  \n",
       "28 2005-01-17 10:07:00     720  \n",
       "29 1998-11-22 06:49:00    8384  \n",
       "30 2005-09-09 10:08:00     808  \n",
       "31 2004-07-16 14:01:00     649  \n",
       "32 2003-05-28 00:39:00     365  \n",
       "33 2006-12-13 02:57:00     930  \n",
       "34 2001-12-28 21:32:00    9767  \n",
       "35 2013-11-05 22:15:00    1890  \n",
       "36 2002-07-20 21:54:00      39  \n",
       "37 1998-11-28 06:13:00    8395  \n",
       "38 2013-05-14 01:20:00    1748  \n",
       "39 2014-10-24 22:13:00    2192  \n",
       "40 2002-08-24 01:31:00      69  \n",
       "41 2002-07-15 20:14:00      30  \n",
       "42 2013-05-13 16:16:00    1748  \n",
       "43 2001-12-11 08:14:00    9733  \n",
       "44 1998-08-18 08:32:00    8307  \n",
       "45 2015-05-05 22:15:00    2339  \n",
       "46 2003-11-03 01:45:00     488  \n",
       "47 1998-05-06 08:20:00    8210  \n",
       "48 2005-01-15 23:31:00     720  \n",
       "49 2001-09-24 11:09:00    9632  "
      ],
      "text/html": "<div>\n<style scoped>\n    .dataframe tbody tr th:only-of-type {\n        vertical-align: middle;\n    }\n\n    .dataframe tbody tr th {\n        vertical-align: top;\n    }\n\n    .dataframe thead th {\n        text-align: right;\n    }\n</style>\n<table border=\"1\" class=\"dataframe\">\n  <thead>\n    <tr style=\"text-align: right;\">\n      <th></th>\n      <th>rank</th>\n      <th>x_classification</th>\n      <th>start_datetime</th>\n      <th>max_datetime</th>\n      <th>end_datetime</th>\n      <th>region</th>\n    </tr>\n  </thead>\n  <tbody>\n    <tr>\n      <th>0</th>\n      <td>1</td>\n      <td>X28+</td>\n      <td>2003-11-04 19:29:00</td>\n      <td>2003-11-04 19:53:00</td>\n      <td>2003-11-04 20:06:00</td>\n      <td>486</td>\n    </tr>\n    <tr>\n      <th>1</th>\n      <td>2</td>\n      <td>X20+</td>\n      <td>2001-04-02 21:32:00</td>\n      <td>2001-04-02 21:51:00</td>\n      <td>2001-04-02 22:03:00</td>\n      <td>9393</td>\n    </tr>\n    <tr>\n      <th>2</th>\n      <td>3</td>\n      <td>X17.2+</td>\n      <td>2003-10-28 09:51:00</td>\n      <td>2003-10-28 11:10:00</td>\n      <td>2003-10-28 11:24:00</td>\n      <td>486</td>\n    </tr>\n    <tr>\n      <th>3</th>\n      <td>4</td>\n      <td>X17+</td>\n      <td>2005-09-07 17:17:00</td>\n      <td>2005-09-07 17:40:00</td>\n      <td>2005-09-07 18:03:00</td>\n      <td>808</td>\n    </tr>\n    <tr>\n      <th>4</th>\n      <td>5</td>\n      <td>X14.4</td>\n      <td>2001-04-15 13:19:00</td>\n      <td>2001-04-15 13:50:00</td>\n      <td>2001-04-15 13:55:00</td>\n      <td>9415</td>\n    </tr>\n    <tr>\n      <th>5</th>\n      <td>6</td>\n      <td>X10</td>\n      <td>2003-10-29 20:37:00</td>\n      <td>2003-10-29 20:49:00</td>\n      <td>2003-10-29 21:01:00</td>\n      <td>486</td>\n    </tr>\n    <tr>\n      <th>6</th>\n      <td>7</td>\n      <td>X9.4</td>\n      <td>1997-11-06 11:49:00</td>\n      <td>1997-11-06 11:55:00</td>\n      <td>1997-11-06 12:01:00</td>\n      <td>8100</td>\n    </tr>\n    <tr>\n      <th>7</th>\n      <td>8</td>\n      <td>X9.3</td>\n      <td>2017-09-06 11:53:00</td>\n      <td>2017-09-06 12:02:00</td>\n      <td>2017-09-06 12:10:00</td>\n      <td>2673</td>\n    </tr>\n    <tr>\n      <th>8</th>\n      <td>9</td>\n      <td>X9</td>\n      <td>2006-12-05 10:18:00</td>\n      <td>2006-12-05 10:35:00</td>\n      <td>2006-12-05 10:45:00</td>\n      <td>930</td>\n    </tr>\n    <tr>\n      <th>9</th>\n      <td>10</td>\n      <td>X8.3</td>\n      <td>2003-11-02 17:03:00</td>\n      <td>2003-11-02 17:25:00</td>\n      <td>2003-11-02 17:39:00</td>\n      <td>486</td>\n    </tr>\n    <tr>\n      <th>10</th>\n      <td>11</td>\n      <td>X8.2</td>\n      <td>2017-09-10 15:35:00</td>\n      <td>2017-09-10 16:06:00</td>\n      <td>2017-09-10 16:31:00</td>\n      <td>2673</td>\n    </tr>\n    <tr>\n      <th>11</th>\n      <td>12</td>\n      <td>X7.1</td>\n      <td>2005-01-20 06:36:00</td>\n      <td>2005-01-20 07:01:00</td>\n      <td>2005-01-20 07:26:00</td>\n      <td>720</td>\n    </tr>\n    <tr>\n      <th>12</th>\n      <td>13</td>\n      <td>X6.9</td>\n      <td>2011-08-09 07:48:00</td>\n      <td>2011-08-09 08:05:00</td>\n      <td>2011-08-09 08:08:00</td>\n      <td>1263</td>\n    </tr>\n    <tr>\n      <th>13</th>\n      <td>14</td>\n      <td>X6.5</td>\n      <td>2006-12-06 18:29:00</td>\n      <td>2006-12-06 18:47:00</td>\n      <td>2006-12-06 19:00:00</td>\n      <td>930</td>\n    </tr>\n    <tr>\n      <th>14</th>\n      <td>15</td>\n      <td>X6.2</td>\n      <td>2005-09-09 19:13:00</td>\n      <td>2005-09-09 20:04:00</td>\n      <td>2005-09-09 20:36:00</td>\n      <td>808</td>\n    </tr>\n    <tr>\n      <th>15</th>\n      <td>16</td>\n      <td>X6.2</td>\n      <td>2001-12-13 14:20:00</td>\n      <td>2001-12-13 14:30:00</td>\n      <td>2001-12-13 14:35:00</td>\n      <td>9733</td>\n    </tr>\n    <tr>\n      <th>16</th>\n      <td>17</td>\n      <td>X5.7</td>\n      <td>2000-07-14 10:03:00</td>\n      <td>2000-07-14 10:24:00</td>\n      <td>2000-07-14 10:43:00</td>\n      <td>9077</td>\n    </tr>\n    <tr>\n      <th>17</th>\n      <td>18</td>\n      <td>X5.6</td>\n      <td>2001-04-06 19:10:00</td>\n      <td>2001-04-06 19:21:00</td>\n      <td>2001-04-06 19:31:00</td>\n      <td>9415</td>\n    </tr>\n    <tr>\n      <th>18</th>\n      <td>19</td>\n      <td>X5.4</td>\n      <td>2012-03-07 00:02:00</td>\n      <td>2012-03-07 00:24:00</td>\n      <td>2012-03-07 00:40:00</td>\n      <td>1429</td>\n    </tr>\n    <tr>\n      <th>19</th>\n      <td>20</td>\n      <td>X5.4</td>\n      <td>2005-09-08 20:52:00</td>\n      <td>2005-09-08 21:06:00</td>\n      <td>2005-09-08 21:17:00</td>\n      <td>808</td>\n    </tr>\n    <tr>\n      <th>20</th>\n      <td>21</td>\n      <td>X5.4</td>\n      <td>2003-10-23 08:19:00</td>\n      <td>2003-10-23 08:35:00</td>\n      <td>2003-10-23 08:49:00</td>\n      <td>486</td>\n    </tr>\n    <tr>\n      <th>21</th>\n      <td>22</td>\n      <td>X5.3</td>\n      <td>2001-08-25 16:23:00</td>\n      <td>2001-08-25 16:45:00</td>\n      <td>2001-08-25 17:04:00</td>\n      <td>9591</td>\n    </tr>\n    <tr>\n      <th>22</th>\n      <td>23</td>\n      <td>X4.9</td>\n      <td>2014-02-25 00:39:00</td>\n      <td>2014-02-25 00:49:00</td>\n      <td>2014-02-25 01:03:00</td>\n      <td>1990</td>\n    </tr>\n    <tr>\n      <th>23</th>\n      <td>24</td>\n      <td>X4.9</td>\n      <td>1998-08-18 22:10:00</td>\n      <td>1998-08-18 22:19:00</td>\n      <td>1998-08-18 22:28:00</td>\n      <td>8307</td>\n    </tr>\n    <tr>\n      <th>24</th>\n      <td>25</td>\n      <td>X4.8</td>\n      <td>2002-07-23 00:18:00</td>\n      <td>2002-07-23 00:35:00</td>\n      <td>2002-07-23 00:47:00</td>\n      <td>39</td>\n    </tr>\n    <tr>\n      <th>25</th>\n      <td>26</td>\n      <td>X4</td>\n      <td>2000-11-26 16:34:00</td>\n      <td>2000-11-26 16:48:00</td>\n      <td>2000-11-26 16:56:00</td>\n      <td>9236</td>\n    </tr>\n    <tr>\n      <th>26</th>\n      <td>27</td>\n      <td>X3.9</td>\n      <td>2003-11-03 09:43:00</td>\n      <td>2003-11-03 09:55:00</td>\n      <td>2003-11-03 10:19:00</td>\n      <td>488</td>\n    </tr>\n    <tr>\n      <th>27</th>\n      <td>28</td>\n      <td>X3.9</td>\n      <td>1998-08-19 21:35:00</td>\n      <td>1998-08-19 21:45:00</td>\n      <td>1998-08-19 21:50:00</td>\n      <td>8307</td>\n    </tr>\n    <tr>\n      <th>28</th>\n      <td>29</td>\n      <td>X3.8</td>\n      <td>2005-01-17 06:59:00</td>\n      <td>2005-01-17 09:52:00</td>\n      <td>2005-01-17 10:07:00</td>\n      <td>720</td>\n    </tr>\n    <tr>\n      <th>29</th>\n      <td>30</td>\n      <td>X3.7</td>\n      <td>1998-11-22 06:30:00</td>\n      <td>1998-11-22 06:42:00</td>\n      <td>1998-11-22 06:49:00</td>\n      <td>8384</td>\n    </tr>\n    <tr>\n      <th>30</th>\n      <td>31</td>\n      <td>X3.6</td>\n      <td>2005-09-09 09:42:00</td>\n      <td>2005-09-09 09:59:00</td>\n      <td>2005-09-09 10:08:00</td>\n      <td>808</td>\n    </tr>\n    <tr>\n      <th>31</th>\n      <td>32</td>\n      <td>X3.6</td>\n      <td>2004-07-16 13:49:00</td>\n      <td>2004-07-16 13:55:00</td>\n      <td>2004-07-16 14:01:00</td>\n      <td>649</td>\n    </tr>\n    <tr>\n      <th>32</th>\n      <td>33</td>\n      <td>X3.6</td>\n      <td>2003-05-28 00:17:00</td>\n      <td>2003-05-28 00:27:00</td>\n      <td>2003-05-28 00:39:00</td>\n      <td>365</td>\n    </tr>\n    <tr>\n      <th>33</th>\n      <td>34</td>\n      <td>X3.4</td>\n      <td>2006-12-13 02:14:00</td>\n      <td>2006-12-13 02:40:00</td>\n      <td>2006-12-13 02:57:00</td>\n      <td>930</td>\n    </tr>\n    <tr>\n      <th>34</th>\n      <td>35</td>\n      <td>X3.4</td>\n      <td>2001-12-28 20:02:00</td>\n      <td>2001-12-28 20:45:00</td>\n      <td>2001-12-28 21:32:00</td>\n      <td>9767</td>\n    </tr>\n    <tr>\n      <th>35</th>\n      <td>36</td>\n      <td>X3.3</td>\n      <td>2013-11-05 22:07:00</td>\n      <td>2013-11-05 22:12:00</td>\n      <td>2013-11-05 22:15:00</td>\n      <td>1890</td>\n    </tr>\n    <tr>\n      <th>36</th>\n      <td>37</td>\n      <td>X3.3</td>\n      <td>2002-07-20 21:04:00</td>\n      <td>2002-07-20 21:30:00</td>\n      <td>2002-07-20 21:54:00</td>\n      <td>39</td>\n    </tr>\n    <tr>\n      <th>37</th>\n      <td>38</td>\n      <td>X3.3</td>\n      <td>1998-11-28 04:54:00</td>\n      <td>1998-11-28 05:52:00</td>\n      <td>1998-11-28 06:13:00</td>\n      <td>8395</td>\n    </tr>\n    <tr>\n      <th>38</th>\n      <td>39</td>\n      <td>X3.2</td>\n      <td>2013-05-14 00:00:00</td>\n      <td>2013-05-14 01:11:00</td>\n      <td>2013-05-14 01:20:00</td>\n      <td>1748</td>\n    </tr>\n    <tr>\n      <th>39</th>\n      <td>40</td>\n      <td>X3.1</td>\n      <td>2014-10-24 21:07:00</td>\n      <td>2014-10-24 21:41:00</td>\n      <td>2014-10-24 22:13:00</td>\n      <td>2192</td>\n    </tr>\n    <tr>\n      <th>40</th>\n      <td>41</td>\n      <td>X3.1</td>\n      <td>2002-08-24 00:49:00</td>\n      <td>2002-08-24 01:12:00</td>\n      <td>2002-08-24 01:31:00</td>\n      <td>69</td>\n    </tr>\n    <tr>\n      <th>41</th>\n      <td>42</td>\n      <td>X3</td>\n      <td>2002-07-15 19:59:00</td>\n      <td>2002-07-15 20:08:00</td>\n      <td>2002-07-15 20:14:00</td>\n      <td>30</td>\n    </tr>\n    <tr>\n      <th>42</th>\n      <td>43</td>\n      <td>X2.8</td>\n      <td>2013-05-13 15:48:00</td>\n      <td>2013-05-13 16:05:00</td>\n      <td>2013-05-13 16:16:00</td>\n      <td>1748</td>\n    </tr>\n    <tr>\n      <th>43</th>\n      <td>44</td>\n      <td>X2.8</td>\n      <td>2001-12-11 07:58:00</td>\n      <td>2001-12-11 08:08:00</td>\n      <td>2001-12-11 08:14:00</td>\n      <td>9733</td>\n    </tr>\n    <tr>\n      <th>44</th>\n      <td>45</td>\n      <td>X2.8</td>\n      <td>1998-08-18 08:14:00</td>\n      <td>1998-08-18 08:24:00</td>\n      <td>1998-08-18 08:32:00</td>\n      <td>8307</td>\n    </tr>\n    <tr>\n      <th>45</th>\n      <td>46</td>\n      <td>X2.7</td>\n      <td>2015-05-05 22:05:00</td>\n      <td>2015-05-05 22:11:00</td>\n      <td>2015-05-05 22:15:00</td>\n      <td>2339</td>\n    </tr>\n    <tr>\n      <th>46</th>\n      <td>47</td>\n      <td>X2.7</td>\n      <td>2003-11-03 01:09:00</td>\n      <td>2003-11-03 01:30:00</td>\n      <td>2003-11-03 01:45:00</td>\n      <td>488</td>\n    </tr>\n    <tr>\n      <th>47</th>\n      <td>48</td>\n      <td>X2.7</td>\n      <td>1998-05-06 07:58:00</td>\n      <td>1998-05-06 08:09:00</td>\n      <td>1998-05-06 08:20:00</td>\n      <td>8210</td>\n    </tr>\n    <tr>\n      <th>48</th>\n      <td>49</td>\n      <td>X2.6</td>\n      <td>2005-01-15 22:25:00</td>\n      <td>2005-01-15 23:02:00</td>\n      <td>2005-01-15 23:31:00</td>\n      <td>720</td>\n    </tr>\n    <tr>\n      <th>49</th>\n      <td>50</td>\n      <td>X2.6</td>\n      <td>2001-09-24 09:32:00</td>\n      <td>2001-09-24 10:38:00</td>\n      <td>2001-09-24 11:09:00</td>\n      <td>9632</td>\n    </tr>\n  </tbody>\n</table>\n</div>"
     },
     "metadata": {},
     "execution_count": 9
    }
   ],
   "source": [
    "space"
   ]
  },
  {
   "source": [
    "## Step 3: Scrape the NASA data\n",
    "Here we cant use BeautifulSoup to find the table tag but I can use it to get the text and separate it later by each line and by spaces. I also remove the header part of the table and the footer. Lastly, I go thorough each line and I split each string into their columns."
   ],
   "cell_type": "markdown",
   "metadata": {}
  },
  {
   "cell_type": "code",
   "execution_count": 10,
   "metadata": {},
   "outputs": [],
   "source": [
    "url = 'http://www.hcbravo.org/IntroDataSci/misc/waves_type2.html'\n",
    "page = requests.get(url)\n",
    "soup = BeautifulSoup(page.text, 'html.parser')"
   ]
  },
  {
   "cell_type": "code",
   "execution_count": 11,
   "metadata": {
    "tags": []
   },
   "outputs": [],
   "source": [
    "table = soup.find('pre')\n",
    "table = table.text.split('\\n')\n",
    "table = table[12:-3] # remove unwanted parts of the table (top and bottom)\n",
    "for row_index in range(len(table)):\n",
    "    table[row_index] = table[row_index].split()[:14]"
   ]
  },
  {
   "cell_type": "code",
   "execution_count": 12,
   "metadata": {},
   "outputs": [
    {
     "output_type": "execute_result",
     "data": {
      "text/plain": [
       "     start_date start_time end_date end_time start_frequency end_frequency  \\\n",
       "0    1997/04/01      14:00    04/01    14:15            8000          4000   \n",
       "1    1997/04/07      14:30    04/07    17:30           11000          1000   \n",
       "2    1997/05/12      05:15    05/14    16:00           12000            80   \n",
       "3    1997/05/21      20:20    05/21    22:00            5000           500   \n",
       "4    1997/09/23      21:53    09/23    22:16            6000          2000   \n",
       "..          ...        ...      ...      ...             ...           ...   \n",
       "477  2014/12/13      14:27    12/13    14:51           14000          3900   \n",
       "478  2014/12/17      04:09    12/17    04:19            2900          2100   \n",
       "479  2014/12/17      05:00    12/17    05:09           14000         11500   \n",
       "480  2014/12/18      22:31    12/18    22:54            5100          1300   \n",
       "481  2014/12/21      12:05    12/21    12:28           14000          7400   \n",
       "\n",
       "    flare_location flare_region flare_classification cme_date cme_time  \\\n",
       "0           S25E16         8026                 M1.3    04/01    15:18   \n",
       "1           S28E19         8027                 C6.8    04/07    14:27   \n",
       "2           N21W08         8038                 C1.3    05/12    05:30   \n",
       "3           N05W12         8040                 M1.3    05/21    21:00   \n",
       "4           S29E25         8088                 C1.4    09/23    22:02   \n",
       "..             ...          ...                  ...      ...      ...   \n",
       "477           W90b        -----                 ----    12/13    14:24   \n",
       "478         S11E33        12241                 M1.1    12/17    02:00   \n",
       "479         S20E09        12242                 M8.7    12/17    05:00   \n",
       "480         S11E15        12241                 M6.9    12/19    01:04   \n",
       "481         S14W25        12241                 M1.0    12/21    12:12   \n",
       "\n",
       "    cme_angle cme_width cme_speed  \n",
       "0          74        79       312  \n",
       "1        Halo       360       878  \n",
       "2        Halo       360       464  \n",
       "3         263       165       296  \n",
       "4         133       155       712  \n",
       "..        ...       ...       ...  \n",
       "477      Halo       360      2222  \n",
       "478       107       108       869  \n",
       "479      Halo       360       587  \n",
       "480      Halo       360      1195  \n",
       "481      Halo       360       669  \n",
       "\n",
       "[482 rows x 14 columns]"
      ],
      "text/html": "<div>\n<style scoped>\n    .dataframe tbody tr th:only-of-type {\n        vertical-align: middle;\n    }\n\n    .dataframe tbody tr th {\n        vertical-align: top;\n    }\n\n    .dataframe thead th {\n        text-align: right;\n    }\n</style>\n<table border=\"1\" class=\"dataframe\">\n  <thead>\n    <tr style=\"text-align: right;\">\n      <th></th>\n      <th>start_date</th>\n      <th>start_time</th>\n      <th>end_date</th>\n      <th>end_time</th>\n      <th>start_frequency</th>\n      <th>end_frequency</th>\n      <th>flare_location</th>\n      <th>flare_region</th>\n      <th>flare_classification</th>\n      <th>cme_date</th>\n      <th>cme_time</th>\n      <th>cme_angle</th>\n      <th>cme_width</th>\n      <th>cme_speed</th>\n    </tr>\n  </thead>\n  <tbody>\n    <tr>\n      <th>0</th>\n      <td>1997/04/01</td>\n      <td>14:00</td>\n      <td>04/01</td>\n      <td>14:15</td>\n      <td>8000</td>\n      <td>4000</td>\n      <td>S25E16</td>\n      <td>8026</td>\n      <td>M1.3</td>\n      <td>04/01</td>\n      <td>15:18</td>\n      <td>74</td>\n      <td>79</td>\n      <td>312</td>\n    </tr>\n    <tr>\n      <th>1</th>\n      <td>1997/04/07</td>\n      <td>14:30</td>\n      <td>04/07</td>\n      <td>17:30</td>\n      <td>11000</td>\n      <td>1000</td>\n      <td>S28E19</td>\n      <td>8027</td>\n      <td>C6.8</td>\n      <td>04/07</td>\n      <td>14:27</td>\n      <td>Halo</td>\n      <td>360</td>\n      <td>878</td>\n    </tr>\n    <tr>\n      <th>2</th>\n      <td>1997/05/12</td>\n      <td>05:15</td>\n      <td>05/14</td>\n      <td>16:00</td>\n      <td>12000</td>\n      <td>80</td>\n      <td>N21W08</td>\n      <td>8038</td>\n      <td>C1.3</td>\n      <td>05/12</td>\n      <td>05:30</td>\n      <td>Halo</td>\n      <td>360</td>\n      <td>464</td>\n    </tr>\n    <tr>\n      <th>3</th>\n      <td>1997/05/21</td>\n      <td>20:20</td>\n      <td>05/21</td>\n      <td>22:00</td>\n      <td>5000</td>\n      <td>500</td>\n      <td>N05W12</td>\n      <td>8040</td>\n      <td>M1.3</td>\n      <td>05/21</td>\n      <td>21:00</td>\n      <td>263</td>\n      <td>165</td>\n      <td>296</td>\n    </tr>\n    <tr>\n      <th>4</th>\n      <td>1997/09/23</td>\n      <td>21:53</td>\n      <td>09/23</td>\n      <td>22:16</td>\n      <td>6000</td>\n      <td>2000</td>\n      <td>S29E25</td>\n      <td>8088</td>\n      <td>C1.4</td>\n      <td>09/23</td>\n      <td>22:02</td>\n      <td>133</td>\n      <td>155</td>\n      <td>712</td>\n    </tr>\n    <tr>\n      <th>...</th>\n      <td>...</td>\n      <td>...</td>\n      <td>...</td>\n      <td>...</td>\n      <td>...</td>\n      <td>...</td>\n      <td>...</td>\n      <td>...</td>\n      <td>...</td>\n      <td>...</td>\n      <td>...</td>\n      <td>...</td>\n      <td>...</td>\n      <td>...</td>\n    </tr>\n    <tr>\n      <th>477</th>\n      <td>2014/12/13</td>\n      <td>14:27</td>\n      <td>12/13</td>\n      <td>14:51</td>\n      <td>14000</td>\n      <td>3900</td>\n      <td>W90b</td>\n      <td>-----</td>\n      <td>----</td>\n      <td>12/13</td>\n      <td>14:24</td>\n      <td>Halo</td>\n      <td>360</td>\n      <td>2222</td>\n    </tr>\n    <tr>\n      <th>478</th>\n      <td>2014/12/17</td>\n      <td>04:09</td>\n      <td>12/17</td>\n      <td>04:19</td>\n      <td>2900</td>\n      <td>2100</td>\n      <td>S11E33</td>\n      <td>12241</td>\n      <td>M1.1</td>\n      <td>12/17</td>\n      <td>02:00</td>\n      <td>107</td>\n      <td>108</td>\n      <td>869</td>\n    </tr>\n    <tr>\n      <th>479</th>\n      <td>2014/12/17</td>\n      <td>05:00</td>\n      <td>12/17</td>\n      <td>05:09</td>\n      <td>14000</td>\n      <td>11500</td>\n      <td>S20E09</td>\n      <td>12242</td>\n      <td>M8.7</td>\n      <td>12/17</td>\n      <td>05:00</td>\n      <td>Halo</td>\n      <td>360</td>\n      <td>587</td>\n    </tr>\n    <tr>\n      <th>480</th>\n      <td>2014/12/18</td>\n      <td>22:31</td>\n      <td>12/18</td>\n      <td>22:54</td>\n      <td>5100</td>\n      <td>1300</td>\n      <td>S11E15</td>\n      <td>12241</td>\n      <td>M6.9</td>\n      <td>12/19</td>\n      <td>01:04</td>\n      <td>Halo</td>\n      <td>360</td>\n      <td>1195</td>\n    </tr>\n    <tr>\n      <th>481</th>\n      <td>2014/12/21</td>\n      <td>12:05</td>\n      <td>12/21</td>\n      <td>12:28</td>\n      <td>14000</td>\n      <td>7400</td>\n      <td>S14W25</td>\n      <td>12241</td>\n      <td>M1.0</td>\n      <td>12/21</td>\n      <td>12:12</td>\n      <td>Halo</td>\n      <td>360</td>\n      <td>669</td>\n    </tr>\n  </tbody>\n</table>\n<p>482 rows × 14 columns</p>\n</div>"
     },
     "metadata": {},
     "execution_count": 12
    }
   ],
   "source": [
    "nasa = pd.DataFrame(table)\n",
    "nasa.columns = ['start_date', 'start_time', 'end_date', 'end_time', 'start_frequency', 'end_frequency', 'flare_location', 'flare_region','flare_classification', 'cme_date', 'cme_time', 'cme_angle', 'cme_width', 'cme_speed']\n",
    "nasa"
   ]
  },
  {
   "source": [
    "## Step 4: Tidy the NASA the table\n",
    "### 4.1 Replace with NaN\n",
    "I use regex in this part to find all unfilled datapoints and I replace it with a NaN string."
   ],
   "cell_type": "markdown",
   "metadata": {}
  },
  {
   "cell_type": "code",
   "execution_count": 13,
   "metadata": {},
   "outputs": [],
   "source": [
    "# Remove bad stuff and replace with NaN\n",
    "nasa = nasa.replace(['-+'], ['NaN'], regex=True)\n",
    "nasa = nasa.replace(['\\?+'], ['NaN'], regex=True)"
   ]
  },
  {
   "source": [
    "### 4.2 Create Halo column\n",
    "Using a map function, I go through each row of the cme_angle column and I add to the new column the boolean value."
   ],
   "cell_type": "markdown",
   "metadata": {}
  },
  {
   "cell_type": "code",
   "execution_count": 14,
   "metadata": {},
   "outputs": [
    {
     "output_type": "execute_result",
     "data": {
      "text/plain": [
       "    start_date start_time end_date end_time start_frequency end_frequency  \\\n",
       "1   1997/04/07      14:30    04/07    17:30           11000          1000   \n",
       "2   1997/05/12      05:15    05/14    16:00           12000            80   \n",
       "7   1997/11/04      06:00    11/05    04:30           14000           100   \n",
       "8   1997/11/06      12:20    11/07    08:30           14000           100   \n",
       "11  1998/01/25      15:03    01/25    15:18           14000         10000   \n",
       "\n",
       "   flare_location flare_region flare_classification cme_date cme_time  \\\n",
       "1          S28E19         8027                 C6.8    04/07    14:27   \n",
       "2          N21W08         8038                 C1.3    05/12    05:30   \n",
       "7          S14W33         8100                 X2.1    11/04    06:10   \n",
       "8          S18W63         8100                 X9.4    11/06    12:10   \n",
       "11         N21E25         8141                 C1.1    01/25    15:26   \n",
       "\n",
       "   cme_angle cme_width cme_speed  is_halo  \n",
       "1       Halo       360       878     True  \n",
       "2       Halo       360       464     True  \n",
       "7       Halo       360       785     True  \n",
       "8       Halo       360      1556     True  \n",
       "11      Halo       360       693     True  "
      ],
      "text/html": "<div>\n<style scoped>\n    .dataframe tbody tr th:only-of-type {\n        vertical-align: middle;\n    }\n\n    .dataframe tbody tr th {\n        vertical-align: top;\n    }\n\n    .dataframe thead th {\n        text-align: right;\n    }\n</style>\n<table border=\"1\" class=\"dataframe\">\n  <thead>\n    <tr style=\"text-align: right;\">\n      <th></th>\n      <th>start_date</th>\n      <th>start_time</th>\n      <th>end_date</th>\n      <th>end_time</th>\n      <th>start_frequency</th>\n      <th>end_frequency</th>\n      <th>flare_location</th>\n      <th>flare_region</th>\n      <th>flare_classification</th>\n      <th>cme_date</th>\n      <th>cme_time</th>\n      <th>cme_angle</th>\n      <th>cme_width</th>\n      <th>cme_speed</th>\n      <th>is_halo</th>\n    </tr>\n  </thead>\n  <tbody>\n    <tr>\n      <th>1</th>\n      <td>1997/04/07</td>\n      <td>14:30</td>\n      <td>04/07</td>\n      <td>17:30</td>\n      <td>11000</td>\n      <td>1000</td>\n      <td>S28E19</td>\n      <td>8027</td>\n      <td>C6.8</td>\n      <td>04/07</td>\n      <td>14:27</td>\n      <td>Halo</td>\n      <td>360</td>\n      <td>878</td>\n      <td>True</td>\n    </tr>\n    <tr>\n      <th>2</th>\n      <td>1997/05/12</td>\n      <td>05:15</td>\n      <td>05/14</td>\n      <td>16:00</td>\n      <td>12000</td>\n      <td>80</td>\n      <td>N21W08</td>\n      <td>8038</td>\n      <td>C1.3</td>\n      <td>05/12</td>\n      <td>05:30</td>\n      <td>Halo</td>\n      <td>360</td>\n      <td>464</td>\n      <td>True</td>\n    </tr>\n    <tr>\n      <th>7</th>\n      <td>1997/11/04</td>\n      <td>06:00</td>\n      <td>11/05</td>\n      <td>04:30</td>\n      <td>14000</td>\n      <td>100</td>\n      <td>S14W33</td>\n      <td>8100</td>\n      <td>X2.1</td>\n      <td>11/04</td>\n      <td>06:10</td>\n      <td>Halo</td>\n      <td>360</td>\n      <td>785</td>\n      <td>True</td>\n    </tr>\n    <tr>\n      <th>8</th>\n      <td>1997/11/06</td>\n      <td>12:20</td>\n      <td>11/07</td>\n      <td>08:30</td>\n      <td>14000</td>\n      <td>100</td>\n      <td>S18W63</td>\n      <td>8100</td>\n      <td>X9.4</td>\n      <td>11/06</td>\n      <td>12:10</td>\n      <td>Halo</td>\n      <td>360</td>\n      <td>1556</td>\n      <td>True</td>\n    </tr>\n    <tr>\n      <th>11</th>\n      <td>1998/01/25</td>\n      <td>15:03</td>\n      <td>01/25</td>\n      <td>15:18</td>\n      <td>14000</td>\n      <td>10000</td>\n      <td>N21E25</td>\n      <td>8141</td>\n      <td>C1.1</td>\n      <td>01/25</td>\n      <td>15:26</td>\n      <td>Halo</td>\n      <td>360</td>\n      <td>693</td>\n      <td>True</td>\n    </tr>\n  </tbody>\n</table>\n</div>"
     },
     "metadata": {},
     "execution_count": 14
    }
   ],
   "source": [
    "nasa['is_halo'] = nasa['cme_angle'].map(lambda x: True if x == \"Halo\" else False)\n",
    "# verify that is_halo worked\n",
    "nasa.loc[nasa['is_halo'] == True].head()"
   ]
  },
  {
   "source": [
    "### 4.3 Create width_lower_bound column\n",
    "I do the same thing with the cme_width verifying if the '>' symbol is present. "
   ],
   "cell_type": "markdown",
   "metadata": {}
  },
  {
   "cell_type": "code",
   "execution_count": 15,
   "metadata": {},
   "outputs": [
    {
     "output_type": "execute_result",
     "data": {
      "text/plain": [
       "    start_date start_time end_date end_time start_frequency end_frequency  \\\n",
       "21  1998/05/11      21:40    05/11    22:00           10000          1000   \n",
       "30  1998/11/06      03:00    11/06    05:30            5000          1000   \n",
       "39  1999/06/11      11:45    06/11    17:00           14000           400   \n",
       "41  1999/06/23      05:50    06/23    07:10           12000          2000   \n",
       "43  1999/06/28      21:03    06/28    21:10            3500          1500   \n",
       "\n",
       "   flare_location flare_region flare_classification cme_date cme_time  \\\n",
       "21         N32W90         8214                 B6.6    05/11    21:55   \n",
       "30           BACK          NaN                  NaN    11/06    02:18   \n",
       "39         N38E90          NaN                 C8.8    06/11    11:26   \n",
       "41           BACK          NaN                  NaN    06/23    06:06   \n",
       "43         N22W44         8592                 C3.5    06/28    21:30   \n",
       "\n",
       "   cme_angle cme_width cme_speed  is_halo  width_lower_bound  \n",
       "21       208      >301       830    False               True  \n",
       "30       159      >160       405    False               True  \n",
       "39        35      >181      1569    False               True  \n",
       "41       264      >154       450    False               True  \n",
       "43       336      >184       903    False               True  "
      ],
      "text/html": "<div>\n<style scoped>\n    .dataframe tbody tr th:only-of-type {\n        vertical-align: middle;\n    }\n\n    .dataframe tbody tr th {\n        vertical-align: top;\n    }\n\n    .dataframe thead th {\n        text-align: right;\n    }\n</style>\n<table border=\"1\" class=\"dataframe\">\n  <thead>\n    <tr style=\"text-align: right;\">\n      <th></th>\n      <th>start_date</th>\n      <th>start_time</th>\n      <th>end_date</th>\n      <th>end_time</th>\n      <th>start_frequency</th>\n      <th>end_frequency</th>\n      <th>flare_location</th>\n      <th>flare_region</th>\n      <th>flare_classification</th>\n      <th>cme_date</th>\n      <th>cme_time</th>\n      <th>cme_angle</th>\n      <th>cme_width</th>\n      <th>cme_speed</th>\n      <th>is_halo</th>\n      <th>width_lower_bound</th>\n    </tr>\n  </thead>\n  <tbody>\n    <tr>\n      <th>21</th>\n      <td>1998/05/11</td>\n      <td>21:40</td>\n      <td>05/11</td>\n      <td>22:00</td>\n      <td>10000</td>\n      <td>1000</td>\n      <td>N32W90</td>\n      <td>8214</td>\n      <td>B6.6</td>\n      <td>05/11</td>\n      <td>21:55</td>\n      <td>208</td>\n      <td>&gt;301</td>\n      <td>830</td>\n      <td>False</td>\n      <td>True</td>\n    </tr>\n    <tr>\n      <th>30</th>\n      <td>1998/11/06</td>\n      <td>03:00</td>\n      <td>11/06</td>\n      <td>05:30</td>\n      <td>5000</td>\n      <td>1000</td>\n      <td>BACK</td>\n      <td>NaN</td>\n      <td>NaN</td>\n      <td>11/06</td>\n      <td>02:18</td>\n      <td>159</td>\n      <td>&gt;160</td>\n      <td>405</td>\n      <td>False</td>\n      <td>True</td>\n    </tr>\n    <tr>\n      <th>39</th>\n      <td>1999/06/11</td>\n      <td>11:45</td>\n      <td>06/11</td>\n      <td>17:00</td>\n      <td>14000</td>\n      <td>400</td>\n      <td>N38E90</td>\n      <td>NaN</td>\n      <td>C8.8</td>\n      <td>06/11</td>\n      <td>11:26</td>\n      <td>35</td>\n      <td>&gt;181</td>\n      <td>1569</td>\n      <td>False</td>\n      <td>True</td>\n    </tr>\n    <tr>\n      <th>41</th>\n      <td>1999/06/23</td>\n      <td>05:50</td>\n      <td>06/23</td>\n      <td>07:10</td>\n      <td>12000</td>\n      <td>2000</td>\n      <td>BACK</td>\n      <td>NaN</td>\n      <td>NaN</td>\n      <td>06/23</td>\n      <td>06:06</td>\n      <td>264</td>\n      <td>&gt;154</td>\n      <td>450</td>\n      <td>False</td>\n      <td>True</td>\n    </tr>\n    <tr>\n      <th>43</th>\n      <td>1999/06/28</td>\n      <td>21:03</td>\n      <td>06/28</td>\n      <td>21:10</td>\n      <td>3500</td>\n      <td>1500</td>\n      <td>N22W44</td>\n      <td>8592</td>\n      <td>C3.5</td>\n      <td>06/28</td>\n      <td>21:30</td>\n      <td>336</td>\n      <td>&gt;184</td>\n      <td>903</td>\n      <td>False</td>\n      <td>True</td>\n    </tr>\n  </tbody>\n</table>\n</div>"
     },
     "metadata": {},
     "execution_count": 15
    }
   ],
   "source": [
    "nasa['width_lower_bound'] = nasa['cme_width'].map(lambda x: True if '>' in x else False)\n",
    "# verifying that width_lower_bound worked\n",
    "nasa.loc[nasa['width_lower_bound'] == True].head()"
   ]
  },
  {
   "source": [
    "### 4.4 Combine date and time columns\n",
    "Like previously, I add the date and time columns together and pass them through the datetime function that automatically places it in the correct format. Afterwards, I add the new columns into the dataframe and I reorder them to match the requirements."
   ],
   "cell_type": "markdown",
   "metadata": {}
  },
  {
   "cell_type": "code",
   "execution_count": 16,
   "metadata": {},
   "outputs": [],
   "source": [
    "# fix time\n",
    "nasa = nasa.replace('24:00', '00:00')\n",
    "\n",
    "temp3 = pd.to_datetime(nasa['start_date'].map(lambda x: x[0:4])+ \"/\" + nasa['cme_date']+ \" \" +nasa['cme_time'], errors='coerce')\n",
    "temp = pd.to_datetime(nasa['start_date'].map(lambda x: x[0:4])+ \"/\" + nasa['end_date']+ \" \" +nasa['end_time'])\n",
    "temp2 = pd.to_datetime(nasa['start_date']+ \" \" +nasa['start_time'])\n",
    "\n",
    "nasa.insert(loc=0, column='cme_datetime', value=temp3)\n",
    "nasa.insert(loc=0, column='end_datetime', value=temp)\n",
    "nasa.insert(loc=0, column='start_datetime', value=temp2)\n",
    "\n",
    "\n",
    "nasa = nasa.drop(['start_date','start_time','end_date','end_time','cme_date','cme_time',], 1)\n",
    "\n",
    "#set column order\n",
    "nasa = nasa[['start_datetime', 'end_datetime', 'start_frequency',\n",
    "       'end_frequency', 'flare_location', 'flare_region', 'cme_datetime',\n",
    "       'flare_classification', 'cme_angle',\n",
    "       'cme_width', 'cme_speed', 'is_halo', 'width_lower_bound']]\n",
    "nasa.columns = ['start_datetime', 'end_datetime', 'start_frequency',\n",
    "       'end_frequency', 'flare_location', 'flare_region', 'cme_datetime',\n",
    "       'flare_classification', 'cme_angle',\n",
    "       'cme_width', 'cme_speed', 'is_halo', 'width_lower_bound']\n",
    "\n",
    "\n"
   ]
  },
  {
   "source": [
    "#### Final Data"
   ],
   "cell_type": "markdown",
   "metadata": {}
  },
  {
   "cell_type": "code",
   "execution_count": 17,
   "metadata": {},
   "outputs": [
    {
     "output_type": "execute_result",
     "data": {
      "text/plain": [
       "         start_datetime        end_datetime start_frequency end_frequency  \\\n",
       "0   1997-04-01 14:00:00 1997-04-01 14:15:00            8000          4000   \n",
       "1   1997-04-07 14:30:00 1997-04-07 17:30:00           11000          1000   \n",
       "2   1997-05-12 05:15:00 1997-05-14 16:00:00           12000            80   \n",
       "3   1997-05-21 20:20:00 1997-05-21 22:00:00            5000           500   \n",
       "4   1997-09-23 21:53:00 1997-09-23 22:16:00            6000          2000   \n",
       "..                  ...                 ...             ...           ...   \n",
       "477 2014-12-13 14:27:00 2014-12-13 14:51:00           14000          3900   \n",
       "478 2014-12-17 04:09:00 2014-12-17 04:19:00            2900          2100   \n",
       "479 2014-12-17 05:00:00 2014-12-17 05:09:00           14000         11500   \n",
       "480 2014-12-18 22:31:00 2014-12-18 22:54:00            5100          1300   \n",
       "481 2014-12-21 12:05:00 2014-12-21 12:28:00           14000          7400   \n",
       "\n",
       "    flare_location flare_region        cme_datetime flare_classification  \\\n",
       "0           S25E16         8026 1997-04-01 15:18:00                 M1.3   \n",
       "1           S28E19         8027 1997-04-07 14:27:00                 C6.8   \n",
       "2           N21W08         8038 1997-05-12 05:30:00                 C1.3   \n",
       "3           N05W12         8040 1997-05-21 21:00:00                 M1.3   \n",
       "4           S29E25         8088 1997-09-23 22:02:00                 C1.4   \n",
       "..             ...          ...                 ...                  ...   \n",
       "477           W90b          NaN 2014-12-13 14:24:00                  NaN   \n",
       "478         S11E33        12241 2014-12-17 02:00:00                 M1.1   \n",
       "479         S20E09        12242 2014-12-17 05:00:00                 M8.7   \n",
       "480         S11E15        12241 2014-12-19 01:04:00                 M6.9   \n",
       "481         S14W25        12241 2014-12-21 12:12:00                 M1.0   \n",
       "\n",
       "    cme_angle cme_width cme_speed  is_halo  width_lower_bound  \n",
       "0          74        79       312    False              False  \n",
       "1        Halo       360       878     True              False  \n",
       "2        Halo       360       464     True              False  \n",
       "3         263       165       296    False              False  \n",
       "4         133       155       712    False              False  \n",
       "..        ...       ...       ...      ...                ...  \n",
       "477      Halo       360      2222     True              False  \n",
       "478       107       108       869    False              False  \n",
       "479      Halo       360       587     True              False  \n",
       "480      Halo       360      1195     True              False  \n",
       "481      Halo       360       669     True              False  \n",
       "\n",
       "[482 rows x 13 columns]"
      ],
      "text/html": "<div>\n<style scoped>\n    .dataframe tbody tr th:only-of-type {\n        vertical-align: middle;\n    }\n\n    .dataframe tbody tr th {\n        vertical-align: top;\n    }\n\n    .dataframe thead th {\n        text-align: right;\n    }\n</style>\n<table border=\"1\" class=\"dataframe\">\n  <thead>\n    <tr style=\"text-align: right;\">\n      <th></th>\n      <th>start_datetime</th>\n      <th>end_datetime</th>\n      <th>start_frequency</th>\n      <th>end_frequency</th>\n      <th>flare_location</th>\n      <th>flare_region</th>\n      <th>cme_datetime</th>\n      <th>flare_classification</th>\n      <th>cme_angle</th>\n      <th>cme_width</th>\n      <th>cme_speed</th>\n      <th>is_halo</th>\n      <th>width_lower_bound</th>\n    </tr>\n  </thead>\n  <tbody>\n    <tr>\n      <th>0</th>\n      <td>1997-04-01 14:00:00</td>\n      <td>1997-04-01 14:15:00</td>\n      <td>8000</td>\n      <td>4000</td>\n      <td>S25E16</td>\n      <td>8026</td>\n      <td>1997-04-01 15:18:00</td>\n      <td>M1.3</td>\n      <td>74</td>\n      <td>79</td>\n      <td>312</td>\n      <td>False</td>\n      <td>False</td>\n    </tr>\n    <tr>\n      <th>1</th>\n      <td>1997-04-07 14:30:00</td>\n      <td>1997-04-07 17:30:00</td>\n      <td>11000</td>\n      <td>1000</td>\n      <td>S28E19</td>\n      <td>8027</td>\n      <td>1997-04-07 14:27:00</td>\n      <td>C6.8</td>\n      <td>Halo</td>\n      <td>360</td>\n      <td>878</td>\n      <td>True</td>\n      <td>False</td>\n    </tr>\n    <tr>\n      <th>2</th>\n      <td>1997-05-12 05:15:00</td>\n      <td>1997-05-14 16:00:00</td>\n      <td>12000</td>\n      <td>80</td>\n      <td>N21W08</td>\n      <td>8038</td>\n      <td>1997-05-12 05:30:00</td>\n      <td>C1.3</td>\n      <td>Halo</td>\n      <td>360</td>\n      <td>464</td>\n      <td>True</td>\n      <td>False</td>\n    </tr>\n    <tr>\n      <th>3</th>\n      <td>1997-05-21 20:20:00</td>\n      <td>1997-05-21 22:00:00</td>\n      <td>5000</td>\n      <td>500</td>\n      <td>N05W12</td>\n      <td>8040</td>\n      <td>1997-05-21 21:00:00</td>\n      <td>M1.3</td>\n      <td>263</td>\n      <td>165</td>\n      <td>296</td>\n      <td>False</td>\n      <td>False</td>\n    </tr>\n    <tr>\n      <th>4</th>\n      <td>1997-09-23 21:53:00</td>\n      <td>1997-09-23 22:16:00</td>\n      <td>6000</td>\n      <td>2000</td>\n      <td>S29E25</td>\n      <td>8088</td>\n      <td>1997-09-23 22:02:00</td>\n      <td>C1.4</td>\n      <td>133</td>\n      <td>155</td>\n      <td>712</td>\n      <td>False</td>\n      <td>False</td>\n    </tr>\n    <tr>\n      <th>...</th>\n      <td>...</td>\n      <td>...</td>\n      <td>...</td>\n      <td>...</td>\n      <td>...</td>\n      <td>...</td>\n      <td>...</td>\n      <td>...</td>\n      <td>...</td>\n      <td>...</td>\n      <td>...</td>\n      <td>...</td>\n      <td>...</td>\n    </tr>\n    <tr>\n      <th>477</th>\n      <td>2014-12-13 14:27:00</td>\n      <td>2014-12-13 14:51:00</td>\n      <td>14000</td>\n      <td>3900</td>\n      <td>W90b</td>\n      <td>NaN</td>\n      <td>2014-12-13 14:24:00</td>\n      <td>NaN</td>\n      <td>Halo</td>\n      <td>360</td>\n      <td>2222</td>\n      <td>True</td>\n      <td>False</td>\n    </tr>\n    <tr>\n      <th>478</th>\n      <td>2014-12-17 04:09:00</td>\n      <td>2014-12-17 04:19:00</td>\n      <td>2900</td>\n      <td>2100</td>\n      <td>S11E33</td>\n      <td>12241</td>\n      <td>2014-12-17 02:00:00</td>\n      <td>M1.1</td>\n      <td>107</td>\n      <td>108</td>\n      <td>869</td>\n      <td>False</td>\n      <td>False</td>\n    </tr>\n    <tr>\n      <th>479</th>\n      <td>2014-12-17 05:00:00</td>\n      <td>2014-12-17 05:09:00</td>\n      <td>14000</td>\n      <td>11500</td>\n      <td>S20E09</td>\n      <td>12242</td>\n      <td>2014-12-17 05:00:00</td>\n      <td>M8.7</td>\n      <td>Halo</td>\n      <td>360</td>\n      <td>587</td>\n      <td>True</td>\n      <td>False</td>\n    </tr>\n    <tr>\n      <th>480</th>\n      <td>2014-12-18 22:31:00</td>\n      <td>2014-12-18 22:54:00</td>\n      <td>5100</td>\n      <td>1300</td>\n      <td>S11E15</td>\n      <td>12241</td>\n      <td>2014-12-19 01:04:00</td>\n      <td>M6.9</td>\n      <td>Halo</td>\n      <td>360</td>\n      <td>1195</td>\n      <td>True</td>\n      <td>False</td>\n    </tr>\n    <tr>\n      <th>481</th>\n      <td>2014-12-21 12:05:00</td>\n      <td>2014-12-21 12:28:00</td>\n      <td>14000</td>\n      <td>7400</td>\n      <td>S14W25</td>\n      <td>12241</td>\n      <td>2014-12-21 12:12:00</td>\n      <td>M1.0</td>\n      <td>Halo</td>\n      <td>360</td>\n      <td>669</td>\n      <td>True</td>\n      <td>False</td>\n    </tr>\n  </tbody>\n</table>\n<p>482 rows × 13 columns</p>\n</div>"
     },
     "metadata": {},
     "execution_count": 17
    }
   ],
   "source": [
    "nasa"
   ]
  },
  {
   "source": [
    "# Part 2: Analysis\n",
    "Now that I have the data from both sites, I will use it to answer the questions. "
   ],
   "cell_type": "markdown",
   "metadata": {}
  },
  {
   "cell_type": "code",
   "execution_count": 18,
   "metadata": {},
   "outputs": [
    {
     "output_type": "execute_result",
     "data": {
      "text/plain": [
       "   rank x_classification      start_datetime        max_datetime  \\\n",
       "0     1             X28+ 2003-11-04 19:29:00 2003-11-04 19:53:00   \n",
       "1     2             X20+ 2001-04-02 21:32:00 2001-04-02 21:51:00   \n",
       "2     3           X17.2+ 2003-10-28 09:51:00 2003-10-28 11:10:00   \n",
       "3     4             X17+ 2005-09-07 17:17:00 2005-09-07 17:40:00   \n",
       "4     5            X14.4 2001-04-15 13:19:00 2001-04-15 13:50:00   \n",
       "\n",
       "         end_datetime  region  \n",
       "0 2003-11-04 20:06:00     486  \n",
       "1 2001-04-02 22:03:00    9393  \n",
       "2 2003-10-28 11:24:00     486  \n",
       "3 2005-09-07 18:03:00     808  \n",
       "4 2001-04-15 13:55:00    9415  "
      ],
      "text/html": "<div>\n<style scoped>\n    .dataframe tbody tr th:only-of-type {\n        vertical-align: middle;\n    }\n\n    .dataframe tbody tr th {\n        vertical-align: top;\n    }\n\n    .dataframe thead th {\n        text-align: right;\n    }\n</style>\n<table border=\"1\" class=\"dataframe\">\n  <thead>\n    <tr style=\"text-align: right;\">\n      <th></th>\n      <th>rank</th>\n      <th>x_classification</th>\n      <th>start_datetime</th>\n      <th>max_datetime</th>\n      <th>end_datetime</th>\n      <th>region</th>\n    </tr>\n  </thead>\n  <tbody>\n    <tr>\n      <th>0</th>\n      <td>1</td>\n      <td>X28+</td>\n      <td>2003-11-04 19:29:00</td>\n      <td>2003-11-04 19:53:00</td>\n      <td>2003-11-04 20:06:00</td>\n      <td>486</td>\n    </tr>\n    <tr>\n      <th>1</th>\n      <td>2</td>\n      <td>X20+</td>\n      <td>2001-04-02 21:32:00</td>\n      <td>2001-04-02 21:51:00</td>\n      <td>2001-04-02 22:03:00</td>\n      <td>9393</td>\n    </tr>\n    <tr>\n      <th>2</th>\n      <td>3</td>\n      <td>X17.2+</td>\n      <td>2003-10-28 09:51:00</td>\n      <td>2003-10-28 11:10:00</td>\n      <td>2003-10-28 11:24:00</td>\n      <td>486</td>\n    </tr>\n    <tr>\n      <th>3</th>\n      <td>4</td>\n      <td>X17+</td>\n      <td>2005-09-07 17:17:00</td>\n      <td>2005-09-07 17:40:00</td>\n      <td>2005-09-07 18:03:00</td>\n      <td>808</td>\n    </tr>\n    <tr>\n      <th>4</th>\n      <td>5</td>\n      <td>X14.4</td>\n      <td>2001-04-15 13:19:00</td>\n      <td>2001-04-15 13:50:00</td>\n      <td>2001-04-15 13:55:00</td>\n      <td>9415</td>\n    </tr>\n  </tbody>\n</table>\n</div>"
     },
     "metadata": {},
     "execution_count": 18
    }
   ],
   "source": [
    "space.head()"
   ]
  },
  {
   "cell_type": "code",
   "execution_count": 19,
   "metadata": {},
   "outputs": [
    {
     "output_type": "execute_result",
     "data": {
      "text/plain": [
       "       start_datetime        end_datetime start_frequency end_frequency  \\\n",
       "0 1997-04-01 14:00:00 1997-04-01 14:15:00            8000          4000   \n",
       "1 1997-04-07 14:30:00 1997-04-07 17:30:00           11000          1000   \n",
       "2 1997-05-12 05:15:00 1997-05-14 16:00:00           12000            80   \n",
       "3 1997-05-21 20:20:00 1997-05-21 22:00:00            5000           500   \n",
       "4 1997-09-23 21:53:00 1997-09-23 22:16:00            6000          2000   \n",
       "\n",
       "  flare_location flare_region        cme_datetime flare_classification  \\\n",
       "0         S25E16         8026 1997-04-01 15:18:00                 M1.3   \n",
       "1         S28E19         8027 1997-04-07 14:27:00                 C6.8   \n",
       "2         N21W08         8038 1997-05-12 05:30:00                 C1.3   \n",
       "3         N05W12         8040 1997-05-21 21:00:00                 M1.3   \n",
       "4         S29E25         8088 1997-09-23 22:02:00                 C1.4   \n",
       "\n",
       "  cme_angle cme_width cme_speed  is_halo  width_lower_bound  \n",
       "0        74        79       312    False              False  \n",
       "1      Halo       360       878     True              False  \n",
       "2      Halo       360       464     True              False  \n",
       "3       263       165       296    False              False  \n",
       "4       133       155       712    False              False  "
      ],
      "text/html": "<div>\n<style scoped>\n    .dataframe tbody tr th:only-of-type {\n        vertical-align: middle;\n    }\n\n    .dataframe tbody tr th {\n        vertical-align: top;\n    }\n\n    .dataframe thead th {\n        text-align: right;\n    }\n</style>\n<table border=\"1\" class=\"dataframe\">\n  <thead>\n    <tr style=\"text-align: right;\">\n      <th></th>\n      <th>start_datetime</th>\n      <th>end_datetime</th>\n      <th>start_frequency</th>\n      <th>end_frequency</th>\n      <th>flare_location</th>\n      <th>flare_region</th>\n      <th>cme_datetime</th>\n      <th>flare_classification</th>\n      <th>cme_angle</th>\n      <th>cme_width</th>\n      <th>cme_speed</th>\n      <th>is_halo</th>\n      <th>width_lower_bound</th>\n    </tr>\n  </thead>\n  <tbody>\n    <tr>\n      <th>0</th>\n      <td>1997-04-01 14:00:00</td>\n      <td>1997-04-01 14:15:00</td>\n      <td>8000</td>\n      <td>4000</td>\n      <td>S25E16</td>\n      <td>8026</td>\n      <td>1997-04-01 15:18:00</td>\n      <td>M1.3</td>\n      <td>74</td>\n      <td>79</td>\n      <td>312</td>\n      <td>False</td>\n      <td>False</td>\n    </tr>\n    <tr>\n      <th>1</th>\n      <td>1997-04-07 14:30:00</td>\n      <td>1997-04-07 17:30:00</td>\n      <td>11000</td>\n      <td>1000</td>\n      <td>S28E19</td>\n      <td>8027</td>\n      <td>1997-04-07 14:27:00</td>\n      <td>C6.8</td>\n      <td>Halo</td>\n      <td>360</td>\n      <td>878</td>\n      <td>True</td>\n      <td>False</td>\n    </tr>\n    <tr>\n      <th>2</th>\n      <td>1997-05-12 05:15:00</td>\n      <td>1997-05-14 16:00:00</td>\n      <td>12000</td>\n      <td>80</td>\n      <td>N21W08</td>\n      <td>8038</td>\n      <td>1997-05-12 05:30:00</td>\n      <td>C1.3</td>\n      <td>Halo</td>\n      <td>360</td>\n      <td>464</td>\n      <td>True</td>\n      <td>False</td>\n    </tr>\n    <tr>\n      <th>3</th>\n      <td>1997-05-21 20:20:00</td>\n      <td>1997-05-21 22:00:00</td>\n      <td>5000</td>\n      <td>500</td>\n      <td>N05W12</td>\n      <td>8040</td>\n      <td>1997-05-21 21:00:00</td>\n      <td>M1.3</td>\n      <td>263</td>\n      <td>165</td>\n      <td>296</td>\n      <td>False</td>\n      <td>False</td>\n    </tr>\n    <tr>\n      <th>4</th>\n      <td>1997-09-23 21:53:00</td>\n      <td>1997-09-23 22:16:00</td>\n      <td>6000</td>\n      <td>2000</td>\n      <td>S29E25</td>\n      <td>8088</td>\n      <td>1997-09-23 22:02:00</td>\n      <td>C1.4</td>\n      <td>133</td>\n      <td>155</td>\n      <td>712</td>\n      <td>False</td>\n      <td>False</td>\n    </tr>\n  </tbody>\n</table>\n</div>"
     },
     "metadata": {},
     "execution_count": 19
    }
   ],
   "source": [
    "nasa.head()"
   ]
  },
  {
   "source": [
    "## Question 1: Replication\n",
    "Here I do my best to replicate the solar flare table found in SpaceWeatherLive. I first filter by flare classifications that contain the letter X, which are the top ones. Then I remove the X and I turn the column into a float so I can finally sort the values in descending order. Later, I drop unnecessary columns, moved a few columns around and renamed them, and finally added the X to the string. This gives us a really similar representation of the data in SpaceWeatherLive. The only difference in the data is that there are some extra solar flares in the NASA dataset but there are also a few missing items in the NASA dataset."
   ],
   "cell_type": "markdown",
   "metadata": {}
  },
  {
   "cell_type": "code",
   "execution_count": 20,
   "metadata": {},
   "outputs": [
    {
     "output_type": "execute_result",
     "data": {
      "text/plain": [
       "         start_datetime end_datetime start_frequency end_frequency  \\\n",
       "242 2003-11-04 20:00:00   2003-11-04           10000           200   \n",
       "\n",
       "    flare_location flare_region        cme_datetime  flare_classification  \\\n",
       "242         S19W83        10486 2003-11-04 19:54:00                  28.0   \n",
       "\n",
       "    cme_angle cme_width cme_speed  is_halo  width_lower_bound  \n",
       "242      Halo       360      2657     True              False  "
      ],
      "text/html": "<div>\n<style scoped>\n    .dataframe tbody tr th:only-of-type {\n        vertical-align: middle;\n    }\n\n    .dataframe tbody tr th {\n        vertical-align: top;\n    }\n\n    .dataframe thead th {\n        text-align: right;\n    }\n</style>\n<table border=\"1\" class=\"dataframe\">\n  <thead>\n    <tr style=\"text-align: right;\">\n      <th></th>\n      <th>start_datetime</th>\n      <th>end_datetime</th>\n      <th>start_frequency</th>\n      <th>end_frequency</th>\n      <th>flare_location</th>\n      <th>flare_region</th>\n      <th>cme_datetime</th>\n      <th>flare_classification</th>\n      <th>cme_angle</th>\n      <th>cme_width</th>\n      <th>cme_speed</th>\n      <th>is_halo</th>\n      <th>width_lower_bound</th>\n    </tr>\n  </thead>\n  <tbody>\n    <tr>\n      <th>242</th>\n      <td>2003-11-04 20:00:00</td>\n      <td>2003-11-04</td>\n      <td>10000</td>\n      <td>200</td>\n      <td>S19W83</td>\n      <td>10486</td>\n      <td>2003-11-04 19:54:00</td>\n      <td>28.0</td>\n      <td>Halo</td>\n      <td>360</td>\n      <td>2657</td>\n      <td>True</td>\n      <td>False</td>\n    </tr>\n  </tbody>\n</table>\n</div>"
     },
     "metadata": {},
     "execution_count": 20
    }
   ],
   "source": [
    "replica = nasa[nasa['flare_classification'].str.contains(\"X\")] \n",
    "replica['flare_classification'] = replica['flare_classification'].map(lambda y: y.replace(\"X\", \"\"))\n",
    "replica['flare_classification'] = replica['flare_classification'].astype(float)\n",
    "replica = replica.sort_values('flare_classification', ascending=False)\n",
    "\n",
    "nasa_top_50 = replica.head(50) # for later use in Question 3\n",
    "replica.head(1)"
   ]
  },
  {
   "cell_type": "code",
   "execution_count": 21,
   "metadata": {},
   "outputs": [
    {
     "output_type": "execute_result",
     "data": {
      "text/plain": [
       "    rank x_classification      start_datetime        max_datetime  \\\n",
       "0      1            X28.0 2003-11-04 20:00:00 2003-11-04 19:54:00   \n",
       "1      2            X20.0 2001-04-02 22:05:00 2001-04-02 22:06:00   \n",
       "2      3            X17.0 2003-10-28 11:10:00 2003-10-28 11:30:00   \n",
       "3      4            X14.0 2001-04-15 14:05:00 2001-04-15 14:06:00   \n",
       "4      5            X10.0 2003-10-29 20:55:00 2003-10-29 20:54:00   \n",
       "5      6             X9.4 1997-11-06 12:20:00 1997-11-06 12:10:00   \n",
       "6      7             X9.0 2006-12-05 10:50:00                 NaT   \n",
       "7      8             X8.3 2003-11-02 17:30:00 2003-11-02 17:30:00   \n",
       "8      9             X7.1 2005-01-20 07:15:00 2005-01-20 06:54:00   \n",
       "9     10             X6.9 2011-08-09 08:20:00 2011-08-09 08:12:00   \n",
       "10    11             X6.5 2006-12-06 19:00:00                 NaT   \n",
       "11    12             X6.2 2005-09-09 19:45:00 2005-09-09 19:48:00   \n",
       "12    13             X5.7 2000-07-14 10:30:00 2000-07-14 10:54:00   \n",
       "13    14             X5.6 2001-04-06 19:35:00 2001-04-06 19:30:00   \n",
       "14    15             X5.4 2012-03-07 01:00:00 2012-03-07 00:24:00   \n",
       "15    16             X5.3 2001-08-25 16:50:00 2001-08-25 16:50:00   \n",
       "16    17             X4.9 2014-02-25 00:56:00 2014-02-25 01:25:00   \n",
       "17    18             X4.8 2002-07-23 00:50:00 2002-07-23 00:42:00   \n",
       "18    19             X4.0 2000-11-26 17:00:00 2000-11-26 17:06:00   \n",
       "19    20             X3.9 2003-11-03 10:00:00 2003-11-03 10:06:00   \n",
       "20    21             X3.8 2005-01-17 10:00:00 2005-01-17 09:54:00   \n",
       "21    22             X3.6 2003-05-28 01:00:00 2003-05-28 00:50:00   \n",
       "22    23             X3.4 2001-12-28 20:35:00 2001-12-28 20:30:00   \n",
       "23    24             X3.4 2006-12-13 02:45:00 2006-12-13 02:54:00   \n",
       "24    25             X3.3 2002-07-20 21:30:00 2002-07-20 22:06:00   \n",
       "25    26             X3.2 2013-05-14 01:16:00 2013-05-14 01:25:00   \n",
       "26    27             X3.1 2002-08-24 01:45:00 2002-08-24 01:27:00   \n",
       "27    28             X2.8 2013-05-13 16:15:00 2013-05-13 16:07:00   \n",
       "28    29             X2.7 2003-11-03 01:15:00 2003-11-03 01:59:00   \n",
       "29    30             X2.7 1998-05-06 08:25:00 1998-05-06 08:29:00   \n",
       "30    31             X2.6 2005-01-15 23:00:00 2005-01-15 23:06:00   \n",
       "31    32             X2.6 1997-11-27 13:30:00 1997-11-27 13:56:00   \n",
       "32    33             X2.6 2001-09-24 10:45:00 2001-09-24 10:30:00   \n",
       "33    34             X2.5 2004-11-10 02:25:00 2004-11-10 02:26:00   \n",
       "34    35             X2.3 2001-04-10 05:24:00 2001-04-10 05:30:00   \n",
       "35    36             X2.3 2000-06-06 15:20:00 2000-06-06 15:54:00   \n",
       "36    37             X2.3 2000-11-24 15:25:00 2000-11-24 15:30:00   \n",
       "37    38             X2.2 2011-02-15 02:10:00 2011-02-15 02:24:00   \n",
       "38    39             X2.1 1997-11-04 06:00:00 1997-11-04 06:10:00   \n",
       "39    40             X2.1 2005-09-10 21:45:00 2005-09-10 21:52:00   \n",
       "40    41             X2.1 2011-09-06 22:30:00 2011-09-06 23:05:00   \n",
       "41    42             X2.1 2013-10-25 15:08:00 2013-10-25 15:12:00   \n",
       "42    43             X2.0 2001-04-12 10:20:00 2001-04-12 10:31:00   \n",
       "43    44             X2.0 2005-01-17 09:25:00 2005-01-17 09:30:00   \n",
       "44    45             X2.0 2000-11-24 05:10:00 2000-11-24 05:30:00   \n",
       "45    46             X2.0 2004-11-07 16:25:00 2004-11-07 16:54:00   \n",
       "46    47             X1.9 2000-11-25 19:00:00 2000-11-25 19:31:00   \n",
       "47    48             X1.8 2002-07-18 07:55:00 2002-07-18 08:06:00   \n",
       "48    49             X1.8 2000-11-24 22:24:00 2000-11-24 22:06:00   \n",
       "49    50             X1.8 1999-10-14 09:10:00 1999-10-14 09:26:00   \n",
       "\n",
       "          end_datetime region  \n",
       "0  2003-11-04 00:00:00  10486  \n",
       "1  2001-04-03 02:30:00   9393  \n",
       "2  2003-10-29 00:00:00  10486  \n",
       "3  2001-04-16 13:00:00   9415  \n",
       "4  2003-10-29 00:00:00  10486  \n",
       "5  1997-11-07 08:30:00   8100  \n",
       "6  2006-12-05 20:00:00  10930  \n",
       "7  2003-11-03 01:00:00  10486  \n",
       "8  2005-01-20 16:30:00  10720  \n",
       "9  2011-08-09 08:35:00  11263  \n",
       "10 2006-12-08 00:00:00  10930  \n",
       "11 2005-09-09 22:00:00  10808  \n",
       "12 2000-07-15 14:30:00   9077  \n",
       "13 2001-04-07 01:50:00   9415  \n",
       "14 2012-03-08 19:00:00  11429  \n",
       "15 2001-08-25 23:00:00   9591  \n",
       "16 2014-02-25 11:28:00  11990  \n",
       "17 2002-07-23 04:00:00  10039  \n",
       "18 2000-11-26 17:15:00   9236  \n",
       "19 2003-11-03 12:30:00  10488  \n",
       "20 2005-01-17 10:35:00  10720  \n",
       "21 2003-05-29 00:30:00  10365  \n",
       "22 2001-12-29 03:00:00   9756  \n",
       "23 2006-12-13 10:40:00  10930  \n",
       "24 2002-07-20 22:20:00  10039  \n",
       "25 2013-05-14 02:35:00  11748  \n",
       "26 2002-08-24 03:25:00  10069  \n",
       "27 2013-05-13 19:10:00  11748  \n",
       "28 2003-11-03 01:25:00  10488  \n",
       "29 1998-05-06 08:35:00   8210  \n",
       "30 2005-01-15 00:00:00  10720  \n",
       "31 1997-11-27 14:00:00   8113  \n",
       "32 2001-09-25 20:00:00   9632  \n",
       "33 2004-11-10 03:40:00  10696  \n",
       "34 2001-04-10 00:00:00   9415  \n",
       "35 2000-06-08 09:00:00   9026  \n",
       "36 2000-11-24 22:00:00   9236  \n",
       "37 2011-02-15 07:00:00  11158  \n",
       "38 1997-11-05 04:30:00   8100  \n",
       "39 2005-09-10 01:00:00  10808  \n",
       "40 2011-09-07 15:40:00  11283  \n",
       "41 2013-10-25 22:32:00  11882  \n",
       "42 2001-04-12 10:40:00   9415  \n",
       "43 2005-01-17 16:00:00  10720  \n",
       "44 2000-11-24 15:00:00   9236  \n",
       "45 2004-11-08 20:00:00  10696  \n",
       "46 2000-11-25 19:35:00   9236  \n",
       "47 2002-07-18 08:45:00  10030  \n",
       "48 2000-11-24 22:36:00   9236  \n",
       "49 1999-10-14 10:00:00   8731  "
      ],
      "text/html": "<div>\n<style scoped>\n    .dataframe tbody tr th:only-of-type {\n        vertical-align: middle;\n    }\n\n    .dataframe tbody tr th {\n        vertical-align: top;\n    }\n\n    .dataframe thead th {\n        text-align: right;\n    }\n</style>\n<table border=\"1\" class=\"dataframe\">\n  <thead>\n    <tr style=\"text-align: right;\">\n      <th></th>\n      <th>rank</th>\n      <th>x_classification</th>\n      <th>start_datetime</th>\n      <th>max_datetime</th>\n      <th>end_datetime</th>\n      <th>region</th>\n    </tr>\n  </thead>\n  <tbody>\n    <tr>\n      <th>0</th>\n      <td>1</td>\n      <td>X28.0</td>\n      <td>2003-11-04 20:00:00</td>\n      <td>2003-11-04 19:54:00</td>\n      <td>2003-11-04 00:00:00</td>\n      <td>10486</td>\n    </tr>\n    <tr>\n      <th>1</th>\n      <td>2</td>\n      <td>X20.0</td>\n      <td>2001-04-02 22:05:00</td>\n      <td>2001-04-02 22:06:00</td>\n      <td>2001-04-03 02:30:00</td>\n      <td>9393</td>\n    </tr>\n    <tr>\n      <th>2</th>\n      <td>3</td>\n      <td>X17.0</td>\n      <td>2003-10-28 11:10:00</td>\n      <td>2003-10-28 11:30:00</td>\n      <td>2003-10-29 00:00:00</td>\n      <td>10486</td>\n    </tr>\n    <tr>\n      <th>3</th>\n      <td>4</td>\n      <td>X14.0</td>\n      <td>2001-04-15 14:05:00</td>\n      <td>2001-04-15 14:06:00</td>\n      <td>2001-04-16 13:00:00</td>\n      <td>9415</td>\n    </tr>\n    <tr>\n      <th>4</th>\n      <td>5</td>\n      <td>X10.0</td>\n      <td>2003-10-29 20:55:00</td>\n      <td>2003-10-29 20:54:00</td>\n      <td>2003-10-29 00:00:00</td>\n      <td>10486</td>\n    </tr>\n    <tr>\n      <th>5</th>\n      <td>6</td>\n      <td>X9.4</td>\n      <td>1997-11-06 12:20:00</td>\n      <td>1997-11-06 12:10:00</td>\n      <td>1997-11-07 08:30:00</td>\n      <td>8100</td>\n    </tr>\n    <tr>\n      <th>6</th>\n      <td>7</td>\n      <td>X9.0</td>\n      <td>2006-12-05 10:50:00</td>\n      <td>NaT</td>\n      <td>2006-12-05 20:00:00</td>\n      <td>10930</td>\n    </tr>\n    <tr>\n      <th>7</th>\n      <td>8</td>\n      <td>X8.3</td>\n      <td>2003-11-02 17:30:00</td>\n      <td>2003-11-02 17:30:00</td>\n      <td>2003-11-03 01:00:00</td>\n      <td>10486</td>\n    </tr>\n    <tr>\n      <th>8</th>\n      <td>9</td>\n      <td>X7.1</td>\n      <td>2005-01-20 07:15:00</td>\n      <td>2005-01-20 06:54:00</td>\n      <td>2005-01-20 16:30:00</td>\n      <td>10720</td>\n    </tr>\n    <tr>\n      <th>9</th>\n      <td>10</td>\n      <td>X6.9</td>\n      <td>2011-08-09 08:20:00</td>\n      <td>2011-08-09 08:12:00</td>\n      <td>2011-08-09 08:35:00</td>\n      <td>11263</td>\n    </tr>\n    <tr>\n      <th>10</th>\n      <td>11</td>\n      <td>X6.5</td>\n      <td>2006-12-06 19:00:00</td>\n      <td>NaT</td>\n      <td>2006-12-08 00:00:00</td>\n      <td>10930</td>\n    </tr>\n    <tr>\n      <th>11</th>\n      <td>12</td>\n      <td>X6.2</td>\n      <td>2005-09-09 19:45:00</td>\n      <td>2005-09-09 19:48:00</td>\n      <td>2005-09-09 22:00:00</td>\n      <td>10808</td>\n    </tr>\n    <tr>\n      <th>12</th>\n      <td>13</td>\n      <td>X5.7</td>\n      <td>2000-07-14 10:30:00</td>\n      <td>2000-07-14 10:54:00</td>\n      <td>2000-07-15 14:30:00</td>\n      <td>9077</td>\n    </tr>\n    <tr>\n      <th>13</th>\n      <td>14</td>\n      <td>X5.6</td>\n      <td>2001-04-06 19:35:00</td>\n      <td>2001-04-06 19:30:00</td>\n      <td>2001-04-07 01:50:00</td>\n      <td>9415</td>\n    </tr>\n    <tr>\n      <th>14</th>\n      <td>15</td>\n      <td>X5.4</td>\n      <td>2012-03-07 01:00:00</td>\n      <td>2012-03-07 00:24:00</td>\n      <td>2012-03-08 19:00:00</td>\n      <td>11429</td>\n    </tr>\n    <tr>\n      <th>15</th>\n      <td>16</td>\n      <td>X5.3</td>\n      <td>2001-08-25 16:50:00</td>\n      <td>2001-08-25 16:50:00</td>\n      <td>2001-08-25 23:00:00</td>\n      <td>9591</td>\n    </tr>\n    <tr>\n      <th>16</th>\n      <td>17</td>\n      <td>X4.9</td>\n      <td>2014-02-25 00:56:00</td>\n      <td>2014-02-25 01:25:00</td>\n      <td>2014-02-25 11:28:00</td>\n      <td>11990</td>\n    </tr>\n    <tr>\n      <th>17</th>\n      <td>18</td>\n      <td>X4.8</td>\n      <td>2002-07-23 00:50:00</td>\n      <td>2002-07-23 00:42:00</td>\n      <td>2002-07-23 04:00:00</td>\n      <td>10039</td>\n    </tr>\n    <tr>\n      <th>18</th>\n      <td>19</td>\n      <td>X4.0</td>\n      <td>2000-11-26 17:00:00</td>\n      <td>2000-11-26 17:06:00</td>\n      <td>2000-11-26 17:15:00</td>\n      <td>9236</td>\n    </tr>\n    <tr>\n      <th>19</th>\n      <td>20</td>\n      <td>X3.9</td>\n      <td>2003-11-03 10:00:00</td>\n      <td>2003-11-03 10:06:00</td>\n      <td>2003-11-03 12:30:00</td>\n      <td>10488</td>\n    </tr>\n    <tr>\n      <th>20</th>\n      <td>21</td>\n      <td>X3.8</td>\n      <td>2005-01-17 10:00:00</td>\n      <td>2005-01-17 09:54:00</td>\n      <td>2005-01-17 10:35:00</td>\n      <td>10720</td>\n    </tr>\n    <tr>\n      <th>21</th>\n      <td>22</td>\n      <td>X3.6</td>\n      <td>2003-05-28 01:00:00</td>\n      <td>2003-05-28 00:50:00</td>\n      <td>2003-05-29 00:30:00</td>\n      <td>10365</td>\n    </tr>\n    <tr>\n      <th>22</th>\n      <td>23</td>\n      <td>X3.4</td>\n      <td>2001-12-28 20:35:00</td>\n      <td>2001-12-28 20:30:00</td>\n      <td>2001-12-29 03:00:00</td>\n      <td>9756</td>\n    </tr>\n    <tr>\n      <th>23</th>\n      <td>24</td>\n      <td>X3.4</td>\n      <td>2006-12-13 02:45:00</td>\n      <td>2006-12-13 02:54:00</td>\n      <td>2006-12-13 10:40:00</td>\n      <td>10930</td>\n    </tr>\n    <tr>\n      <th>24</th>\n      <td>25</td>\n      <td>X3.3</td>\n      <td>2002-07-20 21:30:00</td>\n      <td>2002-07-20 22:06:00</td>\n      <td>2002-07-20 22:20:00</td>\n      <td>10039</td>\n    </tr>\n    <tr>\n      <th>25</th>\n      <td>26</td>\n      <td>X3.2</td>\n      <td>2013-05-14 01:16:00</td>\n      <td>2013-05-14 01:25:00</td>\n      <td>2013-05-14 02:35:00</td>\n      <td>11748</td>\n    </tr>\n    <tr>\n      <th>26</th>\n      <td>27</td>\n      <td>X3.1</td>\n      <td>2002-08-24 01:45:00</td>\n      <td>2002-08-24 01:27:00</td>\n      <td>2002-08-24 03:25:00</td>\n      <td>10069</td>\n    </tr>\n    <tr>\n      <th>27</th>\n      <td>28</td>\n      <td>X2.8</td>\n      <td>2013-05-13 16:15:00</td>\n      <td>2013-05-13 16:07:00</td>\n      <td>2013-05-13 19:10:00</td>\n      <td>11748</td>\n    </tr>\n    <tr>\n      <th>28</th>\n      <td>29</td>\n      <td>X2.7</td>\n      <td>2003-11-03 01:15:00</td>\n      <td>2003-11-03 01:59:00</td>\n      <td>2003-11-03 01:25:00</td>\n      <td>10488</td>\n    </tr>\n    <tr>\n      <th>29</th>\n      <td>30</td>\n      <td>X2.7</td>\n      <td>1998-05-06 08:25:00</td>\n      <td>1998-05-06 08:29:00</td>\n      <td>1998-05-06 08:35:00</td>\n      <td>8210</td>\n    </tr>\n    <tr>\n      <th>30</th>\n      <td>31</td>\n      <td>X2.6</td>\n      <td>2005-01-15 23:00:00</td>\n      <td>2005-01-15 23:06:00</td>\n      <td>2005-01-15 00:00:00</td>\n      <td>10720</td>\n    </tr>\n    <tr>\n      <th>31</th>\n      <td>32</td>\n      <td>X2.6</td>\n      <td>1997-11-27 13:30:00</td>\n      <td>1997-11-27 13:56:00</td>\n      <td>1997-11-27 14:00:00</td>\n      <td>8113</td>\n    </tr>\n    <tr>\n      <th>32</th>\n      <td>33</td>\n      <td>X2.6</td>\n      <td>2001-09-24 10:45:00</td>\n      <td>2001-09-24 10:30:00</td>\n      <td>2001-09-25 20:00:00</td>\n      <td>9632</td>\n    </tr>\n    <tr>\n      <th>33</th>\n      <td>34</td>\n      <td>X2.5</td>\n      <td>2004-11-10 02:25:00</td>\n      <td>2004-11-10 02:26:00</td>\n      <td>2004-11-10 03:40:00</td>\n      <td>10696</td>\n    </tr>\n    <tr>\n      <th>34</th>\n      <td>35</td>\n      <td>X2.3</td>\n      <td>2001-04-10 05:24:00</td>\n      <td>2001-04-10 05:30:00</td>\n      <td>2001-04-10 00:00:00</td>\n      <td>9415</td>\n    </tr>\n    <tr>\n      <th>35</th>\n      <td>36</td>\n      <td>X2.3</td>\n      <td>2000-06-06 15:20:00</td>\n      <td>2000-06-06 15:54:00</td>\n      <td>2000-06-08 09:00:00</td>\n      <td>9026</td>\n    </tr>\n    <tr>\n      <th>36</th>\n      <td>37</td>\n      <td>X2.3</td>\n      <td>2000-11-24 15:25:00</td>\n      <td>2000-11-24 15:30:00</td>\n      <td>2000-11-24 22:00:00</td>\n      <td>9236</td>\n    </tr>\n    <tr>\n      <th>37</th>\n      <td>38</td>\n      <td>X2.2</td>\n      <td>2011-02-15 02:10:00</td>\n      <td>2011-02-15 02:24:00</td>\n      <td>2011-02-15 07:00:00</td>\n      <td>11158</td>\n    </tr>\n    <tr>\n      <th>38</th>\n      <td>39</td>\n      <td>X2.1</td>\n      <td>1997-11-04 06:00:00</td>\n      <td>1997-11-04 06:10:00</td>\n      <td>1997-11-05 04:30:00</td>\n      <td>8100</td>\n    </tr>\n    <tr>\n      <th>39</th>\n      <td>40</td>\n      <td>X2.1</td>\n      <td>2005-09-10 21:45:00</td>\n      <td>2005-09-10 21:52:00</td>\n      <td>2005-09-10 01:00:00</td>\n      <td>10808</td>\n    </tr>\n    <tr>\n      <th>40</th>\n      <td>41</td>\n      <td>X2.1</td>\n      <td>2011-09-06 22:30:00</td>\n      <td>2011-09-06 23:05:00</td>\n      <td>2011-09-07 15:40:00</td>\n      <td>11283</td>\n    </tr>\n    <tr>\n      <th>41</th>\n      <td>42</td>\n      <td>X2.1</td>\n      <td>2013-10-25 15:08:00</td>\n      <td>2013-10-25 15:12:00</td>\n      <td>2013-10-25 22:32:00</td>\n      <td>11882</td>\n    </tr>\n    <tr>\n      <th>42</th>\n      <td>43</td>\n      <td>X2.0</td>\n      <td>2001-04-12 10:20:00</td>\n      <td>2001-04-12 10:31:00</td>\n      <td>2001-04-12 10:40:00</td>\n      <td>9415</td>\n    </tr>\n    <tr>\n      <th>43</th>\n      <td>44</td>\n      <td>X2.0</td>\n      <td>2005-01-17 09:25:00</td>\n      <td>2005-01-17 09:30:00</td>\n      <td>2005-01-17 16:00:00</td>\n      <td>10720</td>\n    </tr>\n    <tr>\n      <th>44</th>\n      <td>45</td>\n      <td>X2.0</td>\n      <td>2000-11-24 05:10:00</td>\n      <td>2000-11-24 05:30:00</td>\n      <td>2000-11-24 15:00:00</td>\n      <td>9236</td>\n    </tr>\n    <tr>\n      <th>45</th>\n      <td>46</td>\n      <td>X2.0</td>\n      <td>2004-11-07 16:25:00</td>\n      <td>2004-11-07 16:54:00</td>\n      <td>2004-11-08 20:00:00</td>\n      <td>10696</td>\n    </tr>\n    <tr>\n      <th>46</th>\n      <td>47</td>\n      <td>X1.9</td>\n      <td>2000-11-25 19:00:00</td>\n      <td>2000-11-25 19:31:00</td>\n      <td>2000-11-25 19:35:00</td>\n      <td>9236</td>\n    </tr>\n    <tr>\n      <th>47</th>\n      <td>48</td>\n      <td>X1.8</td>\n      <td>2002-07-18 07:55:00</td>\n      <td>2002-07-18 08:06:00</td>\n      <td>2002-07-18 08:45:00</td>\n      <td>10030</td>\n    </tr>\n    <tr>\n      <th>48</th>\n      <td>49</td>\n      <td>X1.8</td>\n      <td>2000-11-24 22:24:00</td>\n      <td>2000-11-24 22:06:00</td>\n      <td>2000-11-24 22:36:00</td>\n      <td>9236</td>\n    </tr>\n    <tr>\n      <th>49</th>\n      <td>50</td>\n      <td>X1.8</td>\n      <td>1999-10-14 09:10:00</td>\n      <td>1999-10-14 09:26:00</td>\n      <td>1999-10-14 10:00:00</td>\n      <td>8731</td>\n    </tr>\n  </tbody>\n</table>\n</div>"
     },
     "metadata": {},
     "execution_count": 21
    }
   ],
   "source": [
    "replica = replica.drop(['start_frequency', 'end_frequency', 'flare_location', 'flare_location', 'cme_angle', 'cme_width', 'cme_speed', 'is_halo', 'width_lower_bound'], 1)\n",
    "replica = replica.reset_index(drop=True)\n",
    "replica = replica.reset_index()\n",
    "replica['index'] = replica.index + 1\n",
    "replica = replica[['index', 'flare_classification', 'start_datetime', 'cme_datetime', 'end_datetime', 'flare_region']]\n",
    "replica.columns = ['rank', 'x_classification', 'start_datetime', 'max_datetime', 'end_datetime','region']\n",
    "replica = replica.head(50)\n",
    "replica['x_classification'] = replica['x_classification'].astype(str)\n",
    "replica['x_classification'] = replica['x_classification'].map(lambda x: \"X\" + x)\n",
    "replica"
   ]
  },
  {
   "source": [
    "## Question 2: Integration\n",
    "Here we want to match signals from the SpaceWeatherLive data with the NASA data. I used the processed NASA data from question 1 which will get rid of unnecessary things but it also keeps the data relatively the same. I added a new column called integrated_with_rank which gives us a value of 0 if it didnt find a correlating solar flare or a positive integer corresponding to the rank of the solar flare in the SpaceWeatherLive dataset. The way I determined the \"best match\" was by using the date and the region's last 3 digits as these are very unique values and are shared between the datasets."
   ],
   "cell_type": "markdown",
   "metadata": {}
  },
  {
   "cell_type": "code",
   "execution_count": 22,
   "metadata": {
    "tags": []
   },
   "outputs": [
    {
     "output_type": "execute_result",
     "data": {
      "text/plain": [
       "    rank x_classification      start_datetime        max_datetime  \\\n",
       "0      1            X28.0 2003-11-04 20:00:00 2003-11-04 19:54:00   \n",
       "1      2            X20.0 2001-04-02 22:05:00 2001-04-02 22:06:00   \n",
       "2      3            X17.0 2003-10-28 11:10:00 2003-10-28 11:30:00   \n",
       "3      4            X14.0 2001-04-15 14:05:00 2001-04-15 14:06:00   \n",
       "4      5            X10.0 2003-10-29 20:55:00 2003-10-29 20:54:00   \n",
       "5      6             X9.4 1997-11-06 12:20:00 1997-11-06 12:10:00   \n",
       "6      7             X9.0 2006-12-05 10:50:00                 NaT   \n",
       "7      8             X8.3 2003-11-02 17:30:00 2003-11-02 17:30:00   \n",
       "8      9             X7.1 2005-01-20 07:15:00 2005-01-20 06:54:00   \n",
       "9     10             X6.9 2011-08-09 08:20:00 2011-08-09 08:12:00   \n",
       "10    11             X6.5 2006-12-06 19:00:00                 NaT   \n",
       "11    12             X6.2 2005-09-09 19:45:00 2005-09-09 19:48:00   \n",
       "12    13             X5.7 2000-07-14 10:30:00 2000-07-14 10:54:00   \n",
       "13    14             X5.6 2001-04-06 19:35:00 2001-04-06 19:30:00   \n",
       "14    15             X5.4 2012-03-07 01:00:00 2012-03-07 00:24:00   \n",
       "15    16             X5.3 2001-08-25 16:50:00 2001-08-25 16:50:00   \n",
       "16    17             X4.9 2014-02-25 00:56:00 2014-02-25 01:25:00   \n",
       "17    18             X4.8 2002-07-23 00:50:00 2002-07-23 00:42:00   \n",
       "18    19             X4.0 2000-11-26 17:00:00 2000-11-26 17:06:00   \n",
       "19    20             X3.9 2003-11-03 10:00:00 2003-11-03 10:06:00   \n",
       "20    21             X3.8 2005-01-17 10:00:00 2005-01-17 09:54:00   \n",
       "21    22             X3.6 2003-05-28 01:00:00 2003-05-28 00:50:00   \n",
       "22    23             X3.4 2001-12-28 20:35:00 2001-12-28 20:30:00   \n",
       "23    24             X3.4 2006-12-13 02:45:00 2006-12-13 02:54:00   \n",
       "24    25             X3.3 2002-07-20 21:30:00 2002-07-20 22:06:00   \n",
       "25    26             X3.2 2013-05-14 01:16:00 2013-05-14 01:25:00   \n",
       "26    27             X3.1 2002-08-24 01:45:00 2002-08-24 01:27:00   \n",
       "27    28             X2.8 2013-05-13 16:15:00 2013-05-13 16:07:00   \n",
       "28    29             X2.7 2003-11-03 01:15:00 2003-11-03 01:59:00   \n",
       "29    30             X2.7 1998-05-06 08:25:00 1998-05-06 08:29:00   \n",
       "30    31             X2.6 2005-01-15 23:00:00 2005-01-15 23:06:00   \n",
       "31    32             X2.6 1997-11-27 13:30:00 1997-11-27 13:56:00   \n",
       "32    33             X2.6 2001-09-24 10:45:00 2001-09-24 10:30:00   \n",
       "33    34             X2.5 2004-11-10 02:25:00 2004-11-10 02:26:00   \n",
       "34    35             X2.3 2001-04-10 05:24:00 2001-04-10 05:30:00   \n",
       "35    36             X2.3 2000-06-06 15:20:00 2000-06-06 15:54:00   \n",
       "36    37             X2.3 2000-11-24 15:25:00 2000-11-24 15:30:00   \n",
       "37    38             X2.2 2011-02-15 02:10:00 2011-02-15 02:24:00   \n",
       "38    39             X2.1 1997-11-04 06:00:00 1997-11-04 06:10:00   \n",
       "39    40             X2.1 2005-09-10 21:45:00 2005-09-10 21:52:00   \n",
       "40    41             X2.1 2011-09-06 22:30:00 2011-09-06 23:05:00   \n",
       "41    42             X2.1 2013-10-25 15:08:00 2013-10-25 15:12:00   \n",
       "42    43             X2.0 2001-04-12 10:20:00 2001-04-12 10:31:00   \n",
       "43    44             X2.0 2005-01-17 09:25:00 2005-01-17 09:30:00   \n",
       "44    45             X2.0 2000-11-24 05:10:00 2000-11-24 05:30:00   \n",
       "45    46             X2.0 2004-11-07 16:25:00 2004-11-07 16:54:00   \n",
       "46    47             X1.9 2000-11-25 19:00:00 2000-11-25 19:31:00   \n",
       "47    48             X1.8 2002-07-18 07:55:00 2002-07-18 08:06:00   \n",
       "48    49             X1.8 2000-11-24 22:24:00 2000-11-24 22:06:00   \n",
       "49    50             X1.8 1999-10-14 09:10:00 1999-10-14 09:26:00   \n",
       "\n",
       "          end_datetime region integrated with rank  \n",
       "0  2003-11-04 00:00:00  10486                    1  \n",
       "1  2001-04-03 02:30:00   9393                    2  \n",
       "2  2003-10-29 00:00:00  10486                    3  \n",
       "3  2001-04-16 13:00:00   9415                    5  \n",
       "4  2003-10-29 00:00:00  10486                    6  \n",
       "5  1997-11-07 08:30:00   8100                    7  \n",
       "6  2006-12-05 20:00:00  10930                    9  \n",
       "7  2003-11-03 01:00:00  10486                   10  \n",
       "8  2005-01-20 16:30:00  10720                   12  \n",
       "9  2011-08-09 08:35:00  11263                   13  \n",
       "10 2006-12-08 00:00:00  10930                   14  \n",
       "11 2005-09-09 22:00:00  10808                   31  \n",
       "12 2000-07-15 14:30:00   9077                   17  \n",
       "13 2001-04-07 01:50:00   9415                   18  \n",
       "14 2012-03-08 19:00:00  11429                   19  \n",
       "15 2001-08-25 23:00:00   9591                   22  \n",
       "16 2014-02-25 11:28:00  11990                   23  \n",
       "17 2002-07-23 04:00:00  10039                    0  \n",
       "18 2000-11-26 17:15:00   9236                   26  \n",
       "19 2003-11-03 12:30:00  10488                   47  \n",
       "20 2005-01-17 10:35:00  10720                   29  \n",
       "21 2003-05-29 00:30:00  10365                   33  \n",
       "22 2001-12-29 03:00:00   9756                    0  \n",
       "23 2006-12-13 10:40:00  10930                   34  \n",
       "24 2002-07-20 22:20:00  10039                    0  \n",
       "25 2013-05-14 02:35:00  11748                   39  \n",
       "26 2002-08-24 03:25:00  10069                    0  \n",
       "27 2013-05-13 19:10:00  11748                   43  \n",
       "28 2003-11-03 01:25:00  10488                   47  \n",
       "29 1998-05-06 08:35:00   8210                   48  \n",
       "30 2005-01-15 00:00:00  10720                   49  \n",
       "31 1997-11-27 14:00:00   8113                    0  \n",
       "32 2001-09-25 20:00:00   9632                   50  \n",
       "33 2004-11-10 03:40:00  10696                    0  \n",
       "34 2001-04-10 00:00:00   9415                    0  \n",
       "35 2000-06-08 09:00:00   9026                    0  \n",
       "36 2000-11-24 22:00:00   9236                    0  \n",
       "37 2011-02-15 07:00:00  11158                    0  \n",
       "38 1997-11-05 04:30:00   8100                    0  \n",
       "39 2005-09-10 01:00:00  10808                    0  \n",
       "40 2011-09-07 15:40:00  11283                    0  \n",
       "41 2013-10-25 22:32:00  11882                    0  \n",
       "42 2001-04-12 10:40:00   9415                    0  \n",
       "43 2005-01-17 16:00:00  10720                   29  \n",
       "44 2000-11-24 15:00:00   9236                    0  \n",
       "45 2004-11-08 20:00:00  10696                    0  \n",
       "46 2000-11-25 19:35:00   9236                    0  \n",
       "47 2002-07-18 08:45:00  10030                    0  \n",
       "48 2000-11-24 22:36:00   9236                    0  \n",
       "49 1999-10-14 10:00:00   8731                    0  "
      ],
      "text/html": "<div>\n<style scoped>\n    .dataframe tbody tr th:only-of-type {\n        vertical-align: middle;\n    }\n\n    .dataframe tbody tr th {\n        vertical-align: top;\n    }\n\n    .dataframe thead th {\n        text-align: right;\n    }\n</style>\n<table border=\"1\" class=\"dataframe\">\n  <thead>\n    <tr style=\"text-align: right;\">\n      <th></th>\n      <th>rank</th>\n      <th>x_classification</th>\n      <th>start_datetime</th>\n      <th>max_datetime</th>\n      <th>end_datetime</th>\n      <th>region</th>\n      <th>integrated with rank</th>\n    </tr>\n  </thead>\n  <tbody>\n    <tr>\n      <th>0</th>\n      <td>1</td>\n      <td>X28.0</td>\n      <td>2003-11-04 20:00:00</td>\n      <td>2003-11-04 19:54:00</td>\n      <td>2003-11-04 00:00:00</td>\n      <td>10486</td>\n      <td>1</td>\n    </tr>\n    <tr>\n      <th>1</th>\n      <td>2</td>\n      <td>X20.0</td>\n      <td>2001-04-02 22:05:00</td>\n      <td>2001-04-02 22:06:00</td>\n      <td>2001-04-03 02:30:00</td>\n      <td>9393</td>\n      <td>2</td>\n    </tr>\n    <tr>\n      <th>2</th>\n      <td>3</td>\n      <td>X17.0</td>\n      <td>2003-10-28 11:10:00</td>\n      <td>2003-10-28 11:30:00</td>\n      <td>2003-10-29 00:00:00</td>\n      <td>10486</td>\n      <td>3</td>\n    </tr>\n    <tr>\n      <th>3</th>\n      <td>4</td>\n      <td>X14.0</td>\n      <td>2001-04-15 14:05:00</td>\n      <td>2001-04-15 14:06:00</td>\n      <td>2001-04-16 13:00:00</td>\n      <td>9415</td>\n      <td>5</td>\n    </tr>\n    <tr>\n      <th>4</th>\n      <td>5</td>\n      <td>X10.0</td>\n      <td>2003-10-29 20:55:00</td>\n      <td>2003-10-29 20:54:00</td>\n      <td>2003-10-29 00:00:00</td>\n      <td>10486</td>\n      <td>6</td>\n    </tr>\n    <tr>\n      <th>5</th>\n      <td>6</td>\n      <td>X9.4</td>\n      <td>1997-11-06 12:20:00</td>\n      <td>1997-11-06 12:10:00</td>\n      <td>1997-11-07 08:30:00</td>\n      <td>8100</td>\n      <td>7</td>\n    </tr>\n    <tr>\n      <th>6</th>\n      <td>7</td>\n      <td>X9.0</td>\n      <td>2006-12-05 10:50:00</td>\n      <td>NaT</td>\n      <td>2006-12-05 20:00:00</td>\n      <td>10930</td>\n      <td>9</td>\n    </tr>\n    <tr>\n      <th>7</th>\n      <td>8</td>\n      <td>X8.3</td>\n      <td>2003-11-02 17:30:00</td>\n      <td>2003-11-02 17:30:00</td>\n      <td>2003-11-03 01:00:00</td>\n      <td>10486</td>\n      <td>10</td>\n    </tr>\n    <tr>\n      <th>8</th>\n      <td>9</td>\n      <td>X7.1</td>\n      <td>2005-01-20 07:15:00</td>\n      <td>2005-01-20 06:54:00</td>\n      <td>2005-01-20 16:30:00</td>\n      <td>10720</td>\n      <td>12</td>\n    </tr>\n    <tr>\n      <th>9</th>\n      <td>10</td>\n      <td>X6.9</td>\n      <td>2011-08-09 08:20:00</td>\n      <td>2011-08-09 08:12:00</td>\n      <td>2011-08-09 08:35:00</td>\n      <td>11263</td>\n      <td>13</td>\n    </tr>\n    <tr>\n      <th>10</th>\n      <td>11</td>\n      <td>X6.5</td>\n      <td>2006-12-06 19:00:00</td>\n      <td>NaT</td>\n      <td>2006-12-08 00:00:00</td>\n      <td>10930</td>\n      <td>14</td>\n    </tr>\n    <tr>\n      <th>11</th>\n      <td>12</td>\n      <td>X6.2</td>\n      <td>2005-09-09 19:45:00</td>\n      <td>2005-09-09 19:48:00</td>\n      <td>2005-09-09 22:00:00</td>\n      <td>10808</td>\n      <td>31</td>\n    </tr>\n    <tr>\n      <th>12</th>\n      <td>13</td>\n      <td>X5.7</td>\n      <td>2000-07-14 10:30:00</td>\n      <td>2000-07-14 10:54:00</td>\n      <td>2000-07-15 14:30:00</td>\n      <td>9077</td>\n      <td>17</td>\n    </tr>\n    <tr>\n      <th>13</th>\n      <td>14</td>\n      <td>X5.6</td>\n      <td>2001-04-06 19:35:00</td>\n      <td>2001-04-06 19:30:00</td>\n      <td>2001-04-07 01:50:00</td>\n      <td>9415</td>\n      <td>18</td>\n    </tr>\n    <tr>\n      <th>14</th>\n      <td>15</td>\n      <td>X5.4</td>\n      <td>2012-03-07 01:00:00</td>\n      <td>2012-03-07 00:24:00</td>\n      <td>2012-03-08 19:00:00</td>\n      <td>11429</td>\n      <td>19</td>\n    </tr>\n    <tr>\n      <th>15</th>\n      <td>16</td>\n      <td>X5.3</td>\n      <td>2001-08-25 16:50:00</td>\n      <td>2001-08-25 16:50:00</td>\n      <td>2001-08-25 23:00:00</td>\n      <td>9591</td>\n      <td>22</td>\n    </tr>\n    <tr>\n      <th>16</th>\n      <td>17</td>\n      <td>X4.9</td>\n      <td>2014-02-25 00:56:00</td>\n      <td>2014-02-25 01:25:00</td>\n      <td>2014-02-25 11:28:00</td>\n      <td>11990</td>\n      <td>23</td>\n    </tr>\n    <tr>\n      <th>17</th>\n      <td>18</td>\n      <td>X4.8</td>\n      <td>2002-07-23 00:50:00</td>\n      <td>2002-07-23 00:42:00</td>\n      <td>2002-07-23 04:00:00</td>\n      <td>10039</td>\n      <td>0</td>\n    </tr>\n    <tr>\n      <th>18</th>\n      <td>19</td>\n      <td>X4.0</td>\n      <td>2000-11-26 17:00:00</td>\n      <td>2000-11-26 17:06:00</td>\n      <td>2000-11-26 17:15:00</td>\n      <td>9236</td>\n      <td>26</td>\n    </tr>\n    <tr>\n      <th>19</th>\n      <td>20</td>\n      <td>X3.9</td>\n      <td>2003-11-03 10:00:00</td>\n      <td>2003-11-03 10:06:00</td>\n      <td>2003-11-03 12:30:00</td>\n      <td>10488</td>\n      <td>47</td>\n    </tr>\n    <tr>\n      <th>20</th>\n      <td>21</td>\n      <td>X3.8</td>\n      <td>2005-01-17 10:00:00</td>\n      <td>2005-01-17 09:54:00</td>\n      <td>2005-01-17 10:35:00</td>\n      <td>10720</td>\n      <td>29</td>\n    </tr>\n    <tr>\n      <th>21</th>\n      <td>22</td>\n      <td>X3.6</td>\n      <td>2003-05-28 01:00:00</td>\n      <td>2003-05-28 00:50:00</td>\n      <td>2003-05-29 00:30:00</td>\n      <td>10365</td>\n      <td>33</td>\n    </tr>\n    <tr>\n      <th>22</th>\n      <td>23</td>\n      <td>X3.4</td>\n      <td>2001-12-28 20:35:00</td>\n      <td>2001-12-28 20:30:00</td>\n      <td>2001-12-29 03:00:00</td>\n      <td>9756</td>\n      <td>0</td>\n    </tr>\n    <tr>\n      <th>23</th>\n      <td>24</td>\n      <td>X3.4</td>\n      <td>2006-12-13 02:45:00</td>\n      <td>2006-12-13 02:54:00</td>\n      <td>2006-12-13 10:40:00</td>\n      <td>10930</td>\n      <td>34</td>\n    </tr>\n    <tr>\n      <th>24</th>\n      <td>25</td>\n      <td>X3.3</td>\n      <td>2002-07-20 21:30:00</td>\n      <td>2002-07-20 22:06:00</td>\n      <td>2002-07-20 22:20:00</td>\n      <td>10039</td>\n      <td>0</td>\n    </tr>\n    <tr>\n      <th>25</th>\n      <td>26</td>\n      <td>X3.2</td>\n      <td>2013-05-14 01:16:00</td>\n      <td>2013-05-14 01:25:00</td>\n      <td>2013-05-14 02:35:00</td>\n      <td>11748</td>\n      <td>39</td>\n    </tr>\n    <tr>\n      <th>26</th>\n      <td>27</td>\n      <td>X3.1</td>\n      <td>2002-08-24 01:45:00</td>\n      <td>2002-08-24 01:27:00</td>\n      <td>2002-08-24 03:25:00</td>\n      <td>10069</td>\n      <td>0</td>\n    </tr>\n    <tr>\n      <th>27</th>\n      <td>28</td>\n      <td>X2.8</td>\n      <td>2013-05-13 16:15:00</td>\n      <td>2013-05-13 16:07:00</td>\n      <td>2013-05-13 19:10:00</td>\n      <td>11748</td>\n      <td>43</td>\n    </tr>\n    <tr>\n      <th>28</th>\n      <td>29</td>\n      <td>X2.7</td>\n      <td>2003-11-03 01:15:00</td>\n      <td>2003-11-03 01:59:00</td>\n      <td>2003-11-03 01:25:00</td>\n      <td>10488</td>\n      <td>47</td>\n    </tr>\n    <tr>\n      <th>29</th>\n      <td>30</td>\n      <td>X2.7</td>\n      <td>1998-05-06 08:25:00</td>\n      <td>1998-05-06 08:29:00</td>\n      <td>1998-05-06 08:35:00</td>\n      <td>8210</td>\n      <td>48</td>\n    </tr>\n    <tr>\n      <th>30</th>\n      <td>31</td>\n      <td>X2.6</td>\n      <td>2005-01-15 23:00:00</td>\n      <td>2005-01-15 23:06:00</td>\n      <td>2005-01-15 00:00:00</td>\n      <td>10720</td>\n      <td>49</td>\n    </tr>\n    <tr>\n      <th>31</th>\n      <td>32</td>\n      <td>X2.6</td>\n      <td>1997-11-27 13:30:00</td>\n      <td>1997-11-27 13:56:00</td>\n      <td>1997-11-27 14:00:00</td>\n      <td>8113</td>\n      <td>0</td>\n    </tr>\n    <tr>\n      <th>32</th>\n      <td>33</td>\n      <td>X2.6</td>\n      <td>2001-09-24 10:45:00</td>\n      <td>2001-09-24 10:30:00</td>\n      <td>2001-09-25 20:00:00</td>\n      <td>9632</td>\n      <td>50</td>\n    </tr>\n    <tr>\n      <th>33</th>\n      <td>34</td>\n      <td>X2.5</td>\n      <td>2004-11-10 02:25:00</td>\n      <td>2004-11-10 02:26:00</td>\n      <td>2004-11-10 03:40:00</td>\n      <td>10696</td>\n      <td>0</td>\n    </tr>\n    <tr>\n      <th>34</th>\n      <td>35</td>\n      <td>X2.3</td>\n      <td>2001-04-10 05:24:00</td>\n      <td>2001-04-10 05:30:00</td>\n      <td>2001-04-10 00:00:00</td>\n      <td>9415</td>\n      <td>0</td>\n    </tr>\n    <tr>\n      <th>35</th>\n      <td>36</td>\n      <td>X2.3</td>\n      <td>2000-06-06 15:20:00</td>\n      <td>2000-06-06 15:54:00</td>\n      <td>2000-06-08 09:00:00</td>\n      <td>9026</td>\n      <td>0</td>\n    </tr>\n    <tr>\n      <th>36</th>\n      <td>37</td>\n      <td>X2.3</td>\n      <td>2000-11-24 15:25:00</td>\n      <td>2000-11-24 15:30:00</td>\n      <td>2000-11-24 22:00:00</td>\n      <td>9236</td>\n      <td>0</td>\n    </tr>\n    <tr>\n      <th>37</th>\n      <td>38</td>\n      <td>X2.2</td>\n      <td>2011-02-15 02:10:00</td>\n      <td>2011-02-15 02:24:00</td>\n      <td>2011-02-15 07:00:00</td>\n      <td>11158</td>\n      <td>0</td>\n    </tr>\n    <tr>\n      <th>38</th>\n      <td>39</td>\n      <td>X2.1</td>\n      <td>1997-11-04 06:00:00</td>\n      <td>1997-11-04 06:10:00</td>\n      <td>1997-11-05 04:30:00</td>\n      <td>8100</td>\n      <td>0</td>\n    </tr>\n    <tr>\n      <th>39</th>\n      <td>40</td>\n      <td>X2.1</td>\n      <td>2005-09-10 21:45:00</td>\n      <td>2005-09-10 21:52:00</td>\n      <td>2005-09-10 01:00:00</td>\n      <td>10808</td>\n      <td>0</td>\n    </tr>\n    <tr>\n      <th>40</th>\n      <td>41</td>\n      <td>X2.1</td>\n      <td>2011-09-06 22:30:00</td>\n      <td>2011-09-06 23:05:00</td>\n      <td>2011-09-07 15:40:00</td>\n      <td>11283</td>\n      <td>0</td>\n    </tr>\n    <tr>\n      <th>41</th>\n      <td>42</td>\n      <td>X2.1</td>\n      <td>2013-10-25 15:08:00</td>\n      <td>2013-10-25 15:12:00</td>\n      <td>2013-10-25 22:32:00</td>\n      <td>11882</td>\n      <td>0</td>\n    </tr>\n    <tr>\n      <th>42</th>\n      <td>43</td>\n      <td>X2.0</td>\n      <td>2001-04-12 10:20:00</td>\n      <td>2001-04-12 10:31:00</td>\n      <td>2001-04-12 10:40:00</td>\n      <td>9415</td>\n      <td>0</td>\n    </tr>\n    <tr>\n      <th>43</th>\n      <td>44</td>\n      <td>X2.0</td>\n      <td>2005-01-17 09:25:00</td>\n      <td>2005-01-17 09:30:00</td>\n      <td>2005-01-17 16:00:00</td>\n      <td>10720</td>\n      <td>29</td>\n    </tr>\n    <tr>\n      <th>44</th>\n      <td>45</td>\n      <td>X2.0</td>\n      <td>2000-11-24 05:10:00</td>\n      <td>2000-11-24 05:30:00</td>\n      <td>2000-11-24 15:00:00</td>\n      <td>9236</td>\n      <td>0</td>\n    </tr>\n    <tr>\n      <th>45</th>\n      <td>46</td>\n      <td>X2.0</td>\n      <td>2004-11-07 16:25:00</td>\n      <td>2004-11-07 16:54:00</td>\n      <td>2004-11-08 20:00:00</td>\n      <td>10696</td>\n      <td>0</td>\n    </tr>\n    <tr>\n      <th>46</th>\n      <td>47</td>\n      <td>X1.9</td>\n      <td>2000-11-25 19:00:00</td>\n      <td>2000-11-25 19:31:00</td>\n      <td>2000-11-25 19:35:00</td>\n      <td>9236</td>\n      <td>0</td>\n    </tr>\n    <tr>\n      <th>47</th>\n      <td>48</td>\n      <td>X1.8</td>\n      <td>2002-07-18 07:55:00</td>\n      <td>2002-07-18 08:06:00</td>\n      <td>2002-07-18 08:45:00</td>\n      <td>10030</td>\n      <td>0</td>\n    </tr>\n    <tr>\n      <th>48</th>\n      <td>49</td>\n      <td>X1.8</td>\n      <td>2000-11-24 22:24:00</td>\n      <td>2000-11-24 22:06:00</td>\n      <td>2000-11-24 22:36:00</td>\n      <td>9236</td>\n      <td>0</td>\n    </tr>\n    <tr>\n      <th>49</th>\n      <td>50</td>\n      <td>X1.8</td>\n      <td>1999-10-14 09:10:00</td>\n      <td>1999-10-14 09:26:00</td>\n      <td>1999-10-14 10:00:00</td>\n      <td>8731</td>\n      <td>0</td>\n    </tr>\n  </tbody>\n</table>\n</div>"
     },
     "metadata": {},
     "execution_count": 22
    }
   ],
   "source": [
    "# \n",
    "nasa_integrated = replica\n",
    "nasa_integrated['integrated with rank'] = '0'\n",
    "for i, row_s in space.iterrows():\n",
    "    for j, row_n in nasa_integrated.iterrows():\n",
    "        if( (row_s['start_datetime'].date() == row_n['start_datetime'].date()) and (str(row_s['region'])[-3:] == str(row_n['region'])[-3:]) ):\n",
    "            nasa_integrated['integrated with rank'][j] = i+1\n",
    "\n",
    "nasa_integrated"
   ]
  },
  {
   "source": [
    "## Question 3: Analysis\n",
    "Here I decided to plot the proportions of Halo CMEs in the top 50 versus the rest of the data. From the results observed, there seemes to be a higher percentage of solar flares that have halo GMEs in the top 50 versus the percentage of solar flares in the rest of the data. This shows that solar flares with halo GMEs have a higher probability of being part of the top 50 solar flares. To calculate this, I used a function that returns all the rows that satisfy the condition of having the value \"true\". Witht that, I got the number of rows (which equals the number of solar flares) from the shape of the dataframe.  "
   ],
   "cell_type": "markdown",
   "metadata": {}
  },
  {
   "cell_type": "code",
   "execution_count": 23,
   "metadata": {},
   "outputs": [
    {
     "output_type": "display_data",
     "data": {
      "text/plain": "<Figure size 432x288 with 1 Axes>",
      "image/svg+xml": "<?xml version=\"1.0\" encoding=\"utf-8\" standalone=\"no\"?>\r\n<!DOCTYPE svg PUBLIC \"-//W3C//DTD SVG 1.1//EN\"\r\n  \"http://www.w3.org/Graphics/SVG/1.1/DTD/svg11.dtd\">\r\n<!-- Created with matplotlib (https://matplotlib.org/) -->\r\n<svg height=\"277.314375pt\" version=\"1.1\" viewBox=\"0 0 438.335625 277.314375\" width=\"438.335625pt\" xmlns=\"http://www.w3.org/2000/svg\" xmlns:xlink=\"http://www.w3.org/1999/xlink\">\r\n <defs>\r\n  <style type=\"text/css\">\r\n*{stroke-linecap:butt;stroke-linejoin:round;}\r\n  </style>\r\n </defs>\r\n <g id=\"figure_1\">\r\n  <g id=\"patch_1\">\r\n   <path d=\"M 0 277.314375 \r\nL 438.335625 277.314375 \r\nL 438.335625 0 \r\nL 0 0 \r\nz\r\n\" style=\"fill:none;\"/>\r\n  </g>\r\n  <g id=\"axes_1\">\r\n   <g id=\"patch_2\">\r\n    <path d=\"M 51.767812 239.758125 \r\nL 386.567813 239.758125 \r\nL 386.567813 22.318125 \r\nL 51.767812 22.318125 \r\nz\r\n\" style=\"fill:#ffffff;\"/>\r\n   </g>\r\n   <g id=\"patch_3\">\r\n    <path clip-path=\"url(#pc4cecf2fba)\" d=\"M 66.985994 65.806125 \r\nL 168.44054 65.806125 \r\nL 168.44054 32.672411 \r\nL 66.985994 32.672411 \r\nz\r\n\" style=\"fill:#ff0000;\"/>\r\n   </g>\r\n   <g id=\"patch_4\">\r\n    <path clip-path=\"url(#pc4cecf2fba)\" d=\"M 269.895085 144.378398 \r\nL 371.349631 144.378398 \r\nL 371.349631 32.672411 \r\nL 269.895085 32.672411 \r\nz\r\n\" style=\"fill:#ff0000;\"/>\r\n   </g>\r\n   <g id=\"patch_5\">\r\n    <path clip-path=\"url(#pc4cecf2fba)\" d=\"M 66.985994 239.758125 \r\nL 168.44054 239.758125 \r\nL 168.44054 65.806125 \r\nL 66.985994 65.806125 \r\nz\r\n\" style=\"fill:#0000ff;\"/>\r\n   </g>\r\n   <g id=\"patch_6\">\r\n    <path clip-path=\"url(#pc4cecf2fba)\" d=\"M 269.895085 239.758125 \r\nL 371.349631 239.758125 \r\nL 371.349631 144.378398 \r\nL 269.895085 144.378398 \r\nz\r\n\" style=\"fill:#0000ff;\"/>\r\n   </g>\r\n   <g id=\"matplotlib.axis_1\">\r\n    <g id=\"xtick_1\">\r\n     <g id=\"line2d_1\">\r\n      <defs>\r\n       <path d=\"M 0 0 \r\nL 0 3.5 \r\n\" id=\"m3f7f2418eb\" style=\"stroke:#000000;stroke-width:0.8;\"/>\r\n      </defs>\r\n      <g>\r\n       <use style=\"stroke:#000000;stroke-width:0.8;\" x=\"117.713267\" xlink:href=\"#m3f7f2418eb\" y=\"239.758125\"/>\r\n      </g>\r\n     </g>\r\n     <g id=\"text_1\">\r\n      <!-- Top 50 -->\r\n      <defs>\r\n       <path d=\"M -0.296875 72.90625 \r\nL 61.375 72.90625 \r\nL 61.375 64.59375 \r\nL 35.5 64.59375 \r\nL 35.5 0 \r\nL 25.59375 0 \r\nL 25.59375 64.59375 \r\nL -0.296875 64.59375 \r\nz\r\n\" id=\"DejaVuSans-84\"/>\r\n       <path d=\"M 30.609375 48.390625 \r\nQ 23.390625 48.390625 19.1875 42.75 \r\nQ 14.984375 37.109375 14.984375 27.296875 \r\nQ 14.984375 17.484375 19.15625 11.84375 \r\nQ 23.34375 6.203125 30.609375 6.203125 \r\nQ 37.796875 6.203125 41.984375 11.859375 \r\nQ 46.1875 17.53125 46.1875 27.296875 \r\nQ 46.1875 37.015625 41.984375 42.703125 \r\nQ 37.796875 48.390625 30.609375 48.390625 \r\nz\r\nM 30.609375 56 \r\nQ 42.328125 56 49.015625 48.375 \r\nQ 55.71875 40.765625 55.71875 27.296875 \r\nQ 55.71875 13.875 49.015625 6.21875 \r\nQ 42.328125 -1.421875 30.609375 -1.421875 \r\nQ 18.84375 -1.421875 12.171875 6.21875 \r\nQ 5.515625 13.875 5.515625 27.296875 \r\nQ 5.515625 40.765625 12.171875 48.375 \r\nQ 18.84375 56 30.609375 56 \r\nz\r\n\" id=\"DejaVuSans-111\"/>\r\n       <path d=\"M 18.109375 8.203125 \r\nL 18.109375 -20.796875 \r\nL 9.078125 -20.796875 \r\nL 9.078125 54.6875 \r\nL 18.109375 54.6875 \r\nL 18.109375 46.390625 \r\nQ 20.953125 51.265625 25.265625 53.625 \r\nQ 29.59375 56 35.59375 56 \r\nQ 45.5625 56 51.78125 48.09375 \r\nQ 58.015625 40.1875 58.015625 27.296875 \r\nQ 58.015625 14.40625 51.78125 6.484375 \r\nQ 45.5625 -1.421875 35.59375 -1.421875 \r\nQ 29.59375 -1.421875 25.265625 0.953125 \r\nQ 20.953125 3.328125 18.109375 8.203125 \r\nz\r\nM 48.6875 27.296875 \r\nQ 48.6875 37.203125 44.609375 42.84375 \r\nQ 40.53125 48.484375 33.40625 48.484375 \r\nQ 26.265625 48.484375 22.1875 42.84375 \r\nQ 18.109375 37.203125 18.109375 27.296875 \r\nQ 18.109375 17.390625 22.1875 11.75 \r\nQ 26.265625 6.109375 33.40625 6.109375 \r\nQ 40.53125 6.109375 44.609375 11.75 \r\nQ 48.6875 17.390625 48.6875 27.296875 \r\nz\r\n\" id=\"DejaVuSans-112\"/>\r\n       <path id=\"DejaVuSans-32\"/>\r\n       <path d=\"M 10.796875 72.90625 \r\nL 49.515625 72.90625 \r\nL 49.515625 64.59375 \r\nL 19.828125 64.59375 \r\nL 19.828125 46.734375 \r\nQ 21.96875 47.46875 24.109375 47.828125 \r\nQ 26.265625 48.1875 28.421875 48.1875 \r\nQ 40.625 48.1875 47.75 41.5 \r\nQ 54.890625 34.8125 54.890625 23.390625 \r\nQ 54.890625 11.625 47.5625 5.09375 \r\nQ 40.234375 -1.421875 26.90625 -1.421875 \r\nQ 22.3125 -1.421875 17.546875 -0.640625 \r\nQ 12.796875 0.140625 7.71875 1.703125 \r\nL 7.71875 11.625 \r\nQ 12.109375 9.234375 16.796875 8.0625 \r\nQ 21.484375 6.890625 26.703125 6.890625 \r\nQ 35.15625 6.890625 40.078125 11.328125 \r\nQ 45.015625 15.765625 45.015625 23.390625 \r\nQ 45.015625 31 40.078125 35.4375 \r\nQ 35.15625 39.890625 26.703125 39.890625 \r\nQ 22.75 39.890625 18.8125 39.015625 \r\nQ 14.890625 38.140625 10.796875 36.28125 \r\nz\r\n\" id=\"DejaVuSans-53\"/>\r\n       <path d=\"M 31.78125 66.40625 \r\nQ 24.171875 66.40625 20.328125 58.90625 \r\nQ 16.5 51.421875 16.5 36.375 \r\nQ 16.5 21.390625 20.328125 13.890625 \r\nQ 24.171875 6.390625 31.78125 6.390625 \r\nQ 39.453125 6.390625 43.28125 13.890625 \r\nQ 47.125 21.390625 47.125 36.375 \r\nQ 47.125 51.421875 43.28125 58.90625 \r\nQ 39.453125 66.40625 31.78125 66.40625 \r\nz\r\nM 31.78125 74.21875 \r\nQ 44.046875 74.21875 50.515625 64.515625 \r\nQ 56.984375 54.828125 56.984375 36.375 \r\nQ 56.984375 17.96875 50.515625 8.265625 \r\nQ 44.046875 -1.421875 31.78125 -1.421875 \r\nQ 19.53125 -1.421875 13.0625 8.265625 \r\nQ 6.59375 17.96875 6.59375 36.375 \r\nQ 6.59375 54.828125 13.0625 64.515625 \r\nQ 19.53125 74.21875 31.78125 74.21875 \r\nz\r\n\" id=\"DejaVuSans-48\"/>\r\n      </defs>\r\n      <g transform=\"translate(101.324205 254.356562)scale(0.1 -0.1)\">\r\n       <use xlink:href=\"#DejaVuSans-84\"/>\r\n       <use x=\"44.083984\" xlink:href=\"#DejaVuSans-111\"/>\r\n       <use x=\"105.265625\" xlink:href=\"#DejaVuSans-112\"/>\r\n       <use x=\"168.742188\" xlink:href=\"#DejaVuSans-32\"/>\r\n       <use x=\"200.529297\" xlink:href=\"#DejaVuSans-53\"/>\r\n       <use x=\"264.152344\" xlink:href=\"#DejaVuSans-48\"/>\r\n      </g>\r\n     </g>\r\n    </g>\r\n    <g id=\"xtick_2\">\r\n     <g id=\"line2d_2\">\r\n      <g>\r\n       <use style=\"stroke:#000000;stroke-width:0.8;\" x=\"320.622358\" xlink:href=\"#m3f7f2418eb\" y=\"239.758125\"/>\r\n      </g>\r\n     </g>\r\n     <g id=\"text_2\">\r\n      <!-- All Data -->\r\n      <defs>\r\n       <path d=\"M 34.1875 63.1875 \r\nL 20.796875 26.90625 \r\nL 47.609375 26.90625 \r\nz\r\nM 28.609375 72.90625 \r\nL 39.796875 72.90625 \r\nL 67.578125 0 \r\nL 57.328125 0 \r\nL 50.6875 18.703125 \r\nL 17.828125 18.703125 \r\nL 11.1875 0 \r\nL 0.78125 0 \r\nz\r\n\" id=\"DejaVuSans-65\"/>\r\n       <path d=\"M 9.421875 75.984375 \r\nL 18.40625 75.984375 \r\nL 18.40625 0 \r\nL 9.421875 0 \r\nz\r\n\" id=\"DejaVuSans-108\"/>\r\n       <path d=\"M 19.671875 64.796875 \r\nL 19.671875 8.109375 \r\nL 31.59375 8.109375 \r\nQ 46.6875 8.109375 53.6875 14.9375 \r\nQ 60.6875 21.78125 60.6875 36.53125 \r\nQ 60.6875 51.171875 53.6875 57.984375 \r\nQ 46.6875 64.796875 31.59375 64.796875 \r\nz\r\nM 9.8125 72.90625 \r\nL 30.078125 72.90625 \r\nQ 51.265625 72.90625 61.171875 64.09375 \r\nQ 71.09375 55.28125 71.09375 36.53125 \r\nQ 71.09375 17.671875 61.125 8.828125 \r\nQ 51.171875 0 30.078125 0 \r\nL 9.8125 0 \r\nz\r\n\" id=\"DejaVuSans-68\"/>\r\n       <path d=\"M 34.28125 27.484375 \r\nQ 23.390625 27.484375 19.1875 25 \r\nQ 14.984375 22.515625 14.984375 16.5 \r\nQ 14.984375 11.71875 18.140625 8.90625 \r\nQ 21.296875 6.109375 26.703125 6.109375 \r\nQ 34.1875 6.109375 38.703125 11.40625 \r\nQ 43.21875 16.703125 43.21875 25.484375 \r\nL 43.21875 27.484375 \r\nz\r\nM 52.203125 31.203125 \r\nL 52.203125 0 \r\nL 43.21875 0 \r\nL 43.21875 8.296875 \r\nQ 40.140625 3.328125 35.546875 0.953125 \r\nQ 30.953125 -1.421875 24.3125 -1.421875 \r\nQ 15.921875 -1.421875 10.953125 3.296875 \r\nQ 6 8.015625 6 15.921875 \r\nQ 6 25.140625 12.171875 29.828125 \r\nQ 18.359375 34.515625 30.609375 34.515625 \r\nL 43.21875 34.515625 \r\nL 43.21875 35.40625 \r\nQ 43.21875 41.609375 39.140625 45 \r\nQ 35.0625 48.390625 27.6875 48.390625 \r\nQ 23 48.390625 18.546875 47.265625 \r\nQ 14.109375 46.140625 10.015625 43.890625 \r\nL 10.015625 52.203125 \r\nQ 14.9375 54.109375 19.578125 55.046875 \r\nQ 24.21875 56 28.609375 56 \r\nQ 40.484375 56 46.34375 49.84375 \r\nQ 52.203125 43.703125 52.203125 31.203125 \r\nz\r\n\" id=\"DejaVuSans-97\"/>\r\n       <path d=\"M 18.3125 70.21875 \r\nL 18.3125 54.6875 \r\nL 36.8125 54.6875 \r\nL 36.8125 47.703125 \r\nL 18.3125 47.703125 \r\nL 18.3125 18.015625 \r\nQ 18.3125 11.328125 20.140625 9.421875 \r\nQ 21.96875 7.515625 27.59375 7.515625 \r\nL 36.8125 7.515625 \r\nL 36.8125 0 \r\nL 27.59375 0 \r\nQ 17.1875 0 13.234375 3.875 \r\nQ 9.28125 7.765625 9.28125 18.015625 \r\nL 9.28125 47.703125 \r\nL 2.6875 47.703125 \r\nL 2.6875 54.6875 \r\nL 9.28125 54.6875 \r\nL 9.28125 70.21875 \r\nz\r\n\" id=\"DejaVuSans-116\"/>\r\n      </defs>\r\n      <g transform=\"translate(300.896577 254.356562)scale(0.1 -0.1)\">\r\n       <use xlink:href=\"#DejaVuSans-65\"/>\r\n       <use x=\"68.408203\" xlink:href=\"#DejaVuSans-108\"/>\r\n       <use x=\"96.191406\" xlink:href=\"#DejaVuSans-108\"/>\r\n       <use x=\"123.974609\" xlink:href=\"#DejaVuSans-32\"/>\r\n       <use x=\"155.761719\" xlink:href=\"#DejaVuSans-68\"/>\r\n       <use x=\"232.763672\" xlink:href=\"#DejaVuSans-97\"/>\r\n       <use x=\"294.042969\" xlink:href=\"#DejaVuSans-116\"/>\r\n       <use x=\"333.251953\" xlink:href=\"#DejaVuSans-97\"/>\r\n      </g>\r\n     </g>\r\n    </g>\r\n    <g id=\"text_3\">\r\n     <!-- Data -->\r\n     <g transform=\"translate(207.229531 268.034687)scale(0.1 -0.1)\">\r\n      <use xlink:href=\"#DejaVuSans-68\"/>\r\n      <use x=\"77.001953\" xlink:href=\"#DejaVuSans-97\"/>\r\n      <use x=\"138.28125\" xlink:href=\"#DejaVuSans-116\"/>\r\n      <use x=\"177.490234\" xlink:href=\"#DejaVuSans-97\"/>\r\n     </g>\r\n    </g>\r\n   </g>\r\n   <g id=\"matplotlib.axis_2\">\r\n    <g id=\"ytick_1\">\r\n     <g id=\"line2d_3\">\r\n      <defs>\r\n       <path d=\"M 0 0 \r\nL -3.5 0 \r\n\" id=\"m7d5fda9856\" style=\"stroke:#000000;stroke-width:0.8;\"/>\r\n      </defs>\r\n      <g>\r\n       <use style=\"stroke:#000000;stroke-width:0.8;\" x=\"51.767812\" xlink:href=\"#m7d5fda9856\" y=\"239.758125\"/>\r\n      </g>\r\n     </g>\r\n     <g id=\"text_4\">\r\n      <!-- 0 -->\r\n      <g transform=\"translate(38.405312 243.557344)scale(0.1 -0.1)\">\r\n       <use xlink:href=\"#DejaVuSans-48\"/>\r\n      </g>\r\n     </g>\r\n    </g>\r\n    <g id=\"ytick_2\">\r\n     <g id=\"line2d_4\">\r\n      <g>\r\n       <use style=\"stroke:#000000;stroke-width:0.8;\" x=\"51.767812\" xlink:href=\"#m7d5fda9856\" y=\"198.340982\"/>\r\n      </g>\r\n     </g>\r\n     <g id=\"text_5\">\r\n      <!-- 20 -->\r\n      <defs>\r\n       <path d=\"M 19.1875 8.296875 \r\nL 53.609375 8.296875 \r\nL 53.609375 0 \r\nL 7.328125 0 \r\nL 7.328125 8.296875 \r\nQ 12.9375 14.109375 22.625 23.890625 \r\nQ 32.328125 33.6875 34.8125 36.53125 \r\nQ 39.546875 41.84375 41.421875 45.53125 \r\nQ 43.3125 49.21875 43.3125 52.78125 \r\nQ 43.3125 58.59375 39.234375 62.25 \r\nQ 35.15625 65.921875 28.609375 65.921875 \r\nQ 23.96875 65.921875 18.8125 64.3125 \r\nQ 13.671875 62.703125 7.8125 59.421875 \r\nL 7.8125 69.390625 \r\nQ 13.765625 71.78125 18.9375 73 \r\nQ 24.125 74.21875 28.421875 74.21875 \r\nQ 39.75 74.21875 46.484375 68.546875 \r\nQ 53.21875 62.890625 53.21875 53.421875 \r\nQ 53.21875 48.921875 51.53125 44.890625 \r\nQ 49.859375 40.875 45.40625 35.40625 \r\nQ 44.1875 33.984375 37.640625 27.21875 \r\nQ 31.109375 20.453125 19.1875 8.296875 \r\nz\r\n\" id=\"DejaVuSans-50\"/>\r\n      </defs>\r\n      <g transform=\"translate(32.042812 202.140201)scale(0.1 -0.1)\">\r\n       <use xlink:href=\"#DejaVuSans-50\"/>\r\n       <use x=\"63.623047\" xlink:href=\"#DejaVuSans-48\"/>\r\n      </g>\r\n     </g>\r\n    </g>\r\n    <g id=\"ytick_3\">\r\n     <g id=\"line2d_5\">\r\n      <g>\r\n       <use style=\"stroke:#000000;stroke-width:0.8;\" x=\"51.767812\" xlink:href=\"#m7d5fda9856\" y=\"156.923839\"/>\r\n      </g>\r\n     </g>\r\n     <g id=\"text_6\">\r\n      <!-- 40 -->\r\n      <defs>\r\n       <path d=\"M 37.796875 64.3125 \r\nL 12.890625 25.390625 \r\nL 37.796875 25.390625 \r\nz\r\nM 35.203125 72.90625 \r\nL 47.609375 72.90625 \r\nL 47.609375 25.390625 \r\nL 58.015625 25.390625 \r\nL 58.015625 17.1875 \r\nL 47.609375 17.1875 \r\nL 47.609375 0 \r\nL 37.796875 0 \r\nL 37.796875 17.1875 \r\nL 4.890625 17.1875 \r\nL 4.890625 26.703125 \r\nz\r\n\" id=\"DejaVuSans-52\"/>\r\n      </defs>\r\n      <g transform=\"translate(32.042812 160.723058)scale(0.1 -0.1)\">\r\n       <use xlink:href=\"#DejaVuSans-52\"/>\r\n       <use x=\"63.623047\" xlink:href=\"#DejaVuSans-48\"/>\r\n      </g>\r\n     </g>\r\n    </g>\r\n    <g id=\"ytick_4\">\r\n     <g id=\"line2d_6\">\r\n      <g>\r\n       <use style=\"stroke:#000000;stroke-width:0.8;\" x=\"51.767812\" xlink:href=\"#m7d5fda9856\" y=\"115.506696\"/>\r\n      </g>\r\n     </g>\r\n     <g id=\"text_7\">\r\n      <!-- 60 -->\r\n      <defs>\r\n       <path d=\"M 33.015625 40.375 \r\nQ 26.375 40.375 22.484375 35.828125 \r\nQ 18.609375 31.296875 18.609375 23.390625 \r\nQ 18.609375 15.53125 22.484375 10.953125 \r\nQ 26.375 6.390625 33.015625 6.390625 \r\nQ 39.65625 6.390625 43.53125 10.953125 \r\nQ 47.40625 15.53125 47.40625 23.390625 \r\nQ 47.40625 31.296875 43.53125 35.828125 \r\nQ 39.65625 40.375 33.015625 40.375 \r\nz\r\nM 52.59375 71.296875 \r\nL 52.59375 62.3125 \r\nQ 48.875 64.0625 45.09375 64.984375 \r\nQ 41.3125 65.921875 37.59375 65.921875 \r\nQ 27.828125 65.921875 22.671875 59.328125 \r\nQ 17.53125 52.734375 16.796875 39.40625 \r\nQ 19.671875 43.65625 24.015625 45.921875 \r\nQ 28.375 48.1875 33.59375 48.1875 \r\nQ 44.578125 48.1875 50.953125 41.515625 \r\nQ 57.328125 34.859375 57.328125 23.390625 \r\nQ 57.328125 12.15625 50.6875 5.359375 \r\nQ 44.046875 -1.421875 33.015625 -1.421875 \r\nQ 20.359375 -1.421875 13.671875 8.265625 \r\nQ 6.984375 17.96875 6.984375 36.375 \r\nQ 6.984375 53.65625 15.1875 63.9375 \r\nQ 23.390625 74.21875 37.203125 74.21875 \r\nQ 40.921875 74.21875 44.703125 73.484375 \r\nQ 48.484375 72.75 52.59375 71.296875 \r\nz\r\n\" id=\"DejaVuSans-54\"/>\r\n      </defs>\r\n      <g transform=\"translate(32.042812 119.305915)scale(0.1 -0.1)\">\r\n       <use xlink:href=\"#DejaVuSans-54\"/>\r\n       <use x=\"63.623047\" xlink:href=\"#DejaVuSans-48\"/>\r\n      </g>\r\n     </g>\r\n    </g>\r\n    <g id=\"ytick_5\">\r\n     <g id=\"line2d_7\">\r\n      <g>\r\n       <use style=\"stroke:#000000;stroke-width:0.8;\" x=\"51.767812\" xlink:href=\"#m7d5fda9856\" y=\"74.089554\"/>\r\n      </g>\r\n     </g>\r\n     <g id=\"text_8\">\r\n      <!-- 80 -->\r\n      <defs>\r\n       <path d=\"M 31.78125 34.625 \r\nQ 24.75 34.625 20.71875 30.859375 \r\nQ 16.703125 27.09375 16.703125 20.515625 \r\nQ 16.703125 13.921875 20.71875 10.15625 \r\nQ 24.75 6.390625 31.78125 6.390625 \r\nQ 38.8125 6.390625 42.859375 10.171875 \r\nQ 46.921875 13.96875 46.921875 20.515625 \r\nQ 46.921875 27.09375 42.890625 30.859375 \r\nQ 38.875 34.625 31.78125 34.625 \r\nz\r\nM 21.921875 38.8125 \r\nQ 15.578125 40.375 12.03125 44.71875 \r\nQ 8.5 49.078125 8.5 55.328125 \r\nQ 8.5 64.0625 14.71875 69.140625 \r\nQ 20.953125 74.21875 31.78125 74.21875 \r\nQ 42.671875 74.21875 48.875 69.140625 \r\nQ 55.078125 64.0625 55.078125 55.328125 \r\nQ 55.078125 49.078125 51.53125 44.71875 \r\nQ 48 40.375 41.703125 38.8125 \r\nQ 48.828125 37.15625 52.796875 32.3125 \r\nQ 56.78125 27.484375 56.78125 20.515625 \r\nQ 56.78125 9.90625 50.3125 4.234375 \r\nQ 43.84375 -1.421875 31.78125 -1.421875 \r\nQ 19.734375 -1.421875 13.25 4.234375 \r\nQ 6.78125 9.90625 6.78125 20.515625 \r\nQ 6.78125 27.484375 10.78125 32.3125 \r\nQ 14.796875 37.15625 21.921875 38.8125 \r\nz\r\nM 18.3125 54.390625 \r\nQ 18.3125 48.734375 21.84375 45.5625 \r\nQ 25.390625 42.390625 31.78125 42.390625 \r\nQ 38.140625 42.390625 41.71875 45.5625 \r\nQ 45.3125 48.734375 45.3125 54.390625 \r\nQ 45.3125 60.0625 41.71875 63.234375 \r\nQ 38.140625 66.40625 31.78125 66.40625 \r\nQ 25.390625 66.40625 21.84375 63.234375 \r\nQ 18.3125 60.0625 18.3125 54.390625 \r\nz\r\n\" id=\"DejaVuSans-56\"/>\r\n      </defs>\r\n      <g transform=\"translate(32.042812 77.888772)scale(0.1 -0.1)\">\r\n       <use xlink:href=\"#DejaVuSans-56\"/>\r\n       <use x=\"63.623047\" xlink:href=\"#DejaVuSans-48\"/>\r\n      </g>\r\n     </g>\r\n    </g>\r\n    <g id=\"ytick_6\">\r\n     <g id=\"line2d_8\">\r\n      <g>\r\n       <use style=\"stroke:#000000;stroke-width:0.8;\" x=\"51.767812\" xlink:href=\"#m7d5fda9856\" y=\"32.672411\"/>\r\n      </g>\r\n     </g>\r\n     <g id=\"text_9\">\r\n      <!-- 100 -->\r\n      <defs>\r\n       <path d=\"M 12.40625 8.296875 \r\nL 28.515625 8.296875 \r\nL 28.515625 63.921875 \r\nL 10.984375 60.40625 \r\nL 10.984375 69.390625 \r\nL 28.421875 72.90625 \r\nL 38.28125 72.90625 \r\nL 38.28125 8.296875 \r\nL 54.390625 8.296875 \r\nL 54.390625 0 \r\nL 12.40625 0 \r\nz\r\n\" id=\"DejaVuSans-49\"/>\r\n      </defs>\r\n      <g transform=\"translate(25.680312 36.471629)scale(0.1 -0.1)\">\r\n       <use xlink:href=\"#DejaVuSans-49\"/>\r\n       <use x=\"63.623047\" xlink:href=\"#DejaVuSans-48\"/>\r\n       <use x=\"127.246094\" xlink:href=\"#DejaVuSans-48\"/>\r\n      </g>\r\n     </g>\r\n    </g>\r\n    <g id=\"text_10\">\r\n     <!-- Percentage -->\r\n     <defs>\r\n      <path d=\"M 19.671875 64.796875 \r\nL 19.671875 37.40625 \r\nL 32.078125 37.40625 \r\nQ 38.96875 37.40625 42.71875 40.96875 \r\nQ 46.484375 44.53125 46.484375 51.125 \r\nQ 46.484375 57.671875 42.71875 61.234375 \r\nQ 38.96875 64.796875 32.078125 64.796875 \r\nz\r\nM 9.8125 72.90625 \r\nL 32.078125 72.90625 \r\nQ 44.34375 72.90625 50.609375 67.359375 \r\nQ 56.890625 61.8125 56.890625 51.125 \r\nQ 56.890625 40.328125 50.609375 34.8125 \r\nQ 44.34375 29.296875 32.078125 29.296875 \r\nL 19.671875 29.296875 \r\nL 19.671875 0 \r\nL 9.8125 0 \r\nz\r\n\" id=\"DejaVuSans-80\"/>\r\n      <path d=\"M 56.203125 29.59375 \r\nL 56.203125 25.203125 \r\nL 14.890625 25.203125 \r\nQ 15.484375 15.921875 20.484375 11.0625 \r\nQ 25.484375 6.203125 34.421875 6.203125 \r\nQ 39.59375 6.203125 44.453125 7.46875 \r\nQ 49.3125 8.734375 54.109375 11.28125 \r\nL 54.109375 2.78125 \r\nQ 49.265625 0.734375 44.1875 -0.34375 \r\nQ 39.109375 -1.421875 33.890625 -1.421875 \r\nQ 20.796875 -1.421875 13.15625 6.1875 \r\nQ 5.515625 13.8125 5.515625 26.8125 \r\nQ 5.515625 40.234375 12.765625 48.109375 \r\nQ 20.015625 56 32.328125 56 \r\nQ 43.359375 56 49.78125 48.890625 \r\nQ 56.203125 41.796875 56.203125 29.59375 \r\nz\r\nM 47.21875 32.234375 \r\nQ 47.125 39.59375 43.09375 43.984375 \r\nQ 39.0625 48.390625 32.421875 48.390625 \r\nQ 24.90625 48.390625 20.390625 44.140625 \r\nQ 15.875 39.890625 15.1875 32.171875 \r\nz\r\n\" id=\"DejaVuSans-101\"/>\r\n      <path d=\"M 41.109375 46.296875 \r\nQ 39.59375 47.171875 37.8125 47.578125 \r\nQ 36.03125 48 33.890625 48 \r\nQ 26.265625 48 22.1875 43.046875 \r\nQ 18.109375 38.09375 18.109375 28.8125 \r\nL 18.109375 0 \r\nL 9.078125 0 \r\nL 9.078125 54.6875 \r\nL 18.109375 54.6875 \r\nL 18.109375 46.1875 \r\nQ 20.953125 51.171875 25.484375 53.578125 \r\nQ 30.03125 56 36.53125 56 \r\nQ 37.453125 56 38.578125 55.875 \r\nQ 39.703125 55.765625 41.0625 55.515625 \r\nz\r\n\" id=\"DejaVuSans-114\"/>\r\n      <path d=\"M 48.78125 52.59375 \r\nL 48.78125 44.1875 \r\nQ 44.96875 46.296875 41.140625 47.34375 \r\nQ 37.3125 48.390625 33.40625 48.390625 \r\nQ 24.65625 48.390625 19.8125 42.84375 \r\nQ 14.984375 37.3125 14.984375 27.296875 \r\nQ 14.984375 17.28125 19.8125 11.734375 \r\nQ 24.65625 6.203125 33.40625 6.203125 \r\nQ 37.3125 6.203125 41.140625 7.25 \r\nQ 44.96875 8.296875 48.78125 10.40625 \r\nL 48.78125 2.09375 \r\nQ 45.015625 0.34375 40.984375 -0.53125 \r\nQ 36.96875 -1.421875 32.421875 -1.421875 \r\nQ 20.0625 -1.421875 12.78125 6.34375 \r\nQ 5.515625 14.109375 5.515625 27.296875 \r\nQ 5.515625 40.671875 12.859375 48.328125 \r\nQ 20.21875 56 33.015625 56 \r\nQ 37.15625 56 41.109375 55.140625 \r\nQ 45.0625 54.296875 48.78125 52.59375 \r\nz\r\n\" id=\"DejaVuSans-99\"/>\r\n      <path d=\"M 54.890625 33.015625 \r\nL 54.890625 0 \r\nL 45.90625 0 \r\nL 45.90625 32.71875 \r\nQ 45.90625 40.484375 42.875 44.328125 \r\nQ 39.84375 48.1875 33.796875 48.1875 \r\nQ 26.515625 48.1875 22.3125 43.546875 \r\nQ 18.109375 38.921875 18.109375 30.90625 \r\nL 18.109375 0 \r\nL 9.078125 0 \r\nL 9.078125 54.6875 \r\nL 18.109375 54.6875 \r\nL 18.109375 46.1875 \r\nQ 21.34375 51.125 25.703125 53.5625 \r\nQ 30.078125 56 35.796875 56 \r\nQ 45.21875 56 50.046875 50.171875 \r\nQ 54.890625 44.34375 54.890625 33.015625 \r\nz\r\n\" id=\"DejaVuSans-110\"/>\r\n      <path d=\"M 45.40625 27.984375 \r\nQ 45.40625 37.75 41.375 43.109375 \r\nQ 37.359375 48.484375 30.078125 48.484375 \r\nQ 22.859375 48.484375 18.828125 43.109375 \r\nQ 14.796875 37.75 14.796875 27.984375 \r\nQ 14.796875 18.265625 18.828125 12.890625 \r\nQ 22.859375 7.515625 30.078125 7.515625 \r\nQ 37.359375 7.515625 41.375 12.890625 \r\nQ 45.40625 18.265625 45.40625 27.984375 \r\nz\r\nM 54.390625 6.78125 \r\nQ 54.390625 -7.171875 48.1875 -13.984375 \r\nQ 42 -20.796875 29.203125 -20.796875 \r\nQ 24.46875 -20.796875 20.265625 -20.09375 \r\nQ 16.0625 -19.390625 12.109375 -17.921875 \r\nL 12.109375 -9.1875 \r\nQ 16.0625 -11.328125 19.921875 -12.34375 \r\nQ 23.78125 -13.375 27.78125 -13.375 \r\nQ 36.625 -13.375 41.015625 -8.765625 \r\nQ 45.40625 -4.15625 45.40625 5.171875 \r\nL 45.40625 9.625 \r\nQ 42.625 4.78125 38.28125 2.390625 \r\nQ 33.9375 0 27.875 0 \r\nQ 17.828125 0 11.671875 7.65625 \r\nQ 5.515625 15.328125 5.515625 27.984375 \r\nQ 5.515625 40.671875 11.671875 48.328125 \r\nQ 17.828125 56 27.875 56 \r\nQ 33.9375 56 38.28125 53.609375 \r\nQ 42.625 51.21875 45.40625 46.390625 \r\nL 45.40625 54.6875 \r\nL 54.390625 54.6875 \r\nz\r\n\" id=\"DejaVuSans-103\"/>\r\n     </defs>\r\n     <g transform=\"translate(19.600625 159.160781)rotate(-90)scale(0.1 -0.1)\">\r\n      <use xlink:href=\"#DejaVuSans-80\"/>\r\n      <use x=\"56.677734\" xlink:href=\"#DejaVuSans-101\"/>\r\n      <use x=\"118.201172\" xlink:href=\"#DejaVuSans-114\"/>\r\n      <use x=\"157.064453\" xlink:href=\"#DejaVuSans-99\"/>\r\n      <use x=\"212.044922\" xlink:href=\"#DejaVuSans-101\"/>\r\n      <use x=\"273.568359\" xlink:href=\"#DejaVuSans-110\"/>\r\n      <use x=\"336.947266\" xlink:href=\"#DejaVuSans-116\"/>\r\n      <use x=\"376.15625\" xlink:href=\"#DejaVuSans-97\"/>\r\n      <use x=\"437.435547\" xlink:href=\"#DejaVuSans-103\"/>\r\n      <use x=\"500.912109\" xlink:href=\"#DejaVuSans-101\"/>\r\n     </g>\r\n    </g>\r\n   </g>\r\n   <g id=\"patch_7\">\r\n    <path d=\"M 51.767812 239.758125 \r\nL 51.767812 22.318125 \r\n\" style=\"fill:none;stroke:#000000;stroke-linecap:square;stroke-linejoin:miter;stroke-width:0.8;\"/>\r\n   </g>\r\n   <g id=\"patch_8\">\r\n    <path d=\"M 386.567813 239.758125 \r\nL 386.567813 22.318125 \r\n\" style=\"fill:none;stroke:#000000;stroke-linecap:square;stroke-linejoin:miter;stroke-width:0.8;\"/>\r\n   </g>\r\n   <g id=\"patch_9\">\r\n    <path d=\"M 51.767812 239.758125 \r\nL 386.567813 239.758125 \r\n\" style=\"fill:none;stroke:#000000;stroke-linecap:square;stroke-linejoin:miter;stroke-width:0.8;\"/>\r\n   </g>\r\n   <g id=\"patch_10\">\r\n    <path d=\"M 51.767812 22.318125 \r\nL 386.567813 22.318125 \r\n\" style=\"fill:none;stroke:#000000;stroke-linecap:square;stroke-linejoin:miter;stroke-width:0.8;\"/>\r\n   </g>\r\n   <g id=\"text_11\">\r\n    <!-- Proportion of Halo CMEs in the top 50 flares vs. the dataset as a whole -->\r\n    <defs>\r\n     <path d=\"M 9.421875 54.6875 \r\nL 18.40625 54.6875 \r\nL 18.40625 0 \r\nL 9.421875 0 \r\nz\r\nM 9.421875 75.984375 \r\nL 18.40625 75.984375 \r\nL 18.40625 64.59375 \r\nL 9.421875 64.59375 \r\nz\r\n\" id=\"DejaVuSans-105\"/>\r\n     <path d=\"M 37.109375 75.984375 \r\nL 37.109375 68.5 \r\nL 28.515625 68.5 \r\nQ 23.6875 68.5 21.796875 66.546875 \r\nQ 19.921875 64.59375 19.921875 59.515625 \r\nL 19.921875 54.6875 \r\nL 34.71875 54.6875 \r\nL 34.71875 47.703125 \r\nL 19.921875 47.703125 \r\nL 19.921875 0 \r\nL 10.890625 0 \r\nL 10.890625 47.703125 \r\nL 2.296875 47.703125 \r\nL 2.296875 54.6875 \r\nL 10.890625 54.6875 \r\nL 10.890625 58.5 \r\nQ 10.890625 67.625 15.140625 71.796875 \r\nQ 19.390625 75.984375 28.609375 75.984375 \r\nz\r\n\" id=\"DejaVuSans-102\"/>\r\n     <path d=\"M 9.8125 72.90625 \r\nL 19.671875 72.90625 \r\nL 19.671875 43.015625 \r\nL 55.515625 43.015625 \r\nL 55.515625 72.90625 \r\nL 65.375 72.90625 \r\nL 65.375 0 \r\nL 55.515625 0 \r\nL 55.515625 34.71875 \r\nL 19.671875 34.71875 \r\nL 19.671875 0 \r\nL 9.8125 0 \r\nz\r\n\" id=\"DejaVuSans-72\"/>\r\n     <path d=\"M 64.40625 67.28125 \r\nL 64.40625 56.890625 \r\nQ 59.421875 61.53125 53.78125 63.8125 \r\nQ 48.140625 66.109375 41.796875 66.109375 \r\nQ 29.296875 66.109375 22.65625 58.46875 \r\nQ 16.015625 50.828125 16.015625 36.375 \r\nQ 16.015625 21.96875 22.65625 14.328125 \r\nQ 29.296875 6.6875 41.796875 6.6875 \r\nQ 48.140625 6.6875 53.78125 8.984375 \r\nQ 59.421875 11.28125 64.40625 15.921875 \r\nL 64.40625 5.609375 \r\nQ 59.234375 2.09375 53.4375 0.328125 \r\nQ 47.65625 -1.421875 41.21875 -1.421875 \r\nQ 24.65625 -1.421875 15.125 8.703125 \r\nQ 5.609375 18.84375 5.609375 36.375 \r\nQ 5.609375 53.953125 15.125 64.078125 \r\nQ 24.65625 74.21875 41.21875 74.21875 \r\nQ 47.75 74.21875 53.53125 72.484375 \r\nQ 59.328125 70.75 64.40625 67.28125 \r\nz\r\n\" id=\"DejaVuSans-67\"/>\r\n     <path d=\"M 9.8125 72.90625 \r\nL 24.515625 72.90625 \r\nL 43.109375 23.296875 \r\nL 61.8125 72.90625 \r\nL 76.515625 72.90625 \r\nL 76.515625 0 \r\nL 66.890625 0 \r\nL 66.890625 64.015625 \r\nL 48.09375 14.015625 \r\nL 38.1875 14.015625 \r\nL 19.390625 64.015625 \r\nL 19.390625 0 \r\nL 9.8125 0 \r\nz\r\n\" id=\"DejaVuSans-77\"/>\r\n     <path d=\"M 9.8125 72.90625 \r\nL 55.90625 72.90625 \r\nL 55.90625 64.59375 \r\nL 19.671875 64.59375 \r\nL 19.671875 43.015625 \r\nL 54.390625 43.015625 \r\nL 54.390625 34.71875 \r\nL 19.671875 34.71875 \r\nL 19.671875 8.296875 \r\nL 56.78125 8.296875 \r\nL 56.78125 0 \r\nL 9.8125 0 \r\nz\r\n\" id=\"DejaVuSans-69\"/>\r\n     <path d=\"M 44.28125 53.078125 \r\nL 44.28125 44.578125 \r\nQ 40.484375 46.53125 36.375 47.5 \r\nQ 32.28125 48.484375 27.875 48.484375 \r\nQ 21.1875 48.484375 17.84375 46.4375 \r\nQ 14.5 44.390625 14.5 40.28125 \r\nQ 14.5 37.15625 16.890625 35.375 \r\nQ 19.28125 33.59375 26.515625 31.984375 \r\nL 29.59375 31.296875 \r\nQ 39.15625 29.25 43.1875 25.515625 \r\nQ 47.21875 21.78125 47.21875 15.09375 \r\nQ 47.21875 7.46875 41.1875 3.015625 \r\nQ 35.15625 -1.421875 24.609375 -1.421875 \r\nQ 20.21875 -1.421875 15.453125 -0.5625 \r\nQ 10.6875 0.296875 5.421875 2 \r\nL 5.421875 11.28125 \r\nQ 10.40625 8.6875 15.234375 7.390625 \r\nQ 20.0625 6.109375 24.8125 6.109375 \r\nQ 31.15625 6.109375 34.5625 8.28125 \r\nQ 37.984375 10.453125 37.984375 14.40625 \r\nQ 37.984375 18.0625 35.515625 20.015625 \r\nQ 33.0625 21.96875 24.703125 23.78125 \r\nL 21.578125 24.515625 \r\nQ 13.234375 26.265625 9.515625 29.90625 \r\nQ 5.8125 33.546875 5.8125 39.890625 \r\nQ 5.8125 47.609375 11.28125 51.796875 \r\nQ 16.75 56 26.8125 56 \r\nQ 31.78125 56 36.171875 55.265625 \r\nQ 40.578125 54.546875 44.28125 53.078125 \r\nz\r\n\" id=\"DejaVuSans-115\"/>\r\n     <path d=\"M 54.890625 33.015625 \r\nL 54.890625 0 \r\nL 45.90625 0 \r\nL 45.90625 32.71875 \r\nQ 45.90625 40.484375 42.875 44.328125 \r\nQ 39.84375 48.1875 33.796875 48.1875 \r\nQ 26.515625 48.1875 22.3125 43.546875 \r\nQ 18.109375 38.921875 18.109375 30.90625 \r\nL 18.109375 0 \r\nL 9.078125 0 \r\nL 9.078125 75.984375 \r\nL 18.109375 75.984375 \r\nL 18.109375 46.1875 \r\nQ 21.34375 51.125 25.703125 53.5625 \r\nQ 30.078125 56 35.796875 56 \r\nQ 45.21875 56 50.046875 50.171875 \r\nQ 54.890625 44.34375 54.890625 33.015625 \r\nz\r\n\" id=\"DejaVuSans-104\"/>\r\n     <path d=\"M 2.984375 54.6875 \r\nL 12.5 54.6875 \r\nL 29.59375 8.796875 \r\nL 46.6875 54.6875 \r\nL 56.203125 54.6875 \r\nL 35.6875 0 \r\nL 23.484375 0 \r\nz\r\n\" id=\"DejaVuSans-118\"/>\r\n     <path d=\"M 10.6875 12.40625 \r\nL 21 12.40625 \r\nL 21 0 \r\nL 10.6875 0 \r\nz\r\n\" id=\"DejaVuSans-46\"/>\r\n     <path d=\"M 45.40625 46.390625 \r\nL 45.40625 75.984375 \r\nL 54.390625 75.984375 \r\nL 54.390625 0 \r\nL 45.40625 0 \r\nL 45.40625 8.203125 \r\nQ 42.578125 3.328125 38.25 0.953125 \r\nQ 33.9375 -1.421875 27.875 -1.421875 \r\nQ 17.96875 -1.421875 11.734375 6.484375 \r\nQ 5.515625 14.40625 5.515625 27.296875 \r\nQ 5.515625 40.1875 11.734375 48.09375 \r\nQ 17.96875 56 27.875 56 \r\nQ 33.9375 56 38.25 53.625 \r\nQ 42.578125 51.265625 45.40625 46.390625 \r\nz\r\nM 14.796875 27.296875 \r\nQ 14.796875 17.390625 18.875 11.75 \r\nQ 22.953125 6.109375 30.078125 6.109375 \r\nQ 37.203125 6.109375 41.296875 11.75 \r\nQ 45.40625 17.390625 45.40625 27.296875 \r\nQ 45.40625 37.203125 41.296875 42.84375 \r\nQ 37.203125 48.484375 30.078125 48.484375 \r\nQ 22.953125 48.484375 18.875 42.84375 \r\nQ 14.796875 37.203125 14.796875 27.296875 \r\nz\r\n\" id=\"DejaVuSans-100\"/>\r\n     <path d=\"M 4.203125 54.6875 \r\nL 13.1875 54.6875 \r\nL 24.421875 12.015625 \r\nL 35.59375 54.6875 \r\nL 46.1875 54.6875 \r\nL 57.421875 12.015625 \r\nL 68.609375 54.6875 \r\nL 77.59375 54.6875 \r\nL 63.28125 0 \r\nL 52.6875 0 \r\nL 40.921875 44.828125 \r\nL 29.109375 0 \r\nL 18.5 0 \r\nz\r\n\" id=\"DejaVuSans-119\"/>\r\n    </defs>\r\n    <g transform=\"translate(7.2 16.318125)scale(0.12 -0.12)\">\r\n     <use xlink:href=\"#DejaVuSans-80\"/>\r\n     <use x=\"58.552734\" xlink:href=\"#DejaVuSans-114\"/>\r\n     <use x=\"97.416016\" xlink:href=\"#DejaVuSans-111\"/>\r\n     <use x=\"158.597656\" xlink:href=\"#DejaVuSans-112\"/>\r\n     <use x=\"222.074219\" xlink:href=\"#DejaVuSans-111\"/>\r\n     <use x=\"283.255859\" xlink:href=\"#DejaVuSans-114\"/>\r\n     <use x=\"324.369141\" xlink:href=\"#DejaVuSans-116\"/>\r\n     <use x=\"363.578125\" xlink:href=\"#DejaVuSans-105\"/>\r\n     <use x=\"391.361328\" xlink:href=\"#DejaVuSans-111\"/>\r\n     <use x=\"452.542969\" xlink:href=\"#DejaVuSans-110\"/>\r\n     <use x=\"515.921875\" xlink:href=\"#DejaVuSans-32\"/>\r\n     <use x=\"547.708984\" xlink:href=\"#DejaVuSans-111\"/>\r\n     <use x=\"608.890625\" xlink:href=\"#DejaVuSans-102\"/>\r\n     <use x=\"644.095703\" xlink:href=\"#DejaVuSans-32\"/>\r\n     <use x=\"675.882812\" xlink:href=\"#DejaVuSans-72\"/>\r\n     <use x=\"751.078125\" xlink:href=\"#DejaVuSans-97\"/>\r\n     <use x=\"812.357422\" xlink:href=\"#DejaVuSans-108\"/>\r\n     <use x=\"840.140625\" xlink:href=\"#DejaVuSans-111\"/>\r\n     <use x=\"901.322266\" xlink:href=\"#DejaVuSans-32\"/>\r\n     <use x=\"933.109375\" xlink:href=\"#DejaVuSans-67\"/>\r\n     <use x=\"1002.933594\" xlink:href=\"#DejaVuSans-77\"/>\r\n     <use x=\"1089.212891\" xlink:href=\"#DejaVuSans-69\"/>\r\n     <use x=\"1152.396484\" xlink:href=\"#DejaVuSans-115\"/>\r\n     <use x=\"1204.496094\" xlink:href=\"#DejaVuSans-32\"/>\r\n     <use x=\"1236.283203\" xlink:href=\"#DejaVuSans-105\"/>\r\n     <use x=\"1264.066406\" xlink:href=\"#DejaVuSans-110\"/>\r\n     <use x=\"1327.445312\" xlink:href=\"#DejaVuSans-32\"/>\r\n     <use x=\"1359.232422\" xlink:href=\"#DejaVuSans-116\"/>\r\n     <use x=\"1398.441406\" xlink:href=\"#DejaVuSans-104\"/>\r\n     <use x=\"1461.820312\" xlink:href=\"#DejaVuSans-101\"/>\r\n     <use x=\"1523.34375\" xlink:href=\"#DejaVuSans-32\"/>\r\n     <use x=\"1555.130859\" xlink:href=\"#DejaVuSans-116\"/>\r\n     <use x=\"1594.339844\" xlink:href=\"#DejaVuSans-111\"/>\r\n     <use x=\"1655.521484\" xlink:href=\"#DejaVuSans-112\"/>\r\n     <use x=\"1718.998047\" xlink:href=\"#DejaVuSans-32\"/>\r\n     <use x=\"1750.785156\" xlink:href=\"#DejaVuSans-53\"/>\r\n     <use x=\"1814.408203\" xlink:href=\"#DejaVuSans-48\"/>\r\n     <use x=\"1878.03125\" xlink:href=\"#DejaVuSans-32\"/>\r\n     <use x=\"1909.818359\" xlink:href=\"#DejaVuSans-102\"/>\r\n     <use x=\"1945.023438\" xlink:href=\"#DejaVuSans-108\"/>\r\n     <use x=\"1972.806641\" xlink:href=\"#DejaVuSans-97\"/>\r\n     <use x=\"2034.085938\" xlink:href=\"#DejaVuSans-114\"/>\r\n     <use x=\"2072.949219\" xlink:href=\"#DejaVuSans-101\"/>\r\n     <use x=\"2134.472656\" xlink:href=\"#DejaVuSans-115\"/>\r\n     <use x=\"2186.572266\" xlink:href=\"#DejaVuSans-32\"/>\r\n     <use x=\"2218.359375\" xlink:href=\"#DejaVuSans-118\"/>\r\n     <use x=\"2277.539062\" xlink:href=\"#DejaVuSans-115\"/>\r\n     <use x=\"2329.638672\" xlink:href=\"#DejaVuSans-46\"/>\r\n     <use x=\"2361.425781\" xlink:href=\"#DejaVuSans-32\"/>\r\n     <use x=\"2393.212891\" xlink:href=\"#DejaVuSans-116\"/>\r\n     <use x=\"2432.421875\" xlink:href=\"#DejaVuSans-104\"/>\r\n     <use x=\"2495.800781\" xlink:href=\"#DejaVuSans-101\"/>\r\n     <use x=\"2557.324219\" xlink:href=\"#DejaVuSans-32\"/>\r\n     <use x=\"2589.111328\" xlink:href=\"#DejaVuSans-100\"/>\r\n     <use x=\"2652.587891\" xlink:href=\"#DejaVuSans-97\"/>\r\n     <use x=\"2713.867188\" xlink:href=\"#DejaVuSans-116\"/>\r\n     <use x=\"2753.076172\" xlink:href=\"#DejaVuSans-97\"/>\r\n     <use x=\"2814.355469\" xlink:href=\"#DejaVuSans-115\"/>\r\n     <use x=\"2866.455078\" xlink:href=\"#DejaVuSans-101\"/>\r\n     <use x=\"2927.978516\" xlink:href=\"#DejaVuSans-116\"/>\r\n     <use x=\"2967.1875\" xlink:href=\"#DejaVuSans-32\"/>\r\n     <use x=\"2998.974609\" xlink:href=\"#DejaVuSans-97\"/>\r\n     <use x=\"3060.253906\" xlink:href=\"#DejaVuSans-115\"/>\r\n     <use x=\"3112.353516\" xlink:href=\"#DejaVuSans-32\"/>\r\n     <use x=\"3144.140625\" xlink:href=\"#DejaVuSans-97\"/>\r\n     <use x=\"3205.419922\" xlink:href=\"#DejaVuSans-32\"/>\r\n     <use x=\"3237.207031\" xlink:href=\"#DejaVuSans-119\"/>\r\n     <use x=\"3318.994141\" xlink:href=\"#DejaVuSans-104\"/>\r\n     <use x=\"3382.373047\" xlink:href=\"#DejaVuSans-111\"/>\r\n     <use x=\"3443.554688\" xlink:href=\"#DejaVuSans-108\"/>\r\n     <use x=\"3471.337891\" xlink:href=\"#DejaVuSans-101\"/>\r\n    </g>\r\n   </g>\r\n   <g id=\"legend_1\">\r\n    <g id=\"patch_11\">\r\n     <path d=\"M 239.735 59.674375 \r\nL 379.567813 59.674375 \r\nQ 381.567813 59.674375 381.567813 57.674375 \r\nL 381.567813 29.318125 \r\nQ 381.567813 27.318125 379.567813 27.318125 \r\nL 239.735 27.318125 \r\nQ 237.735 27.318125 237.735 29.318125 \r\nL 237.735 57.674375 \r\nQ 237.735 59.674375 239.735 59.674375 \r\nz\r\n\" style=\"fill:#ffffff;opacity:0.8;stroke:#cccccc;stroke-linejoin:miter;\"/>\r\n    </g>\r\n    <g id=\"patch_12\">\r\n     <path d=\"M 241.735 38.916562 \r\nL 261.735 38.916562 \r\nL 261.735 31.916562 \r\nL 241.735 31.916562 \r\nz\r\n\" style=\"fill:#ff0000;\"/>\r\n    </g>\r\n    <g id=\"text_12\">\r\n     <!-- Dont have Halo CMEs -->\r\n     <g transform=\"translate(269.735 38.916562)scale(0.1 -0.1)\">\r\n      <use xlink:href=\"#DejaVuSans-68\"/>\r\n      <use x=\"77.001953\" xlink:href=\"#DejaVuSans-111\"/>\r\n      <use x=\"138.183594\" xlink:href=\"#DejaVuSans-110\"/>\r\n      <use x=\"201.5625\" xlink:href=\"#DejaVuSans-116\"/>\r\n      <use x=\"240.771484\" xlink:href=\"#DejaVuSans-32\"/>\r\n      <use x=\"272.558594\" xlink:href=\"#DejaVuSans-104\"/>\r\n      <use x=\"335.9375\" xlink:href=\"#DejaVuSans-97\"/>\r\n      <use x=\"397.216797\" xlink:href=\"#DejaVuSans-118\"/>\r\n      <use x=\"456.396484\" xlink:href=\"#DejaVuSans-101\"/>\r\n      <use x=\"517.919922\" xlink:href=\"#DejaVuSans-32\"/>\r\n      <use x=\"549.707031\" xlink:href=\"#DejaVuSans-72\"/>\r\n      <use x=\"624.902344\" xlink:href=\"#DejaVuSans-97\"/>\r\n      <use x=\"686.181641\" xlink:href=\"#DejaVuSans-108\"/>\r\n      <use x=\"713.964844\" xlink:href=\"#DejaVuSans-111\"/>\r\n      <use x=\"775.146484\" xlink:href=\"#DejaVuSans-32\"/>\r\n      <use x=\"806.933594\" xlink:href=\"#DejaVuSans-67\"/>\r\n      <use x=\"876.757812\" xlink:href=\"#DejaVuSans-77\"/>\r\n      <use x=\"963.037109\" xlink:href=\"#DejaVuSans-69\"/>\r\n      <use x=\"1026.220703\" xlink:href=\"#DejaVuSans-115\"/>\r\n     </g>\r\n    </g>\r\n    <g id=\"patch_13\">\r\n     <path d=\"M 241.735 53.594687 \r\nL 261.735 53.594687 \r\nL 261.735 46.594687 \r\nL 241.735 46.594687 \r\nz\r\n\" style=\"fill:#0000ff;\"/>\r\n    </g>\r\n    <g id=\"text_13\">\r\n     <!-- Have Halo CMEs -->\r\n     <g transform=\"translate(269.735 53.594687)scale(0.1 -0.1)\">\r\n      <use xlink:href=\"#DejaVuSans-72\"/>\r\n      <use x=\"75.195312\" xlink:href=\"#DejaVuSans-97\"/>\r\n      <use x=\"136.474609\" xlink:href=\"#DejaVuSans-118\"/>\r\n      <use x=\"195.654297\" xlink:href=\"#DejaVuSans-101\"/>\r\n      <use x=\"257.177734\" xlink:href=\"#DejaVuSans-32\"/>\r\n      <use x=\"288.964844\" xlink:href=\"#DejaVuSans-72\"/>\r\n      <use x=\"364.160156\" xlink:href=\"#DejaVuSans-97\"/>\r\n      <use x=\"425.439453\" xlink:href=\"#DejaVuSans-108\"/>\r\n      <use x=\"453.222656\" xlink:href=\"#DejaVuSans-111\"/>\r\n      <use x=\"514.404297\" xlink:href=\"#DejaVuSans-32\"/>\r\n      <use x=\"546.191406\" xlink:href=\"#DejaVuSans-67\"/>\r\n      <use x=\"616.015625\" xlink:href=\"#DejaVuSans-77\"/>\r\n      <use x=\"702.294922\" xlink:href=\"#DejaVuSans-69\"/>\r\n      <use x=\"765.478516\" xlink:href=\"#DejaVuSans-115\"/>\r\n     </g>\r\n    </g>\r\n   </g>\r\n  </g>\r\n </g>\r\n <defs>\r\n  <clipPath id=\"pc4cecf2fba\">\r\n   <rect height=\"217.44\" width=\"334.8\" x=\"51.767812\" y=\"22.318125\"/>\r\n  </clipPath>\r\n </defs>\r\n</svg>\r\n",
      "image/png": "[encoded data removed]"
     },
     "metadata": {
      "needs_background": "light"
     }
    }
   ],
   "source": [
    "import matplotlib.pyplot as plt \n",
    "\n",
    "top_50_count = nasa_top_50.loc[nasa_top_50['is_halo'] == True].shape[0]\n",
    "nasa_count = nasa.loc[nasa['is_halo'] == True].shape[0]\n",
    "\n",
    "nasa_count = nasa_count - top_50_count #remove the duplicates. nasa_count is also counting the ones in the top 50\n",
    "top_50_count = top_50_count / nasa_top_50.shape[0] * 100\n",
    "nasa_count = nasa_count / nasa.shape[0] * 100\n",
    "\n",
    "\n",
    "countries = ['Top 50', 'All Data']\n",
    "bottom = np.array([top_50_count, nasa_count])\n",
    "top = np.array([100-top_50_count, 100-nasa_count])\n",
    "idx = [x for x, _ in enumerate(countries)]\n",
    "\n",
    "plt.bar(idx, top, width=0.5, label='Dont have Halo CMEs', color='red', bottom=bottom)\n",
    "plt.bar(idx, bottom, width=0.5, label='Have Halo CMEs', color='blue')\n",
    "\n",
    "plt.xticks(idx, countries)\n",
    "plt.ylabel(\"Percentage\")\n",
    "plt.xlabel(\"Data\")\n",
    "plt.legend(loc=\"upper right\")\n",
    "plt.title(\"Proportion of Halo CMEs in the top 50 flares vs. the dataset as a whole\")\n",
    "\n",
    "plt.show()"
   ]
  },
  {
   "cell_type": "code",
   "execution_count": null,
   "metadata": {},
   "outputs": [],
   "source": []
  }
 ]
}